{
 "cells": [
  {
   "cell_type": "markdown",
   "metadata": {},
   "source": [
    "#                                   Kabaddi World Cup 2016"
   ]
  },
  {
   "cell_type": "markdown",
   "metadata": {},
   "source": [
    "#### Набор даных предсталвяет  информацию о чемпеонате 2016 по командной игре Кабадди."
   ]
  },
  {
   "cell_type": "code",
   "execution_count": 28,
   "metadata": {
    "collapsed": true
   },
   "outputs": [],
   "source": [
    "import numpy as np\n",
    "import matplotlib.pyplot as plt\n",
    "import pandas as pd\n",
    "%matplotlib inline"
   ]
  },
  {
   "cell_type": "markdown",
   "metadata": {},
   "source": [
    "#### Подключаем данные"
   ]
  },
  {
   "cell_type": "code",
   "execution_count": 29,
   "metadata": {
    "collapsed": false
   },
   "outputs": [],
   "source": [
    "data = pd.read_csv('final_kwc2016.csv', sep = ',', engine = 'python')"
   ]
  },
  {
   "cell_type": "markdown",
   "metadata": {},
   "source": [
    "#### Продемонстрируем наши данные "
   ]
  },
  {
   "cell_type": "code",
   "execution_count": 30,
   "metadata": {
    "collapsed": false
   },
   "outputs": [
    {
     "data": {
      "text/html": [
       "<div>\n",
       "<table border=\"1\" class=\"dataframe\">\n",
       "  <thead>\n",
       "    <tr style=\"text-align: right;\">\n",
       "      <th></th>\n",
       "      <th>gameNo</th>\n",
       "      <th>team</th>\n",
       "      <th>oppTeam</th>\n",
       "      <th>matchStage</th>\n",
       "      <th>tossResult</th>\n",
       "      <th>alloutRec</th>\n",
       "      <th>alloutGiv</th>\n",
       "      <th>sTackleRec</th>\n",
       "      <th>sTackleGiv</th>\n",
       "      <th>touchPntsRec</th>\n",
       "      <th>...</th>\n",
       "      <th>totalPntsRec</th>\n",
       "      <th>totalPntsGiv</th>\n",
       "      <th>touchPntsDiff</th>\n",
       "      <th>bonusPntsDiff</th>\n",
       "      <th>raidPntsDiff</th>\n",
       "      <th>tacklePntsDiff</th>\n",
       "      <th>alloutPntsDiff</th>\n",
       "      <th>extraPntsDiff</th>\n",
       "      <th>totalPntsDiff</th>\n",
       "      <th>matchResult</th>\n",
       "    </tr>\n",
       "  </thead>\n",
       "  <tbody>\n",
       "    <tr>\n",
       "      <th>0</th>\n",
       "      <td>1</td>\n",
       "      <td>IND</td>\n",
       "      <td>KOR</td>\n",
       "      <td>0</td>\n",
       "      <td>0</td>\n",
       "      <td>1</td>\n",
       "      <td>1</td>\n",
       "      <td>1</td>\n",
       "      <td>2</td>\n",
       "      <td>12</td>\n",
       "      <td>...</td>\n",
       "      <td>32</td>\n",
       "      <td>34</td>\n",
       "      <td>0</td>\n",
       "      <td>-3</td>\n",
       "      <td>-3</td>\n",
       "      <td>-1</td>\n",
       "      <td>0</td>\n",
       "      <td>2</td>\n",
       "      <td>-2</td>\n",
       "      <td>0</td>\n",
       "    </tr>\n",
       "    <tr>\n",
       "      <th>1</th>\n",
       "      <td>2</td>\n",
       "      <td>KOR</td>\n",
       "      <td>IND</td>\n",
       "      <td>0</td>\n",
       "      <td>1</td>\n",
       "      <td>1</td>\n",
       "      <td>1</td>\n",
       "      <td>2</td>\n",
       "      <td>1</td>\n",
       "      <td>12</td>\n",
       "      <td>...</td>\n",
       "      <td>34</td>\n",
       "      <td>32</td>\n",
       "      <td>0</td>\n",
       "      <td>3</td>\n",
       "      <td>3</td>\n",
       "      <td>1</td>\n",
       "      <td>0</td>\n",
       "      <td>-2</td>\n",
       "      <td>2</td>\n",
       "      <td>1</td>\n",
       "    </tr>\n",
       "    <tr>\n",
       "      <th>2</th>\n",
       "      <td>3</td>\n",
       "      <td>USA</td>\n",
       "      <td>IRN</td>\n",
       "      <td>0</td>\n",
       "      <td>1</td>\n",
       "      <td>0</td>\n",
       "      <td>4</td>\n",
       "      <td>0</td>\n",
       "      <td>0</td>\n",
       "      <td>11</td>\n",
       "      <td>...</td>\n",
       "      <td>15</td>\n",
       "      <td>52</td>\n",
       "      <td>-11</td>\n",
       "      <td>-3</td>\n",
       "      <td>-14</td>\n",
       "      <td>-11</td>\n",
       "      <td>-8</td>\n",
       "      <td>-4</td>\n",
       "      <td>-37</td>\n",
       "      <td>0</td>\n",
       "    </tr>\n",
       "    <tr>\n",
       "      <th>3</th>\n",
       "      <td>4</td>\n",
       "      <td>IRN</td>\n",
       "      <td>USA</td>\n",
       "      <td>0</td>\n",
       "      <td>0</td>\n",
       "      <td>4</td>\n",
       "      <td>0</td>\n",
       "      <td>0</td>\n",
       "      <td>0</td>\n",
       "      <td>22</td>\n",
       "      <td>...</td>\n",
       "      <td>52</td>\n",
       "      <td>15</td>\n",
       "      <td>11</td>\n",
       "      <td>3</td>\n",
       "      <td>14</td>\n",
       "      <td>11</td>\n",
       "      <td>8</td>\n",
       "      <td>4</td>\n",
       "      <td>37</td>\n",
       "      <td>1</td>\n",
       "    </tr>\n",
       "    <tr>\n",
       "      <th>4</th>\n",
       "      <td>5</td>\n",
       "      <td>ENG</td>\n",
       "      <td>BAN</td>\n",
       "      <td>0</td>\n",
       "      <td>1</td>\n",
       "      <td>0</td>\n",
       "      <td>3</td>\n",
       "      <td>1</td>\n",
       "      <td>0</td>\n",
       "      <td>11</td>\n",
       "      <td>...</td>\n",
       "      <td>18</td>\n",
       "      <td>52</td>\n",
       "      <td>-15</td>\n",
       "      <td>-6</td>\n",
       "      <td>-21</td>\n",
       "      <td>-4</td>\n",
       "      <td>-6</td>\n",
       "      <td>-3</td>\n",
       "      <td>-34</td>\n",
       "      <td>0</td>\n",
       "    </tr>\n",
       "    <tr>\n",
       "      <th>5</th>\n",
       "      <td>6</td>\n",
       "      <td>BAN</td>\n",
       "      <td>ENG</td>\n",
       "      <td>0</td>\n",
       "      <td>0</td>\n",
       "      <td>3</td>\n",
       "      <td>0</td>\n",
       "      <td>0</td>\n",
       "      <td>0</td>\n",
       "      <td>26</td>\n",
       "      <td>...</td>\n",
       "      <td>52</td>\n",
       "      <td>18</td>\n",
       "      <td>15</td>\n",
       "      <td>6</td>\n",
       "      <td>21</td>\n",
       "      <td>4</td>\n",
       "      <td>6</td>\n",
       "      <td>3</td>\n",
       "      <td>34</td>\n",
       "      <td>1</td>\n",
       "    </tr>\n",
       "    <tr>\n",
       "      <th>6</th>\n",
       "      <td>7</td>\n",
       "      <td>POL</td>\n",
       "      <td>KEN</td>\n",
       "      <td>0</td>\n",
       "      <td>0</td>\n",
       "      <td>1</td>\n",
       "      <td>2</td>\n",
       "      <td>0</td>\n",
       "      <td>2</td>\n",
       "      <td>27</td>\n",
       "      <td>...</td>\n",
       "      <td>48</td>\n",
       "      <td>54</td>\n",
       "      <td>1</td>\n",
       "      <td>4</td>\n",
       "      <td>5</td>\n",
       "      <td>-11</td>\n",
       "      <td>-2</td>\n",
       "      <td>2</td>\n",
       "      <td>-6</td>\n",
       "      <td>0</td>\n",
       "    </tr>\n",
       "    <tr>\n",
       "      <th>7</th>\n",
       "      <td>8</td>\n",
       "      <td>KEN</td>\n",
       "      <td>POL</td>\n",
       "      <td>0</td>\n",
       "      <td>1</td>\n",
       "      <td>2</td>\n",
       "      <td>1</td>\n",
       "      <td>0</td>\n",
       "      <td>0</td>\n",
       "      <td>26</td>\n",
       "      <td>...</td>\n",
       "      <td>54</td>\n",
       "      <td>48</td>\n",
       "      <td>-1</td>\n",
       "      <td>-4</td>\n",
       "      <td>-5</td>\n",
       "      <td>11</td>\n",
       "      <td>2</td>\n",
       "      <td>-2</td>\n",
       "      <td>6</td>\n",
       "      <td>1</td>\n",
       "    </tr>\n",
       "    <tr>\n",
       "      <th>8</th>\n",
       "      <td>9</td>\n",
       "      <td>IND</td>\n",
       "      <td>AUS</td>\n",
       "      <td>0</td>\n",
       "      <td>1</td>\n",
       "      <td>4</td>\n",
       "      <td>0</td>\n",
       "      <td>0</td>\n",
       "      <td>0</td>\n",
       "      <td>25</td>\n",
       "      <td>...</td>\n",
       "      <td>54</td>\n",
       "      <td>20</td>\n",
       "      <td>14</td>\n",
       "      <td>1</td>\n",
       "      <td>15</td>\n",
       "      <td>10</td>\n",
       "      <td>8</td>\n",
       "      <td>1</td>\n",
       "      <td>34</td>\n",
       "      <td>1</td>\n",
       "    </tr>\n",
       "    <tr>\n",
       "      <th>9</th>\n",
       "      <td>10</td>\n",
       "      <td>AUS</td>\n",
       "      <td>IND</td>\n",
       "      <td>0</td>\n",
       "      <td>0</td>\n",
       "      <td>0</td>\n",
       "      <td>4</td>\n",
       "      <td>0</td>\n",
       "      <td>0</td>\n",
       "      <td>11</td>\n",
       "      <td>...</td>\n",
       "      <td>20</td>\n",
       "      <td>54</td>\n",
       "      <td>-14</td>\n",
       "      <td>-1</td>\n",
       "      <td>-15</td>\n",
       "      <td>-10</td>\n",
       "      <td>-8</td>\n",
       "      <td>-1</td>\n",
       "      <td>-34</td>\n",
       "      <td>0</td>\n",
       "    </tr>\n",
       "    <tr>\n",
       "      <th>10</th>\n",
       "      <td>11</td>\n",
       "      <td>KOR</td>\n",
       "      <td>ARG</td>\n",
       "      <td>0</td>\n",
       "      <td>0</td>\n",
       "      <td>5</td>\n",
       "      <td>2</td>\n",
       "      <td>2</td>\n",
       "      <td>0</td>\n",
       "      <td>32</td>\n",
       "      <td>...</td>\n",
       "      <td>68</td>\n",
       "      <td>42</td>\n",
       "      <td>10</td>\n",
       "      <td>-3</td>\n",
       "      <td>7</td>\n",
       "      <td>7</td>\n",
       "      <td>6</td>\n",
       "      <td>6</td>\n",
       "      <td>26</td>\n",
       "      <td>1</td>\n",
       "    </tr>\n",
       "    <tr>\n",
       "      <th>11</th>\n",
       "      <td>12</td>\n",
       "      <td>ARG</td>\n",
       "      <td>KOR</td>\n",
       "      <td>0</td>\n",
       "      <td>1</td>\n",
       "      <td>2</td>\n",
       "      <td>5</td>\n",
       "      <td>0</td>\n",
       "      <td>0</td>\n",
       "      <td>22</td>\n",
       "      <td>...</td>\n",
       "      <td>42</td>\n",
       "      <td>68</td>\n",
       "      <td>-10</td>\n",
       "      <td>3</td>\n",
       "      <td>-7</td>\n",
       "      <td>-7</td>\n",
       "      <td>-6</td>\n",
       "      <td>-6</td>\n",
       "      <td>-26</td>\n",
       "      <td>0</td>\n",
       "    </tr>\n",
       "    <tr>\n",
       "      <th>12</th>\n",
       "      <td>13</td>\n",
       "      <td>USA</td>\n",
       "      <td>JPN</td>\n",
       "      <td>0</td>\n",
       "      <td>1</td>\n",
       "      <td>0</td>\n",
       "      <td>3</td>\n",
       "      <td>0</td>\n",
       "      <td>0</td>\n",
       "      <td>7</td>\n",
       "      <td>...</td>\n",
       "      <td>19</td>\n",
       "      <td>45</td>\n",
       "      <td>-9</td>\n",
       "      <td>3</td>\n",
       "      <td>-6</td>\n",
       "      <td>-12</td>\n",
       "      <td>-6</td>\n",
       "      <td>-2</td>\n",
       "      <td>-26</td>\n",
       "      <td>0</td>\n",
       "    </tr>\n",
       "    <tr>\n",
       "      <th>13</th>\n",
       "      <td>14</td>\n",
       "      <td>JPN</td>\n",
       "      <td>USA</td>\n",
       "      <td>0</td>\n",
       "      <td>0</td>\n",
       "      <td>3</td>\n",
       "      <td>0</td>\n",
       "      <td>0</td>\n",
       "      <td>0</td>\n",
       "      <td>16</td>\n",
       "      <td>...</td>\n",
       "      <td>45</td>\n",
       "      <td>19</td>\n",
       "      <td>9</td>\n",
       "      <td>-3</td>\n",
       "      <td>6</td>\n",
       "      <td>12</td>\n",
       "      <td>6</td>\n",
       "      <td>2</td>\n",
       "      <td>26</td>\n",
       "      <td>1</td>\n",
       "    </tr>\n",
       "    <tr>\n",
       "      <th>14</th>\n",
       "      <td>15</td>\n",
       "      <td>THA</td>\n",
       "      <td>IRN</td>\n",
       "      <td>0</td>\n",
       "      <td>0</td>\n",
       "      <td>1</td>\n",
       "      <td>6</td>\n",
       "      <td>1</td>\n",
       "      <td>0</td>\n",
       "      <td>14</td>\n",
       "      <td>...</td>\n",
       "      <td>23</td>\n",
       "      <td>64</td>\n",
       "      <td>-13</td>\n",
       "      <td>1</td>\n",
       "      <td>-12</td>\n",
       "      <td>-19</td>\n",
       "      <td>-10</td>\n",
       "      <td>0</td>\n",
       "      <td>-41</td>\n",
       "      <td>0</td>\n",
       "    </tr>\n",
       "    <tr>\n",
       "      <th>15</th>\n",
       "      <td>16</td>\n",
       "      <td>IRN</td>\n",
       "      <td>THA</td>\n",
       "      <td>0</td>\n",
       "      <td>1</td>\n",
       "      <td>6</td>\n",
       "      <td>1</td>\n",
       "      <td>0</td>\n",
       "      <td>0</td>\n",
       "      <td>27</td>\n",
       "      <td>...</td>\n",
       "      <td>64</td>\n",
       "      <td>23</td>\n",
       "      <td>13</td>\n",
       "      <td>-1</td>\n",
       "      <td>12</td>\n",
       "      <td>19</td>\n",
       "      <td>10</td>\n",
       "      <td>0</td>\n",
       "      <td>41</td>\n",
       "      <td>1</td>\n",
       "    </tr>\n",
       "    <tr>\n",
       "      <th>16</th>\n",
       "      <td>17</td>\n",
       "      <td>ENG</td>\n",
       "      <td>AUS</td>\n",
       "      <td>0</td>\n",
       "      <td>1</td>\n",
       "      <td>5</td>\n",
       "      <td>0</td>\n",
       "      <td>0</td>\n",
       "      <td>0</td>\n",
       "      <td>37</td>\n",
       "      <td>...</td>\n",
       "      <td>69</td>\n",
       "      <td>25</td>\n",
       "      <td>26</td>\n",
       "      <td>-2</td>\n",
       "      <td>24</td>\n",
       "      <td>7</td>\n",
       "      <td>10</td>\n",
       "      <td>3</td>\n",
       "      <td>44</td>\n",
       "      <td>1</td>\n",
       "    </tr>\n",
       "    <tr>\n",
       "      <th>17</th>\n",
       "      <td>18</td>\n",
       "      <td>AUS</td>\n",
       "      <td>ENG</td>\n",
       "      <td>0</td>\n",
       "      <td>0</td>\n",
       "      <td>0</td>\n",
       "      <td>5</td>\n",
       "      <td>0</td>\n",
       "      <td>0</td>\n",
       "      <td>11</td>\n",
       "      <td>...</td>\n",
       "      <td>25</td>\n",
       "      <td>69</td>\n",
       "      <td>-26</td>\n",
       "      <td>2</td>\n",
       "      <td>-24</td>\n",
       "      <td>-7</td>\n",
       "      <td>-10</td>\n",
       "      <td>-3</td>\n",
       "      <td>-44</td>\n",
       "      <td>0</td>\n",
       "    </tr>\n",
       "    <tr>\n",
       "      <th>18</th>\n",
       "      <td>19</td>\n",
       "      <td>THA</td>\n",
       "      <td>POL</td>\n",
       "      <td>0</td>\n",
       "      <td>1</td>\n",
       "      <td>5</td>\n",
       "      <td>1</td>\n",
       "      <td>0</td>\n",
       "      <td>0</td>\n",
       "      <td>25</td>\n",
       "      <td>...</td>\n",
       "      <td>65</td>\n",
       "      <td>25</td>\n",
       "      <td>12</td>\n",
       "      <td>1</td>\n",
       "      <td>13</td>\n",
       "      <td>14</td>\n",
       "      <td>8</td>\n",
       "      <td>5</td>\n",
       "      <td>40</td>\n",
       "      <td>1</td>\n",
       "    </tr>\n",
       "    <tr>\n",
       "      <th>19</th>\n",
       "      <td>20</td>\n",
       "      <td>POL</td>\n",
       "      <td>THA</td>\n",
       "      <td>0</td>\n",
       "      <td>0</td>\n",
       "      <td>1</td>\n",
       "      <td>5</td>\n",
       "      <td>0</td>\n",
       "      <td>0</td>\n",
       "      <td>13</td>\n",
       "      <td>...</td>\n",
       "      <td>25</td>\n",
       "      <td>65</td>\n",
       "      <td>-12</td>\n",
       "      <td>-1</td>\n",
       "      <td>-13</td>\n",
       "      <td>-14</td>\n",
       "      <td>-8</td>\n",
       "      <td>-5</td>\n",
       "      <td>-40</td>\n",
       "      <td>0</td>\n",
       "    </tr>\n",
       "    <tr>\n",
       "      <th>20</th>\n",
       "      <td>21</td>\n",
       "      <td>IRN</td>\n",
       "      <td>KEN</td>\n",
       "      <td>0</td>\n",
       "      <td>1</td>\n",
       "      <td>1</td>\n",
       "      <td>0</td>\n",
       "      <td>0</td>\n",
       "      <td>2</td>\n",
       "      <td>14</td>\n",
       "      <td>...</td>\n",
       "      <td>33</td>\n",
       "      <td>28</td>\n",
       "      <td>7</td>\n",
       "      <td>-3</td>\n",
       "      <td>4</td>\n",
       "      <td>2</td>\n",
       "      <td>2</td>\n",
       "      <td>-3</td>\n",
       "      <td>5</td>\n",
       "      <td>1</td>\n",
       "    </tr>\n",
       "    <tr>\n",
       "      <th>21</th>\n",
       "      <td>22</td>\n",
       "      <td>KEN</td>\n",
       "      <td>IRN</td>\n",
       "      <td>0</td>\n",
       "      <td>0</td>\n",
       "      <td>0</td>\n",
       "      <td>1</td>\n",
       "      <td>0</td>\n",
       "      <td>0</td>\n",
       "      <td>7</td>\n",
       "      <td>...</td>\n",
       "      <td>28</td>\n",
       "      <td>33</td>\n",
       "      <td>-7</td>\n",
       "      <td>3</td>\n",
       "      <td>-4</td>\n",
       "      <td>-2</td>\n",
       "      <td>-2</td>\n",
       "      <td>3</td>\n",
       "      <td>-5</td>\n",
       "      <td>0</td>\n",
       "    </tr>\n",
       "    <tr>\n",
       "      <th>22</th>\n",
       "      <td>23</td>\n",
       "      <td>IND</td>\n",
       "      <td>BAN</td>\n",
       "      <td>0</td>\n",
       "      <td>1</td>\n",
       "      <td>4</td>\n",
       "      <td>0</td>\n",
       "      <td>0</td>\n",
       "      <td>0</td>\n",
       "      <td>22</td>\n",
       "      <td>...</td>\n",
       "      <td>57</td>\n",
       "      <td>20</td>\n",
       "      <td>14</td>\n",
       "      <td>2</td>\n",
       "      <td>16</td>\n",
       "      <td>13</td>\n",
       "      <td>8</td>\n",
       "      <td>0</td>\n",
       "      <td>37</td>\n",
       "      <td>1</td>\n",
       "    </tr>\n",
       "    <tr>\n",
       "      <th>23</th>\n",
       "      <td>24</td>\n",
       "      <td>BAN</td>\n",
       "      <td>IND</td>\n",
       "      <td>0</td>\n",
       "      <td>0</td>\n",
       "      <td>0</td>\n",
       "      <td>4</td>\n",
       "      <td>0</td>\n",
       "      <td>0</td>\n",
       "      <td>8</td>\n",
       "      <td>...</td>\n",
       "      <td>20</td>\n",
       "      <td>57</td>\n",
       "      <td>-14</td>\n",
       "      <td>-2</td>\n",
       "      <td>-16</td>\n",
       "      <td>-13</td>\n",
       "      <td>-8</td>\n",
       "      <td>0</td>\n",
       "      <td>-37</td>\n",
       "      <td>0</td>\n",
       "    </tr>\n",
       "    <tr>\n",
       "      <th>24</th>\n",
       "      <td>25</td>\n",
       "      <td>POL</td>\n",
       "      <td>JPN</td>\n",
       "      <td>0</td>\n",
       "      <td>0</td>\n",
       "      <td>0</td>\n",
       "      <td>1</td>\n",
       "      <td>0</td>\n",
       "      <td>0</td>\n",
       "      <td>15</td>\n",
       "      <td>...</td>\n",
       "      <td>22</td>\n",
       "      <td>33</td>\n",
       "      <td>2</td>\n",
       "      <td>-1</td>\n",
       "      <td>1</td>\n",
       "      <td>-10</td>\n",
       "      <td>-2</td>\n",
       "      <td>0</td>\n",
       "      <td>-11</td>\n",
       "      <td>0</td>\n",
       "    </tr>\n",
       "    <tr>\n",
       "      <th>25</th>\n",
       "      <td>26</td>\n",
       "      <td>JPN</td>\n",
       "      <td>POL</td>\n",
       "      <td>0</td>\n",
       "      <td>1</td>\n",
       "      <td>1</td>\n",
       "      <td>0</td>\n",
       "      <td>0</td>\n",
       "      <td>0</td>\n",
       "      <td>13</td>\n",
       "      <td>...</td>\n",
       "      <td>33</td>\n",
       "      <td>22</td>\n",
       "      <td>-2</td>\n",
       "      <td>1</td>\n",
       "      <td>-1</td>\n",
       "      <td>10</td>\n",
       "      <td>2</td>\n",
       "      <td>0</td>\n",
       "      <td>11</td>\n",
       "      <td>1</td>\n",
       "    </tr>\n",
       "    <tr>\n",
       "      <th>26</th>\n",
       "      <td>27</td>\n",
       "      <td>AUS</td>\n",
       "      <td>ARG</td>\n",
       "      <td>0</td>\n",
       "      <td>1</td>\n",
       "      <td>4</td>\n",
       "      <td>0</td>\n",
       "      <td>1</td>\n",
       "      <td>1</td>\n",
       "      <td>29</td>\n",
       "      <td>...</td>\n",
       "      <td>68</td>\n",
       "      <td>45</td>\n",
       "      <td>11</td>\n",
       "      <td>-4</td>\n",
       "      <td>7</td>\n",
       "      <td>8</td>\n",
       "      <td>8</td>\n",
       "      <td>0</td>\n",
       "      <td>23</td>\n",
       "      <td>1</td>\n",
       "    </tr>\n",
       "    <tr>\n",
       "      <th>27</th>\n",
       "      <td>28</td>\n",
       "      <td>ARG</td>\n",
       "      <td>AUS</td>\n",
       "      <td>0</td>\n",
       "      <td>0</td>\n",
       "      <td>0</td>\n",
       "      <td>4</td>\n",
       "      <td>0</td>\n",
       "      <td>0</td>\n",
       "      <td>18</td>\n",
       "      <td>...</td>\n",
       "      <td>45</td>\n",
       "      <td>68</td>\n",
       "      <td>-11</td>\n",
       "      <td>4</td>\n",
       "      <td>-7</td>\n",
       "      <td>-8</td>\n",
       "      <td>-8</td>\n",
       "      <td>0</td>\n",
       "      <td>-23</td>\n",
       "      <td>0</td>\n",
       "    </tr>\n",
       "    <tr>\n",
       "      <th>28</th>\n",
       "      <td>29</td>\n",
       "      <td>THA</td>\n",
       "      <td>KEN</td>\n",
       "      <td>0</td>\n",
       "      <td>1</td>\n",
       "      <td>4</td>\n",
       "      <td>0</td>\n",
       "      <td>0</td>\n",
       "      <td>1</td>\n",
       "      <td>25</td>\n",
       "      <td>...</td>\n",
       "      <td>53</td>\n",
       "      <td>21</td>\n",
       "      <td>19</td>\n",
       "      <td>-4</td>\n",
       "      <td>15</td>\n",
       "      <td>6</td>\n",
       "      <td>8</td>\n",
       "      <td>3</td>\n",
       "      <td>32</td>\n",
       "      <td>1</td>\n",
       "    </tr>\n",
       "    <tr>\n",
       "      <th>29</th>\n",
       "      <td>30</td>\n",
       "      <td>KEN</td>\n",
       "      <td>THA</td>\n",
       "      <td>0</td>\n",
       "      <td>0</td>\n",
       "      <td>0</td>\n",
       "      <td>4</td>\n",
       "      <td>0</td>\n",
       "      <td>0</td>\n",
       "      <td>6</td>\n",
       "      <td>...</td>\n",
       "      <td>21</td>\n",
       "      <td>53</td>\n",
       "      <td>-19</td>\n",
       "      <td>4</td>\n",
       "      <td>-15</td>\n",
       "      <td>-6</td>\n",
       "      <td>-8</td>\n",
       "      <td>-3</td>\n",
       "      <td>-32</td>\n",
       "      <td>0</td>\n",
       "    </tr>\n",
       "    <tr>\n",
       "      <th>...</th>\n",
       "      <td>...</td>\n",
       "      <td>...</td>\n",
       "      <td>...</td>\n",
       "      <td>...</td>\n",
       "      <td>...</td>\n",
       "      <td>...</td>\n",
       "      <td>...</td>\n",
       "      <td>...</td>\n",
       "      <td>...</td>\n",
       "      <td>...</td>\n",
       "      <td>...</td>\n",
       "      <td>...</td>\n",
       "      <td>...</td>\n",
       "      <td>...</td>\n",
       "      <td>...</td>\n",
       "      <td>...</td>\n",
       "      <td>...</td>\n",
       "      <td>...</td>\n",
       "      <td>...</td>\n",
       "      <td>...</td>\n",
       "      <td>...</td>\n",
       "    </tr>\n",
       "    <tr>\n",
       "      <th>36</th>\n",
       "      <td>37</td>\n",
       "      <td>KOR</td>\n",
       "      <td>AUS</td>\n",
       "      <td>0</td>\n",
       "      <td>1</td>\n",
       "      <td>4</td>\n",
       "      <td>0</td>\n",
       "      <td>2</td>\n",
       "      <td>1</td>\n",
       "      <td>30</td>\n",
       "      <td>...</td>\n",
       "      <td>63</td>\n",
       "      <td>25</td>\n",
       "      <td>20</td>\n",
       "      <td>2</td>\n",
       "      <td>22</td>\n",
       "      <td>5</td>\n",
       "      <td>8</td>\n",
       "      <td>3</td>\n",
       "      <td>38</td>\n",
       "      <td>1</td>\n",
       "    </tr>\n",
       "    <tr>\n",
       "      <th>37</th>\n",
       "      <td>38</td>\n",
       "      <td>AUS</td>\n",
       "      <td>KOR</td>\n",
       "      <td>0</td>\n",
       "      <td>0</td>\n",
       "      <td>0</td>\n",
       "      <td>4</td>\n",
       "      <td>1</td>\n",
       "      <td>2</td>\n",
       "      <td>10</td>\n",
       "      <td>...</td>\n",
       "      <td>25</td>\n",
       "      <td>63</td>\n",
       "      <td>-20</td>\n",
       "      <td>-2</td>\n",
       "      <td>-22</td>\n",
       "      <td>-5</td>\n",
       "      <td>-8</td>\n",
       "      <td>-3</td>\n",
       "      <td>-38</td>\n",
       "      <td>0</td>\n",
       "    </tr>\n",
       "    <tr>\n",
       "      <th>38</th>\n",
       "      <td>39</td>\n",
       "      <td>IRN</td>\n",
       "      <td>JPN</td>\n",
       "      <td>0</td>\n",
       "      <td>1</td>\n",
       "      <td>2</td>\n",
       "      <td>1</td>\n",
       "      <td>0</td>\n",
       "      <td>0</td>\n",
       "      <td>21</td>\n",
       "      <td>...</td>\n",
       "      <td>38</td>\n",
       "      <td>34</td>\n",
       "      <td>3</td>\n",
       "      <td>-4</td>\n",
       "      <td>-1</td>\n",
       "      <td>4</td>\n",
       "      <td>2</td>\n",
       "      <td>-1</td>\n",
       "      <td>4</td>\n",
       "      <td>1</td>\n",
       "    </tr>\n",
       "    <tr>\n",
       "      <th>39</th>\n",
       "      <td>40</td>\n",
       "      <td>JPN</td>\n",
       "      <td>IRN</td>\n",
       "      <td>0</td>\n",
       "      <td>0</td>\n",
       "      <td>1</td>\n",
       "      <td>2</td>\n",
       "      <td>0</td>\n",
       "      <td>0</td>\n",
       "      <td>18</td>\n",
       "      <td>...</td>\n",
       "      <td>34</td>\n",
       "      <td>38</td>\n",
       "      <td>-3</td>\n",
       "      <td>4</td>\n",
       "      <td>1</td>\n",
       "      <td>-4</td>\n",
       "      <td>-2</td>\n",
       "      <td>1</td>\n",
       "      <td>-4</td>\n",
       "      <td>0</td>\n",
       "    </tr>\n",
       "    <tr>\n",
       "      <th>40</th>\n",
       "      <td>41</td>\n",
       "      <td>IND</td>\n",
       "      <td>ARG</td>\n",
       "      <td>0</td>\n",
       "      <td>0</td>\n",
       "      <td>6</td>\n",
       "      <td>0</td>\n",
       "      <td>0</td>\n",
       "      <td>1</td>\n",
       "      <td>27</td>\n",
       "      <td>...</td>\n",
       "      <td>74</td>\n",
       "      <td>20</td>\n",
       "      <td>17</td>\n",
       "      <td>4</td>\n",
       "      <td>21</td>\n",
       "      <td>21</td>\n",
       "      <td>12</td>\n",
       "      <td>0</td>\n",
       "      <td>54</td>\n",
       "      <td>1</td>\n",
       "    </tr>\n",
       "    <tr>\n",
       "      <th>41</th>\n",
       "      <td>42</td>\n",
       "      <td>ARG</td>\n",
       "      <td>IND</td>\n",
       "      <td>0</td>\n",
       "      <td>1</td>\n",
       "      <td>0</td>\n",
       "      <td>6</td>\n",
       "      <td>1</td>\n",
       "      <td>0</td>\n",
       "      <td>10</td>\n",
       "      <td>...</td>\n",
       "      <td>20</td>\n",
       "      <td>74</td>\n",
       "      <td>-17</td>\n",
       "      <td>-4</td>\n",
       "      <td>-21</td>\n",
       "      <td>-21</td>\n",
       "      <td>-12</td>\n",
       "      <td>0</td>\n",
       "      <td>-54</td>\n",
       "      <td>0</td>\n",
       "    </tr>\n",
       "    <tr>\n",
       "      <th>42</th>\n",
       "      <td>43</td>\n",
       "      <td>THA</td>\n",
       "      <td>USA</td>\n",
       "      <td>0</td>\n",
       "      <td>1</td>\n",
       "      <td>5</td>\n",
       "      <td>0</td>\n",
       "      <td>0</td>\n",
       "      <td>1</td>\n",
       "      <td>26</td>\n",
       "      <td>...</td>\n",
       "      <td>69</td>\n",
       "      <td>22</td>\n",
       "      <td>23</td>\n",
       "      <td>4</td>\n",
       "      <td>27</td>\n",
       "      <td>6</td>\n",
       "      <td>10</td>\n",
       "      <td>4</td>\n",
       "      <td>47</td>\n",
       "      <td>1</td>\n",
       "    </tr>\n",
       "    <tr>\n",
       "      <th>43</th>\n",
       "      <td>44</td>\n",
       "      <td>USA</td>\n",
       "      <td>THA</td>\n",
       "      <td>0</td>\n",
       "      <td>0</td>\n",
       "      <td>0</td>\n",
       "      <td>5</td>\n",
       "      <td>1</td>\n",
       "      <td>0</td>\n",
       "      <td>3</td>\n",
       "      <td>...</td>\n",
       "      <td>22</td>\n",
       "      <td>69</td>\n",
       "      <td>-23</td>\n",
       "      <td>-4</td>\n",
       "      <td>-27</td>\n",
       "      <td>-6</td>\n",
       "      <td>-10</td>\n",
       "      <td>-4</td>\n",
       "      <td>-47</td>\n",
       "      <td>0</td>\n",
       "    </tr>\n",
       "    <tr>\n",
       "      <th>44</th>\n",
       "      <td>45</td>\n",
       "      <td>KOR</td>\n",
       "      <td>ENG</td>\n",
       "      <td>0</td>\n",
       "      <td>1</td>\n",
       "      <td>4</td>\n",
       "      <td>0</td>\n",
       "      <td>0</td>\n",
       "      <td>3</td>\n",
       "      <td>25</td>\n",
       "      <td>...</td>\n",
       "      <td>56</td>\n",
       "      <td>17</td>\n",
       "      <td>22</td>\n",
       "      <td>3</td>\n",
       "      <td>25</td>\n",
       "      <td>5</td>\n",
       "      <td>8</td>\n",
       "      <td>1</td>\n",
       "      <td>39</td>\n",
       "      <td>1</td>\n",
       "    </tr>\n",
       "    <tr>\n",
       "      <th>45</th>\n",
       "      <td>46</td>\n",
       "      <td>ENG</td>\n",
       "      <td>KOR</td>\n",
       "      <td>0</td>\n",
       "      <td>0</td>\n",
       "      <td>0</td>\n",
       "      <td>4</td>\n",
       "      <td>3</td>\n",
       "      <td>0</td>\n",
       "      <td>3</td>\n",
       "      <td>...</td>\n",
       "      <td>17</td>\n",
       "      <td>56</td>\n",
       "      <td>-22</td>\n",
       "      <td>-3</td>\n",
       "      <td>-25</td>\n",
       "      <td>-5</td>\n",
       "      <td>-8</td>\n",
       "      <td>-1</td>\n",
       "      <td>-39</td>\n",
       "      <td>0</td>\n",
       "    </tr>\n",
       "    <tr>\n",
       "      <th>46</th>\n",
       "      <td>47</td>\n",
       "      <td>JPN</td>\n",
       "      <td>KEN</td>\n",
       "      <td>0</td>\n",
       "      <td>1</td>\n",
       "      <td>0</td>\n",
       "      <td>2</td>\n",
       "      <td>2</td>\n",
       "      <td>9</td>\n",
       "      <td>9</td>\n",
       "      <td>...</td>\n",
       "      <td>27</td>\n",
       "      <td>48</td>\n",
       "      <td>-3</td>\n",
       "      <td>1</td>\n",
       "      <td>-2</td>\n",
       "      <td>-15</td>\n",
       "      <td>-4</td>\n",
       "      <td>0</td>\n",
       "      <td>-21</td>\n",
       "      <td>0</td>\n",
       "    </tr>\n",
       "    <tr>\n",
       "      <th>47</th>\n",
       "      <td>48</td>\n",
       "      <td>KEN</td>\n",
       "      <td>JPN</td>\n",
       "      <td>0</td>\n",
       "      <td>0</td>\n",
       "      <td>2</td>\n",
       "      <td>0</td>\n",
       "      <td>9</td>\n",
       "      <td>2</td>\n",
       "      <td>12</td>\n",
       "      <td>...</td>\n",
       "      <td>48</td>\n",
       "      <td>27</td>\n",
       "      <td>3</td>\n",
       "      <td>-1</td>\n",
       "      <td>2</td>\n",
       "      <td>15</td>\n",
       "      <td>4</td>\n",
       "      <td>0</td>\n",
       "      <td>21</td>\n",
       "      <td>1</td>\n",
       "    </tr>\n",
       "    <tr>\n",
       "      <th>48</th>\n",
       "      <td>49</td>\n",
       "      <td>POL</td>\n",
       "      <td>IRN</td>\n",
       "      <td>0</td>\n",
       "      <td>0</td>\n",
       "      <td>2</td>\n",
       "      <td>0</td>\n",
       "      <td>0</td>\n",
       "      <td>1</td>\n",
       "      <td>23</td>\n",
       "      <td>...</td>\n",
       "      <td>41</td>\n",
       "      <td>25</td>\n",
       "      <td>7</td>\n",
       "      <td>4</td>\n",
       "      <td>11</td>\n",
       "      <td>1</td>\n",
       "      <td>4</td>\n",
       "      <td>0</td>\n",
       "      <td>16</td>\n",
       "      <td>1</td>\n",
       "    </tr>\n",
       "    <tr>\n",
       "      <th>49</th>\n",
       "      <td>50</td>\n",
       "      <td>IRN</td>\n",
       "      <td>POL</td>\n",
       "      <td>0</td>\n",
       "      <td>1</td>\n",
       "      <td>0</td>\n",
       "      <td>2</td>\n",
       "      <td>1</td>\n",
       "      <td>0</td>\n",
       "      <td>16</td>\n",
       "      <td>...</td>\n",
       "      <td>25</td>\n",
       "      <td>41</td>\n",
       "      <td>-7</td>\n",
       "      <td>-4</td>\n",
       "      <td>-11</td>\n",
       "      <td>-1</td>\n",
       "      <td>-4</td>\n",
       "      <td>0</td>\n",
       "      <td>-16</td>\n",
       "      <td>0</td>\n",
       "    </tr>\n",
       "    <tr>\n",
       "      <th>50</th>\n",
       "      <td>51</td>\n",
       "      <td>AUS</td>\n",
       "      <td>BAN</td>\n",
       "      <td>0</td>\n",
       "      <td>0</td>\n",
       "      <td>0</td>\n",
       "      <td>7</td>\n",
       "      <td>0</td>\n",
       "      <td>0</td>\n",
       "      <td>1</td>\n",
       "      <td>...</td>\n",
       "      <td>8</td>\n",
       "      <td>80</td>\n",
       "      <td>-33</td>\n",
       "      <td>-9</td>\n",
       "      <td>-42</td>\n",
       "      <td>-15</td>\n",
       "      <td>-14</td>\n",
       "      <td>-1</td>\n",
       "      <td>-72</td>\n",
       "      <td>0</td>\n",
       "    </tr>\n",
       "    <tr>\n",
       "      <th>51</th>\n",
       "      <td>52</td>\n",
       "      <td>BAN</td>\n",
       "      <td>AUS</td>\n",
       "      <td>0</td>\n",
       "      <td>1</td>\n",
       "      <td>7</td>\n",
       "      <td>0</td>\n",
       "      <td>0</td>\n",
       "      <td>0</td>\n",
       "      <td>34</td>\n",
       "      <td>...</td>\n",
       "      <td>80</td>\n",
       "      <td>8</td>\n",
       "      <td>33</td>\n",
       "      <td>9</td>\n",
       "      <td>42</td>\n",
       "      <td>15</td>\n",
       "      <td>14</td>\n",
       "      <td>1</td>\n",
       "      <td>72</td>\n",
       "      <td>1</td>\n",
       "    </tr>\n",
       "    <tr>\n",
       "      <th>52</th>\n",
       "      <td>53</td>\n",
       "      <td>USA</td>\n",
       "      <td>KEN</td>\n",
       "      <td>0</td>\n",
       "      <td>0</td>\n",
       "      <td>0</td>\n",
       "      <td>6</td>\n",
       "      <td>0</td>\n",
       "      <td>3</td>\n",
       "      <td>11</td>\n",
       "      <td>...</td>\n",
       "      <td>19</td>\n",
       "      <td>74</td>\n",
       "      <td>-15</td>\n",
       "      <td>-4</td>\n",
       "      <td>-19</td>\n",
       "      <td>-18</td>\n",
       "      <td>-12</td>\n",
       "      <td>-6</td>\n",
       "      <td>-55</td>\n",
       "      <td>0</td>\n",
       "    </tr>\n",
       "    <tr>\n",
       "      <th>53</th>\n",
       "      <td>54</td>\n",
       "      <td>KEN</td>\n",
       "      <td>USA</td>\n",
       "      <td>0</td>\n",
       "      <td>1</td>\n",
       "      <td>6</td>\n",
       "      <td>0</td>\n",
       "      <td>3</td>\n",
       "      <td>0</td>\n",
       "      <td>26</td>\n",
       "      <td>...</td>\n",
       "      <td>74</td>\n",
       "      <td>19</td>\n",
       "      <td>15</td>\n",
       "      <td>4</td>\n",
       "      <td>19</td>\n",
       "      <td>18</td>\n",
       "      <td>12</td>\n",
       "      <td>6</td>\n",
       "      <td>55</td>\n",
       "      <td>1</td>\n",
       "    </tr>\n",
       "    <tr>\n",
       "      <th>54</th>\n",
       "      <td>55</td>\n",
       "      <td>IND</td>\n",
       "      <td>ENG</td>\n",
       "      <td>0</td>\n",
       "      <td>0</td>\n",
       "      <td>5</td>\n",
       "      <td>0</td>\n",
       "      <td>0</td>\n",
       "      <td>0</td>\n",
       "      <td>31</td>\n",
       "      <td>...</td>\n",
       "      <td>69</td>\n",
       "      <td>18</td>\n",
       "      <td>17</td>\n",
       "      <td>9</td>\n",
       "      <td>26</td>\n",
       "      <td>11</td>\n",
       "      <td>10</td>\n",
       "      <td>4</td>\n",
       "      <td>51</td>\n",
       "      <td>1</td>\n",
       "    </tr>\n",
       "    <tr>\n",
       "      <th>55</th>\n",
       "      <td>56</td>\n",
       "      <td>ENG</td>\n",
       "      <td>IND</td>\n",
       "      <td>0</td>\n",
       "      <td>1</td>\n",
       "      <td>0</td>\n",
       "      <td>5</td>\n",
       "      <td>0</td>\n",
       "      <td>0</td>\n",
       "      <td>14</td>\n",
       "      <td>...</td>\n",
       "      <td>18</td>\n",
       "      <td>69</td>\n",
       "      <td>-17</td>\n",
       "      <td>-9</td>\n",
       "      <td>-26</td>\n",
       "      <td>-11</td>\n",
       "      <td>-10</td>\n",
       "      <td>-4</td>\n",
       "      <td>-51</td>\n",
       "      <td>0</td>\n",
       "    </tr>\n",
       "    <tr>\n",
       "      <th>56</th>\n",
       "      <td>57</td>\n",
       "      <td>BAN</td>\n",
       "      <td>ARG</td>\n",
       "      <td>0</td>\n",
       "      <td>0</td>\n",
       "      <td>4</td>\n",
       "      <td>0</td>\n",
       "      <td>0</td>\n",
       "      <td>0</td>\n",
       "      <td>37</td>\n",
       "      <td>...</td>\n",
       "      <td>67</td>\n",
       "      <td>26</td>\n",
       "      <td>18</td>\n",
       "      <td>1</td>\n",
       "      <td>19</td>\n",
       "      <td>12</td>\n",
       "      <td>8</td>\n",
       "      <td>2</td>\n",
       "      <td>41</td>\n",
       "      <td>1</td>\n",
       "    </tr>\n",
       "    <tr>\n",
       "      <th>57</th>\n",
       "      <td>58</td>\n",
       "      <td>ARG</td>\n",
       "      <td>BAN</td>\n",
       "      <td>0</td>\n",
       "      <td>1</td>\n",
       "      <td>0</td>\n",
       "      <td>4</td>\n",
       "      <td>0</td>\n",
       "      <td>0</td>\n",
       "      <td>19</td>\n",
       "      <td>...</td>\n",
       "      <td>26</td>\n",
       "      <td>67</td>\n",
       "      <td>-18</td>\n",
       "      <td>-1</td>\n",
       "      <td>-19</td>\n",
       "      <td>-12</td>\n",
       "      <td>-8</td>\n",
       "      <td>-2</td>\n",
       "      <td>-41</td>\n",
       "      <td>0</td>\n",
       "    </tr>\n",
       "    <tr>\n",
       "      <th>58</th>\n",
       "      <td>59</td>\n",
       "      <td>THA</td>\n",
       "      <td>JPN</td>\n",
       "      <td>0</td>\n",
       "      <td>1</td>\n",
       "      <td>1</td>\n",
       "      <td>1</td>\n",
       "      <td>2</td>\n",
       "      <td>3</td>\n",
       "      <td>15</td>\n",
       "      <td>...</td>\n",
       "      <td>37</td>\n",
       "      <td>33</td>\n",
       "      <td>7</td>\n",
       "      <td>-1</td>\n",
       "      <td>6</td>\n",
       "      <td>-6</td>\n",
       "      <td>0</td>\n",
       "      <td>4</td>\n",
       "      <td>4</td>\n",
       "      <td>1</td>\n",
       "    </tr>\n",
       "    <tr>\n",
       "      <th>59</th>\n",
       "      <td>60</td>\n",
       "      <td>JPN</td>\n",
       "      <td>THA</td>\n",
       "      <td>0</td>\n",
       "      <td>0</td>\n",
       "      <td>1</td>\n",
       "      <td>1</td>\n",
       "      <td>3</td>\n",
       "      <td>2</td>\n",
       "      <td>8</td>\n",
       "      <td>...</td>\n",
       "      <td>33</td>\n",
       "      <td>37</td>\n",
       "      <td>-7</td>\n",
       "      <td>1</td>\n",
       "      <td>-6</td>\n",
       "      <td>6</td>\n",
       "      <td>0</td>\n",
       "      <td>-4</td>\n",
       "      <td>-4</td>\n",
       "      <td>0</td>\n",
       "    </tr>\n",
       "    <tr>\n",
       "      <th>60</th>\n",
       "      <td>61</td>\n",
       "      <td>KOR</td>\n",
       "      <td>IRN</td>\n",
       "      <td>1</td>\n",
       "      <td>1</td>\n",
       "      <td>1</td>\n",
       "      <td>1</td>\n",
       "      <td>1</td>\n",
       "      <td>0</td>\n",
       "      <td>6</td>\n",
       "      <td>...</td>\n",
       "      <td>22</td>\n",
       "      <td>28</td>\n",
       "      <td>-3</td>\n",
       "      <td>-1</td>\n",
       "      <td>-4</td>\n",
       "      <td>-5</td>\n",
       "      <td>0</td>\n",
       "      <td>3</td>\n",
       "      <td>-6</td>\n",
       "      <td>0</td>\n",
       "    </tr>\n",
       "    <tr>\n",
       "      <th>61</th>\n",
       "      <td>62</td>\n",
       "      <td>IRN</td>\n",
       "      <td>KOR</td>\n",
       "      <td>1</td>\n",
       "      <td>0</td>\n",
       "      <td>1</td>\n",
       "      <td>1</td>\n",
       "      <td>0</td>\n",
       "      <td>1</td>\n",
       "      <td>9</td>\n",
       "      <td>...</td>\n",
       "      <td>28</td>\n",
       "      <td>22</td>\n",
       "      <td>3</td>\n",
       "      <td>1</td>\n",
       "      <td>4</td>\n",
       "      <td>5</td>\n",
       "      <td>0</td>\n",
       "      <td>-3</td>\n",
       "      <td>6</td>\n",
       "      <td>1</td>\n",
       "    </tr>\n",
       "    <tr>\n",
       "      <th>62</th>\n",
       "      <td>63</td>\n",
       "      <td>IND</td>\n",
       "      <td>THA</td>\n",
       "      <td>1</td>\n",
       "      <td>1</td>\n",
       "      <td>6</td>\n",
       "      <td>0</td>\n",
       "      <td>0</td>\n",
       "      <td>0</td>\n",
       "      <td>37</td>\n",
       "      <td>...</td>\n",
       "      <td>73</td>\n",
       "      <td>20</td>\n",
       "      <td>26</td>\n",
       "      <td>1</td>\n",
       "      <td>27</td>\n",
       "      <td>14</td>\n",
       "      <td>12</td>\n",
       "      <td>0</td>\n",
       "      <td>53</td>\n",
       "      <td>1</td>\n",
       "    </tr>\n",
       "    <tr>\n",
       "      <th>63</th>\n",
       "      <td>64</td>\n",
       "      <td>THA</td>\n",
       "      <td>IND</td>\n",
       "      <td>1</td>\n",
       "      <td>0</td>\n",
       "      <td>0</td>\n",
       "      <td>6</td>\n",
       "      <td>0</td>\n",
       "      <td>0</td>\n",
       "      <td>11</td>\n",
       "      <td>...</td>\n",
       "      <td>20</td>\n",
       "      <td>73</td>\n",
       "      <td>-26</td>\n",
       "      <td>-1</td>\n",
       "      <td>-27</td>\n",
       "      <td>-14</td>\n",
       "      <td>-12</td>\n",
       "      <td>0</td>\n",
       "      <td>-53</td>\n",
       "      <td>0</td>\n",
       "    </tr>\n",
       "    <tr>\n",
       "      <th>64</th>\n",
       "      <td>65</td>\n",
       "      <td>IND</td>\n",
       "      <td>IRN</td>\n",
       "      <td>2</td>\n",
       "      <td>0</td>\n",
       "      <td>2</td>\n",
       "      <td>1</td>\n",
       "      <td>1</td>\n",
       "      <td>1</td>\n",
       "      <td>16</td>\n",
       "      <td>...</td>\n",
       "      <td>38</td>\n",
       "      <td>29</td>\n",
       "      <td>5</td>\n",
       "      <td>1</td>\n",
       "      <td>6</td>\n",
       "      <td>-1</td>\n",
       "      <td>2</td>\n",
       "      <td>2</td>\n",
       "      <td>9</td>\n",
       "      <td>1</td>\n",
       "    </tr>\n",
       "    <tr>\n",
       "      <th>65</th>\n",
       "      <td>66</td>\n",
       "      <td>IRN</td>\n",
       "      <td>IND</td>\n",
       "      <td>2</td>\n",
       "      <td>1</td>\n",
       "      <td>1</td>\n",
       "      <td>2</td>\n",
       "      <td>1</td>\n",
       "      <td>1</td>\n",
       "      <td>11</td>\n",
       "      <td>...</td>\n",
       "      <td>29</td>\n",
       "      <td>38</td>\n",
       "      <td>-5</td>\n",
       "      <td>-1</td>\n",
       "      <td>-6</td>\n",
       "      <td>1</td>\n",
       "      <td>-2</td>\n",
       "      <td>-2</td>\n",
       "      <td>-9</td>\n",
       "      <td>0</td>\n",
       "    </tr>\n",
       "  </tbody>\n",
       "</table>\n",
       "<p>66 rows × 31 columns</p>\n",
       "</div>"
      ],
      "text/plain": [
       "    gameNo team oppTeam  matchStage  tossResult  alloutRec  alloutGiv  \\\n",
       "0        1  IND     KOR           0           0          1          1   \n",
       "1        2  KOR     IND           0           1          1          1   \n",
       "2        3  USA     IRN           0           1          0          4   \n",
       "3        4  IRN     USA           0           0          4          0   \n",
       "4        5  ENG     BAN           0           1          0          3   \n",
       "5        6  BAN     ENG           0           0          3          0   \n",
       "6        7  POL     KEN           0           0          1          2   \n",
       "7        8  KEN     POL           0           1          2          1   \n",
       "8        9  IND     AUS           0           1          4          0   \n",
       "9       10  AUS     IND           0           0          0          4   \n",
       "10      11  KOR     ARG           0           0          5          2   \n",
       "11      12  ARG     KOR           0           1          2          5   \n",
       "12      13  USA     JPN           0           1          0          3   \n",
       "13      14  JPN     USA           0           0          3          0   \n",
       "14      15  THA     IRN           0           0          1          6   \n",
       "15      16  IRN     THA           0           1          6          1   \n",
       "16      17  ENG     AUS           0           1          5          0   \n",
       "17      18  AUS     ENG           0           0          0          5   \n",
       "18      19  THA     POL           0           1          5          1   \n",
       "19      20  POL     THA           0           0          1          5   \n",
       "20      21  IRN     KEN           0           1          1          0   \n",
       "21      22  KEN     IRN           0           0          0          1   \n",
       "22      23  IND     BAN           0           1          4          0   \n",
       "23      24  BAN     IND           0           0          0          4   \n",
       "24      25  POL     JPN           0           0          0          1   \n",
       "25      26  JPN     POL           0           1          1          0   \n",
       "26      27  AUS     ARG           0           1          4          0   \n",
       "27      28  ARG     AUS           0           0          0          4   \n",
       "28      29  THA     KEN           0           1          4          0   \n",
       "29      30  KEN     THA           0           0          0          4   \n",
       "..     ...  ...     ...         ...         ...        ...        ...   \n",
       "36      37  KOR     AUS           0           1          4          0   \n",
       "37      38  AUS     KOR           0           0          0          4   \n",
       "38      39  IRN     JPN           0           1          2          1   \n",
       "39      40  JPN     IRN           0           0          1          2   \n",
       "40      41  IND     ARG           0           0          6          0   \n",
       "41      42  ARG     IND           0           1          0          6   \n",
       "42      43  THA     USA           0           1          5          0   \n",
       "43      44  USA     THA           0           0          0          5   \n",
       "44      45  KOR     ENG           0           1          4          0   \n",
       "45      46  ENG     KOR           0           0          0          4   \n",
       "46      47  JPN     KEN           0           1          0          2   \n",
       "47      48  KEN     JPN           0           0          2          0   \n",
       "48      49  POL     IRN           0           0          2          0   \n",
       "49      50  IRN     POL           0           1          0          2   \n",
       "50      51  AUS     BAN           0           0          0          7   \n",
       "51      52  BAN     AUS           0           1          7          0   \n",
       "52      53  USA     KEN           0           0          0          6   \n",
       "53      54  KEN     USA           0           1          6          0   \n",
       "54      55  IND     ENG           0           0          5          0   \n",
       "55      56  ENG     IND           0           1          0          5   \n",
       "56      57  BAN     ARG           0           0          4          0   \n",
       "57      58  ARG     BAN           0           1          0          4   \n",
       "58      59  THA     JPN           0           1          1          1   \n",
       "59      60  JPN     THA           0           0          1          1   \n",
       "60      61  KOR     IRN           1           1          1          1   \n",
       "61      62  IRN     KOR           1           0          1          1   \n",
       "62      63  IND     THA           1           1          6          0   \n",
       "63      64  THA     IND           1           0          0          6   \n",
       "64      65  IND     IRN           2           0          2          1   \n",
       "65      66  IRN     IND           2           1          1          2   \n",
       "\n",
       "    sTackleRec  sTackleGiv  touchPntsRec     ...       totalPntsRec  \\\n",
       "0            1           2            12     ...                 32   \n",
       "1            2           1            12     ...                 34   \n",
       "2            0           0            11     ...                 15   \n",
       "3            0           0            22     ...                 52   \n",
       "4            1           0            11     ...                 18   \n",
       "5            0           0            26     ...                 52   \n",
       "6            0           2            27     ...                 48   \n",
       "7            0           0            26     ...                 54   \n",
       "8            0           0            25     ...                 54   \n",
       "9            0           0            11     ...                 20   \n",
       "10           2           0            32     ...                 68   \n",
       "11           0           0            22     ...                 42   \n",
       "12           0           0             7     ...                 19   \n",
       "13           0           0            16     ...                 45   \n",
       "14           1           0            14     ...                 23   \n",
       "15           0           0            27     ...                 64   \n",
       "16           0           0            37     ...                 69   \n",
       "17           0           0            11     ...                 25   \n",
       "18           0           0            25     ...                 65   \n",
       "19           0           0            13     ...                 25   \n",
       "20           0           2            14     ...                 33   \n",
       "21           0           0             7     ...                 28   \n",
       "22           0           0            22     ...                 57   \n",
       "23           0           0             8     ...                 20   \n",
       "24           0           0            15     ...                 22   \n",
       "25           0           0            13     ...                 33   \n",
       "26           1           1            29     ...                 68   \n",
       "27           0           0            18     ...                 45   \n",
       "28           0           1            25     ...                 53   \n",
       "29           0           0             6     ...                 21   \n",
       "..         ...         ...           ...     ...                ...   \n",
       "36           2           1            30     ...                 63   \n",
       "37           1           2            10     ...                 25   \n",
       "38           0           0            21     ...                 38   \n",
       "39           0           0            18     ...                 34   \n",
       "40           0           1            27     ...                 74   \n",
       "41           1           0            10     ...                 20   \n",
       "42           0           1            26     ...                 69   \n",
       "43           1           0             3     ...                 22   \n",
       "44           0           3            25     ...                 56   \n",
       "45           3           0             3     ...                 17   \n",
       "46           2           9             9     ...                 27   \n",
       "47           9           2            12     ...                 48   \n",
       "48           0           1            23     ...                 41   \n",
       "49           1           0            16     ...                 25   \n",
       "50           0           0             1     ...                  8   \n",
       "51           0           0            34     ...                 80   \n",
       "52           0           3            11     ...                 19   \n",
       "53           3           0            26     ...                 74   \n",
       "54           0           0            31     ...                 69   \n",
       "55           0           0            14     ...                 18   \n",
       "56           0           0            37     ...                 67   \n",
       "57           0           0            19     ...                 26   \n",
       "58           2           3            15     ...                 37   \n",
       "59           3           2             8     ...                 33   \n",
       "60           1           0             6     ...                 22   \n",
       "61           0           1             9     ...                 28   \n",
       "62           0           0            37     ...                 73   \n",
       "63           0           0            11     ...                 20   \n",
       "64           1           1            16     ...                 38   \n",
       "65           1           1            11     ...                 29   \n",
       "\n",
       "    totalPntsGiv  touchPntsDiff  bonusPntsDiff  raidPntsDiff  tacklePntsDiff  \\\n",
       "0             34              0             -3            -3              -1   \n",
       "1             32              0              3             3               1   \n",
       "2             52            -11             -3           -14             -11   \n",
       "3             15             11              3            14              11   \n",
       "4             52            -15             -6           -21              -4   \n",
       "5             18             15              6            21               4   \n",
       "6             54              1              4             5             -11   \n",
       "7             48             -1             -4            -5              11   \n",
       "8             20             14              1            15              10   \n",
       "9             54            -14             -1           -15             -10   \n",
       "10            42             10             -3             7               7   \n",
       "11            68            -10              3            -7              -7   \n",
       "12            45             -9              3            -6             -12   \n",
       "13            19              9             -3             6              12   \n",
       "14            64            -13              1           -12             -19   \n",
       "15            23             13             -1            12              19   \n",
       "16            25             26             -2            24               7   \n",
       "17            69            -26              2           -24              -7   \n",
       "18            25             12              1            13              14   \n",
       "19            65            -12             -1           -13             -14   \n",
       "20            28              7             -3             4               2   \n",
       "21            33             -7              3            -4              -2   \n",
       "22            20             14              2            16              13   \n",
       "23            57            -14             -2           -16             -13   \n",
       "24            33              2             -1             1             -10   \n",
       "25            22             -2              1            -1              10   \n",
       "26            45             11             -4             7               8   \n",
       "27            68            -11              4            -7              -8   \n",
       "28            21             19             -4            15               6   \n",
       "29            53            -19              4           -15              -6   \n",
       "..           ...            ...            ...           ...             ...   \n",
       "36            25             20              2            22               5   \n",
       "37            63            -20             -2           -22              -5   \n",
       "38            34              3             -4            -1               4   \n",
       "39            38             -3              4             1              -4   \n",
       "40            20             17              4            21              21   \n",
       "41            74            -17             -4           -21             -21   \n",
       "42            22             23              4            27               6   \n",
       "43            69            -23             -4           -27              -6   \n",
       "44            17             22              3            25               5   \n",
       "45            56            -22             -3           -25              -5   \n",
       "46            48             -3              1            -2             -15   \n",
       "47            27              3             -1             2              15   \n",
       "48            25              7              4            11               1   \n",
       "49            41             -7             -4           -11              -1   \n",
       "50            80            -33             -9           -42             -15   \n",
       "51             8             33              9            42              15   \n",
       "52            74            -15             -4           -19             -18   \n",
       "53            19             15              4            19              18   \n",
       "54            18             17              9            26              11   \n",
       "55            69            -17             -9           -26             -11   \n",
       "56            26             18              1            19              12   \n",
       "57            67            -18             -1           -19             -12   \n",
       "58            33              7             -1             6              -6   \n",
       "59            37             -7              1            -6               6   \n",
       "60            28             -3             -1            -4              -5   \n",
       "61            22              3              1             4               5   \n",
       "62            20             26              1            27              14   \n",
       "63            73            -26             -1           -27             -14   \n",
       "64            29              5              1             6              -1   \n",
       "65            38             -5             -1            -6               1   \n",
       "\n",
       "    alloutPntsDiff  extraPntsDiff  totalPntsDiff  matchResult  \n",
       "0                0              2             -2            0  \n",
       "1                0             -2              2            1  \n",
       "2               -8             -4            -37            0  \n",
       "3                8              4             37            1  \n",
       "4               -6             -3            -34            0  \n",
       "5                6              3             34            1  \n",
       "6               -2              2             -6            0  \n",
       "7                2             -2              6            1  \n",
       "8                8              1             34            1  \n",
       "9               -8             -1            -34            0  \n",
       "10               6              6             26            1  \n",
       "11              -6             -6            -26            0  \n",
       "12              -6             -2            -26            0  \n",
       "13               6              2             26            1  \n",
       "14             -10              0            -41            0  \n",
       "15              10              0             41            1  \n",
       "16              10              3             44            1  \n",
       "17             -10             -3            -44            0  \n",
       "18               8              5             40            1  \n",
       "19              -8             -5            -40            0  \n",
       "20               2             -3              5            1  \n",
       "21              -2              3             -5            0  \n",
       "22               8              0             37            1  \n",
       "23              -8              0            -37            0  \n",
       "24              -2              0            -11            0  \n",
       "25               2              0             11            1  \n",
       "26               8              0             23            1  \n",
       "27              -8              0            -23            0  \n",
       "28               8              3             32            1  \n",
       "29              -8             -3            -32            0  \n",
       "..             ...            ...            ...          ...  \n",
       "36               8              3             38            1  \n",
       "37              -8             -3            -38            0  \n",
       "38               2             -1              4            1  \n",
       "39              -2              1             -4            0  \n",
       "40              12              0             54            1  \n",
       "41             -12              0            -54            0  \n",
       "42              10              4             47            1  \n",
       "43             -10             -4            -47            0  \n",
       "44               8              1             39            1  \n",
       "45              -8             -1            -39            0  \n",
       "46              -4              0            -21            0  \n",
       "47               4              0             21            1  \n",
       "48               4              0             16            1  \n",
       "49              -4              0            -16            0  \n",
       "50             -14             -1            -72            0  \n",
       "51              14              1             72            1  \n",
       "52             -12             -6            -55            0  \n",
       "53              12              6             55            1  \n",
       "54              10              4             51            1  \n",
       "55             -10             -4            -51            0  \n",
       "56               8              2             41            1  \n",
       "57              -8             -2            -41            0  \n",
       "58               0              4              4            1  \n",
       "59               0             -4             -4            0  \n",
       "60               0              3             -6            0  \n",
       "61               0             -3              6            1  \n",
       "62              12              0             53            1  \n",
       "63             -12              0            -53            0  \n",
       "64               2              2              9            1  \n",
       "65              -2             -2             -9            0  \n",
       "\n",
       "[66 rows x 31 columns]"
      ]
     },
     "execution_count": 30,
     "metadata": {},
     "output_type": "execute_result"
    }
   ],
   "source": [
    "data"
   ]
  },
  {
   "cell_type": "markdown",
   "metadata": {},
   "source": [
    "#### В таблице представлено 66 строк и 31 столбец."
   ]
  },
  {
   "cell_type": "code",
   "execution_count": 31,
   "metadata": {
    "collapsed": false
   },
   "outputs": [
    {
     "name": "stdout",
     "output_type": "stream",
     "text": [
      "(66, 31)\n"
     ]
    }
   ],
   "source": [
    "print(data.shape)"
   ]
  },
  {
   "cell_type": "markdown",
   "metadata": {},
   "source": [
    "#### По строчкам мы можем посмотреть информацию по определенной игре, по столбцам различные характеристики. Рассмотрим их подробнее:"
   ]
  },
  {
   "cell_type": "markdown",
   "metadata": {},
   "source": [
    "##### - Названия всех столбцов:"
   ]
  },
  {
   "cell_type": "code",
   "execution_count": 32,
   "metadata": {
    "collapsed": false
   },
   "outputs": [
    {
     "name": "stdout",
     "output_type": "stream",
     "text": [
      "Index(['gameNo', 'team', 'oppTeam', 'matchStage', 'tossResult', 'alloutRec',\n",
      "       'alloutGiv', 'sTackleRec', 'sTackleGiv', 'touchPntsRec', 'touchPntsGiv',\n",
      "       'bonusPntsRec', 'bonusPntsGiv', 'raidPntsRec', 'raidPntsGiv',\n",
      "       'tacklePntsRec', 'tacklePntsGiv', 'alloutPntsRec', 'alloutPntsGiv',\n",
      "       'extraPntsRec', 'extraPntsGiv', 'totalPntsRec', 'totalPntsGiv',\n",
      "       'touchPntsDiff', 'bonusPntsDiff', 'raidPntsDiff', 'tacklePntsDiff',\n",
      "       'alloutPntsDiff', 'extraPntsDiff', 'totalPntsDiff', 'matchResult'],\n",
      "      dtype='object')\n"
     ]
    }
   ],
   "source": [
    "print(data.columns)"
   ]
  },
  {
   "cell_type": "markdown",
   "metadata": {},
   "source": [
    "##### -Значения столбцов:"
   ]
  },
  {
   "cell_type": "markdown",
   "metadata": {},
   "source": [
    "gameNo : Match number. Sequential {Integer}\n",
    "team : Team name {Factor}\n",
    "oppTeam : Opposition team name {Factor}\n",
    "matchStage : Tournament stage at which match was played. (0 - League, 1 - SemiFinal, 2 - Final ) {Factor}\n",
    "tossResult : Results of toss to select either side or raid (0 - Loss, 1 - Win)\n",
    "alloutRec : No. of time team was all out yielding 2 point {Integer}\n",
    "alloutGiv : No. of time opposition team was all out yielding 2 point {Integer}\n",
    "sTackleRec : No. of times super tackle by team yielding 2 point {Integer}\n",
    "sTackleGiv : No. of times super tackle by opposition team yielding 2 point {Integer}\n",
    "touchPntsRec : No. of times player in raid touched opposition team player yiedling 1 point for every touch {Integer}\n",
    "touchPntsGiv : No. of times opposition player in raid touched team player yiedling 1 point for every touch {Integer}\n",
    "bonusPntsRec : No. of times player in raid crossed bonus line yiedling 1 point for every raid {Integer}\n",
    "bonusPntsGiv : No. of times opposition player in raid crossed bonus line yiedling 1 point for every raid {Integer}\n",
    "raidPntsRec : No. of total raid (attack) points by team, sum of touch points and bonus points {Integer}\n",
    "raidPntsGiv : No. of total raid (attack) points by opposition team, sum of touch points and bonus points {Integer}\n",
    "tacklePntsRec : No. of tackle (defense) points received by team yielding 1 point for normal tackle and 2 points for super tackle {Integer}\n",
    "tacklePntsGiv : No. of tackle (defense) points received by opposition team yielding 1 point for normal tackle and 2 points for super tackle {Integer}\n",
    "alloutPntsRec : No. of all out points received by team yielding 2 points per allout {Integer}\n",
    "alloutPntsGiv : No. of all out points received by opposition team yielding 2 points per allout {Integer}\n",
    "extraPntsRec : No. of extra (technical, penalty) points received by team {Integer}\n",
    "extraPntsGiv : No. of extra (technical, penalty) points received by opposition team {Integer}\n",
    "totalPntsRec : No. of total points received by team, sum of raid points, tackle points, allout points & extra points {Integer}\n",
    "totalPntsGiv : No. of total points received by opposition team, sum of raid points, tackle points, allout points & extra points {Integer}\n",
    "touchPntsDiff : No. of touch points difference from opposition team {Integer}\n",
    "bonusPntsDiff : No. of bonus points difference from opposition team {Integer}\n",
    "raidPntsDiff : No. of raid points difference from opposition team {Integer}\n",
    "tacklePntsDiff : No. of tackle points difference from opposition team {Integer}\n",
    "alloutPntsDiff : No. of allout points difference from opposition team {Integer}\n",
    "extraPntsDiff : No. of extra points difference from opposition team {Integer}\n",
    "totalPntsDiff : No. of total points difference from opposition team {Integer}\n",
    "matchResults : Results of the match (0 - Loss, 1 - Win) {Factor}"
   ]
  },
  {
   "cell_type": "code",
   "execution_count": 33,
   "metadata": {
    "collapsed": false
   },
   "outputs": [
    {
     "name": "stdout",
     "output_type": "stream",
     "text": [
      "<class 'pandas.core.frame.DataFrame'>\n",
      "RangeIndex: 66 entries, 0 to 65\n",
      "Data columns (total 31 columns):\n",
      "gameNo            66 non-null int64\n",
      "team              66 non-null object\n",
      "oppTeam           66 non-null object\n",
      "matchStage        66 non-null int64\n",
      "tossResult        66 non-null int64\n",
      "alloutRec         66 non-null int64\n",
      "alloutGiv         66 non-null int64\n",
      "sTackleRec        66 non-null int64\n",
      "sTackleGiv        66 non-null int64\n",
      "touchPntsRec      66 non-null int64\n",
      "touchPntsGiv      66 non-null int64\n",
      "bonusPntsRec      66 non-null int64\n",
      "bonusPntsGiv      66 non-null int64\n",
      "raidPntsRec       66 non-null int64\n",
      "raidPntsGiv       66 non-null int64\n",
      "tacklePntsRec     66 non-null int64\n",
      "tacklePntsGiv     66 non-null int64\n",
      "alloutPntsRec     66 non-null int64\n",
      "alloutPntsGiv     66 non-null int64\n",
      "extraPntsRec      66 non-null int64\n",
      "extraPntsGiv      66 non-null int64\n",
      "totalPntsRec      66 non-null int64\n",
      "totalPntsGiv      66 non-null int64\n",
      "touchPntsDiff     66 non-null int64\n",
      "bonusPntsDiff     66 non-null int64\n",
      "raidPntsDiff      66 non-null int64\n",
      "tacklePntsDiff    66 non-null int64\n",
      "alloutPntsDiff    66 non-null int64\n",
      "extraPntsDiff     66 non-null int64\n",
      "totalPntsDiff     66 non-null int64\n",
      "matchResult       66 non-null int64\n",
      "dtypes: int64(29), object(2)\n",
      "memory usage: 16.1+ KB\n"
     ]
    }
   ],
   "source": [
    "data.info()"
   ]
  },
  {
   "cell_type": "markdown",
   "metadata": {},
   "source": [
    "# Продемонстрируем некоторые части данны"
   ]
  },
  {
   "cell_type": "markdown",
   "metadata": {},
   "source": [
    "#### Выведем первые 5 строк таблицы"
   ]
  },
  {
   "cell_type": "code",
   "execution_count": 34,
   "metadata": {
    "collapsed": false
   },
   "outputs": [
    {
     "data": {
      "text/html": [
       "<div>\n",
       "<table border=\"1\" class=\"dataframe\">\n",
       "  <thead>\n",
       "    <tr style=\"text-align: right;\">\n",
       "      <th></th>\n",
       "      <th>gameNo</th>\n",
       "      <th>team</th>\n",
       "      <th>oppTeam</th>\n",
       "      <th>matchStage</th>\n",
       "      <th>tossResult</th>\n",
       "      <th>alloutRec</th>\n",
       "      <th>alloutGiv</th>\n",
       "      <th>sTackleRec</th>\n",
       "      <th>sTackleGiv</th>\n",
       "      <th>touchPntsRec</th>\n",
       "      <th>...</th>\n",
       "      <th>totalPntsRec</th>\n",
       "      <th>totalPntsGiv</th>\n",
       "      <th>touchPntsDiff</th>\n",
       "      <th>bonusPntsDiff</th>\n",
       "      <th>raidPntsDiff</th>\n",
       "      <th>tacklePntsDiff</th>\n",
       "      <th>alloutPntsDiff</th>\n",
       "      <th>extraPntsDiff</th>\n",
       "      <th>totalPntsDiff</th>\n",
       "      <th>matchResult</th>\n",
       "    </tr>\n",
       "  </thead>\n",
       "  <tbody>\n",
       "    <tr>\n",
       "      <th>0</th>\n",
       "      <td>1</td>\n",
       "      <td>IND</td>\n",
       "      <td>KOR</td>\n",
       "      <td>0</td>\n",
       "      <td>0</td>\n",
       "      <td>1</td>\n",
       "      <td>1</td>\n",
       "      <td>1</td>\n",
       "      <td>2</td>\n",
       "      <td>12</td>\n",
       "      <td>...</td>\n",
       "      <td>32</td>\n",
       "      <td>34</td>\n",
       "      <td>0</td>\n",
       "      <td>-3</td>\n",
       "      <td>-3</td>\n",
       "      <td>-1</td>\n",
       "      <td>0</td>\n",
       "      <td>2</td>\n",
       "      <td>-2</td>\n",
       "      <td>0</td>\n",
       "    </tr>\n",
       "    <tr>\n",
       "      <th>1</th>\n",
       "      <td>2</td>\n",
       "      <td>KOR</td>\n",
       "      <td>IND</td>\n",
       "      <td>0</td>\n",
       "      <td>1</td>\n",
       "      <td>1</td>\n",
       "      <td>1</td>\n",
       "      <td>2</td>\n",
       "      <td>1</td>\n",
       "      <td>12</td>\n",
       "      <td>...</td>\n",
       "      <td>34</td>\n",
       "      <td>32</td>\n",
       "      <td>0</td>\n",
       "      <td>3</td>\n",
       "      <td>3</td>\n",
       "      <td>1</td>\n",
       "      <td>0</td>\n",
       "      <td>-2</td>\n",
       "      <td>2</td>\n",
       "      <td>1</td>\n",
       "    </tr>\n",
       "    <tr>\n",
       "      <th>2</th>\n",
       "      <td>3</td>\n",
       "      <td>USA</td>\n",
       "      <td>IRN</td>\n",
       "      <td>0</td>\n",
       "      <td>1</td>\n",
       "      <td>0</td>\n",
       "      <td>4</td>\n",
       "      <td>0</td>\n",
       "      <td>0</td>\n",
       "      <td>11</td>\n",
       "      <td>...</td>\n",
       "      <td>15</td>\n",
       "      <td>52</td>\n",
       "      <td>-11</td>\n",
       "      <td>-3</td>\n",
       "      <td>-14</td>\n",
       "      <td>-11</td>\n",
       "      <td>-8</td>\n",
       "      <td>-4</td>\n",
       "      <td>-37</td>\n",
       "      <td>0</td>\n",
       "    </tr>\n",
       "    <tr>\n",
       "      <th>3</th>\n",
       "      <td>4</td>\n",
       "      <td>IRN</td>\n",
       "      <td>USA</td>\n",
       "      <td>0</td>\n",
       "      <td>0</td>\n",
       "      <td>4</td>\n",
       "      <td>0</td>\n",
       "      <td>0</td>\n",
       "      <td>0</td>\n",
       "      <td>22</td>\n",
       "      <td>...</td>\n",
       "      <td>52</td>\n",
       "      <td>15</td>\n",
       "      <td>11</td>\n",
       "      <td>3</td>\n",
       "      <td>14</td>\n",
       "      <td>11</td>\n",
       "      <td>8</td>\n",
       "      <td>4</td>\n",
       "      <td>37</td>\n",
       "      <td>1</td>\n",
       "    </tr>\n",
       "    <tr>\n",
       "      <th>4</th>\n",
       "      <td>5</td>\n",
       "      <td>ENG</td>\n",
       "      <td>BAN</td>\n",
       "      <td>0</td>\n",
       "      <td>1</td>\n",
       "      <td>0</td>\n",
       "      <td>3</td>\n",
       "      <td>1</td>\n",
       "      <td>0</td>\n",
       "      <td>11</td>\n",
       "      <td>...</td>\n",
       "      <td>18</td>\n",
       "      <td>52</td>\n",
       "      <td>-15</td>\n",
       "      <td>-6</td>\n",
       "      <td>-21</td>\n",
       "      <td>-4</td>\n",
       "      <td>-6</td>\n",
       "      <td>-3</td>\n",
       "      <td>-34</td>\n",
       "      <td>0</td>\n",
       "    </tr>\n",
       "  </tbody>\n",
       "</table>\n",
       "<p>5 rows × 31 columns</p>\n",
       "</div>"
      ],
      "text/plain": [
       "   gameNo team oppTeam  matchStage  tossResult  alloutRec  alloutGiv  \\\n",
       "0       1  IND     KOR           0           0          1          1   \n",
       "1       2  KOR     IND           0           1          1          1   \n",
       "2       3  USA     IRN           0           1          0          4   \n",
       "3       4  IRN     USA           0           0          4          0   \n",
       "4       5  ENG     BAN           0           1          0          3   \n",
       "\n",
       "   sTackleRec  sTackleGiv  touchPntsRec     ...       totalPntsRec  \\\n",
       "0           1           2            12     ...                 32   \n",
       "1           2           1            12     ...                 34   \n",
       "2           0           0            11     ...                 15   \n",
       "3           0           0            22     ...                 52   \n",
       "4           1           0            11     ...                 18   \n",
       "\n",
       "   totalPntsGiv  touchPntsDiff  bonusPntsDiff  raidPntsDiff  tacklePntsDiff  \\\n",
       "0            34              0             -3            -3              -1   \n",
       "1            32              0              3             3               1   \n",
       "2            52            -11             -3           -14             -11   \n",
       "3            15             11              3            14              11   \n",
       "4            52            -15             -6           -21              -4   \n",
       "\n",
       "   alloutPntsDiff  extraPntsDiff  totalPntsDiff  matchResult  \n",
       "0               0              2             -2            0  \n",
       "1               0             -2              2            1  \n",
       "2              -8             -4            -37            0  \n",
       "3               8              4             37            1  \n",
       "4              -6             -3            -34            0  \n",
       "\n",
       "[5 rows x 31 columns]"
      ]
     },
     "execution_count": 34,
     "metadata": {},
     "output_type": "execute_result"
    }
   ],
   "source": [
    "data.head()"
   ]
  },
  {
   "cell_type": "markdown",
   "metadata": {},
   "source": [
    "#### Выведем последние несколько строк таблицы"
   ]
  },
  {
   "cell_type": "code",
   "execution_count": 35,
   "metadata": {
    "collapsed": false
   },
   "outputs": [
    {
     "data": {
      "text/html": [
       "<div>\n",
       "<table border=\"1\" class=\"dataframe\">\n",
       "  <thead>\n",
       "    <tr style=\"text-align: right;\">\n",
       "      <th></th>\n",
       "      <th>gameNo</th>\n",
       "      <th>team</th>\n",
       "      <th>oppTeam</th>\n",
       "      <th>matchStage</th>\n",
       "      <th>tossResult</th>\n",
       "      <th>alloutRec</th>\n",
       "      <th>alloutGiv</th>\n",
       "      <th>sTackleRec</th>\n",
       "      <th>sTackleGiv</th>\n",
       "      <th>touchPntsRec</th>\n",
       "      <th>...</th>\n",
       "      <th>totalPntsRec</th>\n",
       "      <th>totalPntsGiv</th>\n",
       "      <th>touchPntsDiff</th>\n",
       "      <th>bonusPntsDiff</th>\n",
       "      <th>raidPntsDiff</th>\n",
       "      <th>tacklePntsDiff</th>\n",
       "      <th>alloutPntsDiff</th>\n",
       "      <th>extraPntsDiff</th>\n",
       "      <th>totalPntsDiff</th>\n",
       "      <th>matchResult</th>\n",
       "    </tr>\n",
       "  </thead>\n",
       "  <tbody>\n",
       "    <tr>\n",
       "      <th>61</th>\n",
       "      <td>62</td>\n",
       "      <td>IRN</td>\n",
       "      <td>KOR</td>\n",
       "      <td>1</td>\n",
       "      <td>0</td>\n",
       "      <td>1</td>\n",
       "      <td>1</td>\n",
       "      <td>0</td>\n",
       "      <td>1</td>\n",
       "      <td>9</td>\n",
       "      <td>...</td>\n",
       "      <td>28</td>\n",
       "      <td>22</td>\n",
       "      <td>3</td>\n",
       "      <td>1</td>\n",
       "      <td>4</td>\n",
       "      <td>5</td>\n",
       "      <td>0</td>\n",
       "      <td>-3</td>\n",
       "      <td>6</td>\n",
       "      <td>1</td>\n",
       "    </tr>\n",
       "    <tr>\n",
       "      <th>62</th>\n",
       "      <td>63</td>\n",
       "      <td>IND</td>\n",
       "      <td>THA</td>\n",
       "      <td>1</td>\n",
       "      <td>1</td>\n",
       "      <td>6</td>\n",
       "      <td>0</td>\n",
       "      <td>0</td>\n",
       "      <td>0</td>\n",
       "      <td>37</td>\n",
       "      <td>...</td>\n",
       "      <td>73</td>\n",
       "      <td>20</td>\n",
       "      <td>26</td>\n",
       "      <td>1</td>\n",
       "      <td>27</td>\n",
       "      <td>14</td>\n",
       "      <td>12</td>\n",
       "      <td>0</td>\n",
       "      <td>53</td>\n",
       "      <td>1</td>\n",
       "    </tr>\n",
       "    <tr>\n",
       "      <th>63</th>\n",
       "      <td>64</td>\n",
       "      <td>THA</td>\n",
       "      <td>IND</td>\n",
       "      <td>1</td>\n",
       "      <td>0</td>\n",
       "      <td>0</td>\n",
       "      <td>6</td>\n",
       "      <td>0</td>\n",
       "      <td>0</td>\n",
       "      <td>11</td>\n",
       "      <td>...</td>\n",
       "      <td>20</td>\n",
       "      <td>73</td>\n",
       "      <td>-26</td>\n",
       "      <td>-1</td>\n",
       "      <td>-27</td>\n",
       "      <td>-14</td>\n",
       "      <td>-12</td>\n",
       "      <td>0</td>\n",
       "      <td>-53</td>\n",
       "      <td>0</td>\n",
       "    </tr>\n",
       "    <tr>\n",
       "      <th>64</th>\n",
       "      <td>65</td>\n",
       "      <td>IND</td>\n",
       "      <td>IRN</td>\n",
       "      <td>2</td>\n",
       "      <td>0</td>\n",
       "      <td>2</td>\n",
       "      <td>1</td>\n",
       "      <td>1</td>\n",
       "      <td>1</td>\n",
       "      <td>16</td>\n",
       "      <td>...</td>\n",
       "      <td>38</td>\n",
       "      <td>29</td>\n",
       "      <td>5</td>\n",
       "      <td>1</td>\n",
       "      <td>6</td>\n",
       "      <td>-1</td>\n",
       "      <td>2</td>\n",
       "      <td>2</td>\n",
       "      <td>9</td>\n",
       "      <td>1</td>\n",
       "    </tr>\n",
       "    <tr>\n",
       "      <th>65</th>\n",
       "      <td>66</td>\n",
       "      <td>IRN</td>\n",
       "      <td>IND</td>\n",
       "      <td>2</td>\n",
       "      <td>1</td>\n",
       "      <td>1</td>\n",
       "      <td>2</td>\n",
       "      <td>1</td>\n",
       "      <td>1</td>\n",
       "      <td>11</td>\n",
       "      <td>...</td>\n",
       "      <td>29</td>\n",
       "      <td>38</td>\n",
       "      <td>-5</td>\n",
       "      <td>-1</td>\n",
       "      <td>-6</td>\n",
       "      <td>1</td>\n",
       "      <td>-2</td>\n",
       "      <td>-2</td>\n",
       "      <td>-9</td>\n",
       "      <td>0</td>\n",
       "    </tr>\n",
       "  </tbody>\n",
       "</table>\n",
       "<p>5 rows × 31 columns</p>\n",
       "</div>"
      ],
      "text/plain": [
       "    gameNo team oppTeam  matchStage  tossResult  alloutRec  alloutGiv  \\\n",
       "61      62  IRN     KOR           1           0          1          1   \n",
       "62      63  IND     THA           1           1          6          0   \n",
       "63      64  THA     IND           1           0          0          6   \n",
       "64      65  IND     IRN           2           0          2          1   \n",
       "65      66  IRN     IND           2           1          1          2   \n",
       "\n",
       "    sTackleRec  sTackleGiv  touchPntsRec     ...       totalPntsRec  \\\n",
       "61           0           1             9     ...                 28   \n",
       "62           0           0            37     ...                 73   \n",
       "63           0           0            11     ...                 20   \n",
       "64           1           1            16     ...                 38   \n",
       "65           1           1            11     ...                 29   \n",
       "\n",
       "    totalPntsGiv  touchPntsDiff  bonusPntsDiff  raidPntsDiff  tacklePntsDiff  \\\n",
       "61            22              3              1             4               5   \n",
       "62            20             26              1            27              14   \n",
       "63            73            -26             -1           -27             -14   \n",
       "64            29              5              1             6              -1   \n",
       "65            38             -5             -1            -6               1   \n",
       "\n",
       "    alloutPntsDiff  extraPntsDiff  totalPntsDiff  matchResult  \n",
       "61               0             -3              6            1  \n",
       "62              12              0             53            1  \n",
       "63             -12              0            -53            0  \n",
       "64               2              2              9            1  \n",
       "65              -2             -2             -9            0  \n",
       "\n",
       "[5 rows x 31 columns]"
      ]
     },
     "execution_count": 35,
     "metadata": {},
     "output_type": "execute_result"
    }
   ],
   "source": [
    "\n",
    "data.tail()"
   ]
  },
  {
   "cell_type": "markdown",
   "metadata": {},
   "source": [
    "##### Всего в игре принимали участие 12 уникальных стран"
   ]
  },
  {
   "cell_type": "code",
   "execution_count": 36,
   "metadata": {
    "collapsed": false
   },
   "outputs": [
    {
     "data": {
      "text/plain": [
       "array(['IND', 'KOR', 'USA', 'IRN', 'ENG', 'BAN', 'POL', 'KEN', 'AUS',\n",
       "       'ARG', 'JPN', 'THA'], dtype=object)"
      ]
     },
     "execution_count": 36,
     "metadata": {},
     "output_type": "execute_result"
    }
   ],
   "source": [
    "data['team'].unique()"
   ]
  },
  {
   "cell_type": "markdown",
   "metadata": {},
   "source": [
    "##### Самый большой разрыв по очкам "
   ]
  },
  {
   "cell_type": "code",
   "execution_count": 37,
   "metadata": {
    "collapsed": false
   },
   "outputs": [
    {
     "data": {
      "text/plain": [
       "72"
      ]
     },
     "execution_count": 37,
     "metadata": {},
     "output_type": "execute_result"
    }
   ],
   "source": [
    "data['totalPntsDiff'].max()\n"
   ]
  },
  {
   "cell_type": "markdown",
   "metadata": {},
   "source": [
    "# Рассмотрим некоторые статистические характеристики для представленных данных:"
   ]
  },
  {
   "cell_type": "markdown",
   "metadata": {},
   "source": [
    "#### 1) По всем признакам"
   ]
  },
  {
   "cell_type": "code",
   "execution_count": 38,
   "metadata": {
    "collapsed": false
   },
   "outputs": [
    {
     "data": {
      "text/html": [
       "<div>\n",
       "<table border=\"1\" class=\"dataframe\">\n",
       "  <thead>\n",
       "    <tr style=\"text-align: right;\">\n",
       "      <th></th>\n",
       "      <th>gameNo</th>\n",
       "      <th>team</th>\n",
       "      <th>oppTeam</th>\n",
       "      <th>matchStage</th>\n",
       "      <th>tossResult</th>\n",
       "      <th>alloutRec</th>\n",
       "      <th>alloutGiv</th>\n",
       "      <th>sTackleRec</th>\n",
       "      <th>sTackleGiv</th>\n",
       "      <th>touchPntsRec</th>\n",
       "      <th>...</th>\n",
       "      <th>totalPntsRec</th>\n",
       "      <th>totalPntsGiv</th>\n",
       "      <th>touchPntsDiff</th>\n",
       "      <th>bonusPntsDiff</th>\n",
       "      <th>raidPntsDiff</th>\n",
       "      <th>tacklePntsDiff</th>\n",
       "      <th>alloutPntsDiff</th>\n",
       "      <th>extraPntsDiff</th>\n",
       "      <th>totalPntsDiff</th>\n",
       "      <th>matchResult</th>\n",
       "    </tr>\n",
       "  </thead>\n",
       "  <tbody>\n",
       "    <tr>\n",
       "      <th>count</th>\n",
       "      <td>66.000000</td>\n",
       "      <td>66</td>\n",
       "      <td>66</td>\n",
       "      <td>66.000000</td>\n",
       "      <td>66.000000</td>\n",
       "      <td>66.000000</td>\n",
       "      <td>66.000000</td>\n",
       "      <td>66.000000</td>\n",
       "      <td>66.000000</td>\n",
       "      <td>66.000000</td>\n",
       "      <td>...</td>\n",
       "      <td>66.000000</td>\n",
       "      <td>66.000000</td>\n",
       "      <td>66.000000</td>\n",
       "      <td>66.000000</td>\n",
       "      <td>66.000000</td>\n",
       "      <td>66.000000</td>\n",
       "      <td>66.000000</td>\n",
       "      <td>66.000000</td>\n",
       "      <td>66.000000</td>\n",
       "      <td>66.000000</td>\n",
       "    </tr>\n",
       "    <tr>\n",
       "      <th>unique</th>\n",
       "      <td>NaN</td>\n",
       "      <td>12</td>\n",
       "      <td>12</td>\n",
       "      <td>NaN</td>\n",
       "      <td>NaN</td>\n",
       "      <td>NaN</td>\n",
       "      <td>NaN</td>\n",
       "      <td>NaN</td>\n",
       "      <td>NaN</td>\n",
       "      <td>NaN</td>\n",
       "      <td>...</td>\n",
       "      <td>NaN</td>\n",
       "      <td>NaN</td>\n",
       "      <td>NaN</td>\n",
       "      <td>NaN</td>\n",
       "      <td>NaN</td>\n",
       "      <td>NaN</td>\n",
       "      <td>NaN</td>\n",
       "      <td>NaN</td>\n",
       "      <td>NaN</td>\n",
       "      <td>NaN</td>\n",
       "    </tr>\n",
       "    <tr>\n",
       "      <th>top</th>\n",
       "      <td>NaN</td>\n",
       "      <td>IND</td>\n",
       "      <td>IRN</td>\n",
       "      <td>NaN</td>\n",
       "      <td>NaN</td>\n",
       "      <td>NaN</td>\n",
       "      <td>NaN</td>\n",
       "      <td>NaN</td>\n",
       "      <td>NaN</td>\n",
       "      <td>NaN</td>\n",
       "      <td>...</td>\n",
       "      <td>NaN</td>\n",
       "      <td>NaN</td>\n",
       "      <td>NaN</td>\n",
       "      <td>NaN</td>\n",
       "      <td>NaN</td>\n",
       "      <td>NaN</td>\n",
       "      <td>NaN</td>\n",
       "      <td>NaN</td>\n",
       "      <td>NaN</td>\n",
       "      <td>NaN</td>\n",
       "    </tr>\n",
       "    <tr>\n",
       "      <th>freq</th>\n",
       "      <td>NaN</td>\n",
       "      <td>7</td>\n",
       "      <td>7</td>\n",
       "      <td>NaN</td>\n",
       "      <td>NaN</td>\n",
       "      <td>NaN</td>\n",
       "      <td>NaN</td>\n",
       "      <td>NaN</td>\n",
       "      <td>NaN</td>\n",
       "      <td>NaN</td>\n",
       "      <td>...</td>\n",
       "      <td>NaN</td>\n",
       "      <td>NaN</td>\n",
       "      <td>NaN</td>\n",
       "      <td>NaN</td>\n",
       "      <td>NaN</td>\n",
       "      <td>NaN</td>\n",
       "      <td>NaN</td>\n",
       "      <td>NaN</td>\n",
       "      <td>NaN</td>\n",
       "      <td>NaN</td>\n",
       "    </tr>\n",
       "    <tr>\n",
       "      <th>mean</th>\n",
       "      <td>33.500000</td>\n",
       "      <td>NaN</td>\n",
       "      <td>NaN</td>\n",
       "      <td>0.121212</td>\n",
       "      <td>0.500000</td>\n",
       "      <td>2.030303</td>\n",
       "      <td>2.030303</td>\n",
       "      <td>0.651515</td>\n",
       "      <td>0.696970</td>\n",
       "      <td>17.848485</td>\n",
       "      <td>...</td>\n",
       "      <td>40.469697</td>\n",
       "      <td>40.469697</td>\n",
       "      <td>0.000000</td>\n",
       "      <td>0.000000</td>\n",
       "      <td>0.000000</td>\n",
       "      <td>0.000000</td>\n",
       "      <td>0.000000</td>\n",
       "      <td>0.000000</td>\n",
       "      <td>0.000000</td>\n",
       "      <td>0.500000</td>\n",
       "    </tr>\n",
       "    <tr>\n",
       "      <th>std</th>\n",
       "      <td>19.196354</td>\n",
       "      <td>NaN</td>\n",
       "      <td>NaN</td>\n",
       "      <td>0.411943</td>\n",
       "      <td>0.503831</td>\n",
       "      <td>2.140954</td>\n",
       "      <td>2.140954</td>\n",
       "      <td>1.364297</td>\n",
       "      <td>1.380855</td>\n",
       "      <td>9.170593</td>\n",
       "      <td>...</td>\n",
       "      <td>19.493762</td>\n",
       "      <td>19.493762</td>\n",
       "      <td>15.176906</td>\n",
       "      <td>3.790677</td>\n",
       "      <td>17.324949</td>\n",
       "      <td>10.368592</td>\n",
       "      <td>7.860319</td>\n",
       "      <td>2.997435</td>\n",
       "      <td>35.656049</td>\n",
       "      <td>0.503831</td>\n",
       "    </tr>\n",
       "    <tr>\n",
       "      <th>min</th>\n",
       "      <td>1.000000</td>\n",
       "      <td>NaN</td>\n",
       "      <td>NaN</td>\n",
       "      <td>0.000000</td>\n",
       "      <td>0.000000</td>\n",
       "      <td>0.000000</td>\n",
       "      <td>0.000000</td>\n",
       "      <td>0.000000</td>\n",
       "      <td>0.000000</td>\n",
       "      <td>1.000000</td>\n",
       "      <td>...</td>\n",
       "      <td>8.000000</td>\n",
       "      <td>8.000000</td>\n",
       "      <td>-33.000000</td>\n",
       "      <td>-9.000000</td>\n",
       "      <td>-42.000000</td>\n",
       "      <td>-21.000000</td>\n",
       "      <td>-14.000000</td>\n",
       "      <td>-7.000000</td>\n",
       "      <td>-72.000000</td>\n",
       "      <td>0.000000</td>\n",
       "    </tr>\n",
       "    <tr>\n",
       "      <th>25%</th>\n",
       "      <td>17.250000</td>\n",
       "      <td>NaN</td>\n",
       "      <td>NaN</td>\n",
       "      <td>0.000000</td>\n",
       "      <td>0.000000</td>\n",
       "      <td>0.000000</td>\n",
       "      <td>0.000000</td>\n",
       "      <td>0.000000</td>\n",
       "      <td>0.000000</td>\n",
       "      <td>11.000000</td>\n",
       "      <td>...</td>\n",
       "      <td>25.000000</td>\n",
       "      <td>25.000000</td>\n",
       "      <td>-12.750000</td>\n",
       "      <td>-3.000000</td>\n",
       "      <td>-13.750000</td>\n",
       "      <td>-7.750000</td>\n",
       "      <td>-8.000000</td>\n",
       "      <td>-2.000000</td>\n",
       "      <td>-34.000000</td>\n",
       "      <td>0.000000</td>\n",
       "    </tr>\n",
       "    <tr>\n",
       "      <th>50%</th>\n",
       "      <td>33.500000</td>\n",
       "      <td>NaN</td>\n",
       "      <td>NaN</td>\n",
       "      <td>0.000000</td>\n",
       "      <td>0.500000</td>\n",
       "      <td>1.000000</td>\n",
       "      <td>1.000000</td>\n",
       "      <td>0.000000</td>\n",
       "      <td>0.000000</td>\n",
       "      <td>15.500000</td>\n",
       "      <td>...</td>\n",
       "      <td>34.000000</td>\n",
       "      <td>34.000000</td>\n",
       "      <td>0.000000</td>\n",
       "      <td>0.000000</td>\n",
       "      <td>0.000000</td>\n",
       "      <td>0.000000</td>\n",
       "      <td>0.000000</td>\n",
       "      <td>0.000000</td>\n",
       "      <td>0.000000</td>\n",
       "      <td>0.500000</td>\n",
       "    </tr>\n",
       "    <tr>\n",
       "      <th>75%</th>\n",
       "      <td>49.750000</td>\n",
       "      <td>NaN</td>\n",
       "      <td>NaN</td>\n",
       "      <td>0.000000</td>\n",
       "      <td>1.000000</td>\n",
       "      <td>4.000000</td>\n",
       "      <td>4.000000</td>\n",
       "      <td>1.000000</td>\n",
       "      <td>1.000000</td>\n",
       "      <td>25.750000</td>\n",
       "      <td>...</td>\n",
       "      <td>55.500000</td>\n",
       "      <td>55.500000</td>\n",
       "      <td>12.750000</td>\n",
       "      <td>3.000000</td>\n",
       "      <td>13.750000</td>\n",
       "      <td>7.750000</td>\n",
       "      <td>8.000000</td>\n",
       "      <td>2.000000</td>\n",
       "      <td>34.000000</td>\n",
       "      <td>1.000000</td>\n",
       "    </tr>\n",
       "    <tr>\n",
       "      <th>max</th>\n",
       "      <td>66.000000</td>\n",
       "      <td>NaN</td>\n",
       "      <td>NaN</td>\n",
       "      <td>2.000000</td>\n",
       "      <td>1.000000</td>\n",
       "      <td>7.000000</td>\n",
       "      <td>7.000000</td>\n",
       "      <td>9.000000</td>\n",
       "      <td>9.000000</td>\n",
       "      <td>37.000000</td>\n",
       "      <td>...</td>\n",
       "      <td>80.000000</td>\n",
       "      <td>80.000000</td>\n",
       "      <td>33.000000</td>\n",
       "      <td>9.000000</td>\n",
       "      <td>42.000000</td>\n",
       "      <td>21.000000</td>\n",
       "      <td>14.000000</td>\n",
       "      <td>7.000000</td>\n",
       "      <td>72.000000</td>\n",
       "      <td>1.000000</td>\n",
       "    </tr>\n",
       "  </tbody>\n",
       "</table>\n",
       "<p>11 rows × 31 columns</p>\n",
       "</div>"
      ],
      "text/plain": [
       "           gameNo team oppTeam  matchStage  tossResult  alloutRec  alloutGiv  \\\n",
       "count   66.000000   66      66   66.000000   66.000000  66.000000  66.000000   \n",
       "unique        NaN   12      12         NaN         NaN        NaN        NaN   \n",
       "top           NaN  IND     IRN         NaN         NaN        NaN        NaN   \n",
       "freq          NaN    7       7         NaN         NaN        NaN        NaN   \n",
       "mean    33.500000  NaN     NaN    0.121212    0.500000   2.030303   2.030303   \n",
       "std     19.196354  NaN     NaN    0.411943    0.503831   2.140954   2.140954   \n",
       "min      1.000000  NaN     NaN    0.000000    0.000000   0.000000   0.000000   \n",
       "25%     17.250000  NaN     NaN    0.000000    0.000000   0.000000   0.000000   \n",
       "50%     33.500000  NaN     NaN    0.000000    0.500000   1.000000   1.000000   \n",
       "75%     49.750000  NaN     NaN    0.000000    1.000000   4.000000   4.000000   \n",
       "max     66.000000  NaN     NaN    2.000000    1.000000   7.000000   7.000000   \n",
       "\n",
       "        sTackleRec  sTackleGiv  touchPntsRec     ...       totalPntsRec  \\\n",
       "count    66.000000   66.000000     66.000000     ...          66.000000   \n",
       "unique         NaN         NaN           NaN     ...                NaN   \n",
       "top            NaN         NaN           NaN     ...                NaN   \n",
       "freq           NaN         NaN           NaN     ...                NaN   \n",
       "mean      0.651515    0.696970     17.848485     ...          40.469697   \n",
       "std       1.364297    1.380855      9.170593     ...          19.493762   \n",
       "min       0.000000    0.000000      1.000000     ...           8.000000   \n",
       "25%       0.000000    0.000000     11.000000     ...          25.000000   \n",
       "50%       0.000000    0.000000     15.500000     ...          34.000000   \n",
       "75%       1.000000    1.000000     25.750000     ...          55.500000   \n",
       "max       9.000000    9.000000     37.000000     ...          80.000000   \n",
       "\n",
       "        totalPntsGiv  touchPntsDiff  bonusPntsDiff  raidPntsDiff  \\\n",
       "count      66.000000      66.000000      66.000000     66.000000   \n",
       "unique           NaN            NaN            NaN           NaN   \n",
       "top              NaN            NaN            NaN           NaN   \n",
       "freq             NaN            NaN            NaN           NaN   \n",
       "mean       40.469697       0.000000       0.000000      0.000000   \n",
       "std        19.493762      15.176906       3.790677     17.324949   \n",
       "min         8.000000     -33.000000      -9.000000    -42.000000   \n",
       "25%        25.000000     -12.750000      -3.000000    -13.750000   \n",
       "50%        34.000000       0.000000       0.000000      0.000000   \n",
       "75%        55.500000      12.750000       3.000000     13.750000   \n",
       "max        80.000000      33.000000       9.000000     42.000000   \n",
       "\n",
       "        tacklePntsDiff  alloutPntsDiff  extraPntsDiff  totalPntsDiff  \\\n",
       "count        66.000000       66.000000      66.000000      66.000000   \n",
       "unique             NaN             NaN            NaN            NaN   \n",
       "top                NaN             NaN            NaN            NaN   \n",
       "freq               NaN             NaN            NaN            NaN   \n",
       "mean          0.000000        0.000000       0.000000       0.000000   \n",
       "std          10.368592        7.860319       2.997435      35.656049   \n",
       "min         -21.000000      -14.000000      -7.000000     -72.000000   \n",
       "25%          -7.750000       -8.000000      -2.000000     -34.000000   \n",
       "50%           0.000000        0.000000       0.000000       0.000000   \n",
       "75%           7.750000        8.000000       2.000000      34.000000   \n",
       "max          21.000000       14.000000       7.000000      72.000000   \n",
       "\n",
       "        matchResult  \n",
       "count     66.000000  \n",
       "unique          NaN  \n",
       "top             NaN  \n",
       "freq            NaN  \n",
       "mean       0.500000  \n",
       "std        0.503831  \n",
       "min        0.000000  \n",
       "25%        0.000000  \n",
       "50%        0.500000  \n",
       "75%        1.000000  \n",
       "max        1.000000  \n",
       "\n",
       "[11 rows x 31 columns]"
      ]
     },
     "execution_count": 38,
     "metadata": {},
     "output_type": "execute_result"
    }
   ],
   "source": [
    "data.describe(include = 'all')"
   ]
  },
  {
   "cell_type": "markdown",
   "metadata": {},
   "source": [
    "#### 2)По количественным признакам"
   ]
  },
  {
   "cell_type": "code",
   "execution_count": 39,
   "metadata": {
    "collapsed": false
   },
   "outputs": [
    {
     "data": {
      "text/html": [
       "<div>\n",
       "<table border=\"1\" class=\"dataframe\">\n",
       "  <thead>\n",
       "    <tr style=\"text-align: right;\">\n",
       "      <th></th>\n",
       "      <th>gameNo</th>\n",
       "      <th>matchStage</th>\n",
       "      <th>tossResult</th>\n",
       "      <th>alloutRec</th>\n",
       "      <th>alloutGiv</th>\n",
       "      <th>sTackleRec</th>\n",
       "      <th>sTackleGiv</th>\n",
       "      <th>touchPntsRec</th>\n",
       "      <th>touchPntsGiv</th>\n",
       "      <th>bonusPntsRec</th>\n",
       "      <th>...</th>\n",
       "      <th>totalPntsRec</th>\n",
       "      <th>totalPntsGiv</th>\n",
       "      <th>touchPntsDiff</th>\n",
       "      <th>bonusPntsDiff</th>\n",
       "      <th>raidPntsDiff</th>\n",
       "      <th>tacklePntsDiff</th>\n",
       "      <th>alloutPntsDiff</th>\n",
       "      <th>extraPntsDiff</th>\n",
       "      <th>totalPntsDiff</th>\n",
       "      <th>matchResult</th>\n",
       "    </tr>\n",
       "  </thead>\n",
       "  <tbody>\n",
       "    <tr>\n",
       "      <th>count</th>\n",
       "      <td>66.000000</td>\n",
       "      <td>66.000000</td>\n",
       "      <td>66.000000</td>\n",
       "      <td>66.000000</td>\n",
       "      <td>66.000000</td>\n",
       "      <td>66.000000</td>\n",
       "      <td>66.000000</td>\n",
       "      <td>66.000000</td>\n",
       "      <td>66.000000</td>\n",
       "      <td>66.000000</td>\n",
       "      <td>...</td>\n",
       "      <td>66.000000</td>\n",
       "      <td>66.000000</td>\n",
       "      <td>66.000000</td>\n",
       "      <td>66.000000</td>\n",
       "      <td>66.000000</td>\n",
       "      <td>66.000000</td>\n",
       "      <td>66.000000</td>\n",
       "      <td>66.000000</td>\n",
       "      <td>66.000000</td>\n",
       "      <td>66.000000</td>\n",
       "    </tr>\n",
       "    <tr>\n",
       "      <th>mean</th>\n",
       "      <td>33.500000</td>\n",
       "      <td>0.121212</td>\n",
       "      <td>0.500000</td>\n",
       "      <td>2.030303</td>\n",
       "      <td>2.030303</td>\n",
       "      <td>0.651515</td>\n",
       "      <td>0.696970</td>\n",
       "      <td>17.848485</td>\n",
       "      <td>17.848485</td>\n",
       "      <td>5.469697</td>\n",
       "      <td>...</td>\n",
       "      <td>40.469697</td>\n",
       "      <td>40.469697</td>\n",
       "      <td>0.000000</td>\n",
       "      <td>0.000000</td>\n",
       "      <td>0.000000</td>\n",
       "      <td>0.000000</td>\n",
       "      <td>0.000000</td>\n",
       "      <td>0.000000</td>\n",
       "      <td>0.000000</td>\n",
       "      <td>0.500000</td>\n",
       "    </tr>\n",
       "    <tr>\n",
       "      <th>std</th>\n",
       "      <td>19.196354</td>\n",
       "      <td>0.411943</td>\n",
       "      <td>0.503831</td>\n",
       "      <td>2.140954</td>\n",
       "      <td>2.140954</td>\n",
       "      <td>1.364297</td>\n",
       "      <td>1.380855</td>\n",
       "      <td>9.170593</td>\n",
       "      <td>9.170593</td>\n",
       "      <td>3.034264</td>\n",
       "      <td>...</td>\n",
       "      <td>19.493762</td>\n",
       "      <td>19.493762</td>\n",
       "      <td>15.176906</td>\n",
       "      <td>3.790677</td>\n",
       "      <td>17.324949</td>\n",
       "      <td>10.368592</td>\n",
       "      <td>7.860319</td>\n",
       "      <td>2.997435</td>\n",
       "      <td>35.656049</td>\n",
       "      <td>0.503831</td>\n",
       "    </tr>\n",
       "    <tr>\n",
       "      <th>min</th>\n",
       "      <td>1.000000</td>\n",
       "      <td>0.000000</td>\n",
       "      <td>0.000000</td>\n",
       "      <td>0.000000</td>\n",
       "      <td>0.000000</td>\n",
       "      <td>0.000000</td>\n",
       "      <td>0.000000</td>\n",
       "      <td>1.000000</td>\n",
       "      <td>1.000000</td>\n",
       "      <td>0.000000</td>\n",
       "      <td>...</td>\n",
       "      <td>8.000000</td>\n",
       "      <td>8.000000</td>\n",
       "      <td>-33.000000</td>\n",
       "      <td>-9.000000</td>\n",
       "      <td>-42.000000</td>\n",
       "      <td>-21.000000</td>\n",
       "      <td>-14.000000</td>\n",
       "      <td>-7.000000</td>\n",
       "      <td>-72.000000</td>\n",
       "      <td>0.000000</td>\n",
       "    </tr>\n",
       "    <tr>\n",
       "      <th>25%</th>\n",
       "      <td>17.250000</td>\n",
       "      <td>0.000000</td>\n",
       "      <td>0.000000</td>\n",
       "      <td>0.000000</td>\n",
       "      <td>0.000000</td>\n",
       "      <td>0.000000</td>\n",
       "      <td>0.000000</td>\n",
       "      <td>11.000000</td>\n",
       "      <td>11.000000</td>\n",
       "      <td>3.000000</td>\n",
       "      <td>...</td>\n",
       "      <td>25.000000</td>\n",
       "      <td>25.000000</td>\n",
       "      <td>-12.750000</td>\n",
       "      <td>-3.000000</td>\n",
       "      <td>-13.750000</td>\n",
       "      <td>-7.750000</td>\n",
       "      <td>-8.000000</td>\n",
       "      <td>-2.000000</td>\n",
       "      <td>-34.000000</td>\n",
       "      <td>0.000000</td>\n",
       "    </tr>\n",
       "    <tr>\n",
       "      <th>50%</th>\n",
       "      <td>33.500000</td>\n",
       "      <td>0.000000</td>\n",
       "      <td>0.500000</td>\n",
       "      <td>1.000000</td>\n",
       "      <td>1.000000</td>\n",
       "      <td>0.000000</td>\n",
       "      <td>0.000000</td>\n",
       "      <td>15.500000</td>\n",
       "      <td>15.500000</td>\n",
       "      <td>5.000000</td>\n",
       "      <td>...</td>\n",
       "      <td>34.000000</td>\n",
       "      <td>34.000000</td>\n",
       "      <td>0.000000</td>\n",
       "      <td>0.000000</td>\n",
       "      <td>0.000000</td>\n",
       "      <td>0.000000</td>\n",
       "      <td>0.000000</td>\n",
       "      <td>0.000000</td>\n",
       "      <td>0.000000</td>\n",
       "      <td>0.500000</td>\n",
       "    </tr>\n",
       "    <tr>\n",
       "      <th>75%</th>\n",
       "      <td>49.750000</td>\n",
       "      <td>0.000000</td>\n",
       "      <td>1.000000</td>\n",
       "      <td>4.000000</td>\n",
       "      <td>4.000000</td>\n",
       "      <td>1.000000</td>\n",
       "      <td>1.000000</td>\n",
       "      <td>25.750000</td>\n",
       "      <td>25.750000</td>\n",
       "      <td>6.750000</td>\n",
       "      <td>...</td>\n",
       "      <td>55.500000</td>\n",
       "      <td>55.500000</td>\n",
       "      <td>12.750000</td>\n",
       "      <td>3.000000</td>\n",
       "      <td>13.750000</td>\n",
       "      <td>7.750000</td>\n",
       "      <td>8.000000</td>\n",
       "      <td>2.000000</td>\n",
       "      <td>34.000000</td>\n",
       "      <td>1.000000</td>\n",
       "    </tr>\n",
       "    <tr>\n",
       "      <th>max</th>\n",
       "      <td>66.000000</td>\n",
       "      <td>2.000000</td>\n",
       "      <td>1.000000</td>\n",
       "      <td>7.000000</td>\n",
       "      <td>7.000000</td>\n",
       "      <td>9.000000</td>\n",
       "      <td>9.000000</td>\n",
       "      <td>37.000000</td>\n",
       "      <td>37.000000</td>\n",
       "      <td>16.000000</td>\n",
       "      <td>...</td>\n",
       "      <td>80.000000</td>\n",
       "      <td>80.000000</td>\n",
       "      <td>33.000000</td>\n",
       "      <td>9.000000</td>\n",
       "      <td>42.000000</td>\n",
       "      <td>21.000000</td>\n",
       "      <td>14.000000</td>\n",
       "      <td>7.000000</td>\n",
       "      <td>72.000000</td>\n",
       "      <td>1.000000</td>\n",
       "    </tr>\n",
       "  </tbody>\n",
       "</table>\n",
       "<p>8 rows × 29 columns</p>\n",
       "</div>"
      ],
      "text/plain": [
       "          gameNo  matchStage  tossResult  alloutRec  alloutGiv  sTackleRec  \\\n",
       "count  66.000000   66.000000   66.000000  66.000000  66.000000   66.000000   \n",
       "mean   33.500000    0.121212    0.500000   2.030303   2.030303    0.651515   \n",
       "std    19.196354    0.411943    0.503831   2.140954   2.140954    1.364297   \n",
       "min     1.000000    0.000000    0.000000   0.000000   0.000000    0.000000   \n",
       "25%    17.250000    0.000000    0.000000   0.000000   0.000000    0.000000   \n",
       "50%    33.500000    0.000000    0.500000   1.000000   1.000000    0.000000   \n",
       "75%    49.750000    0.000000    1.000000   4.000000   4.000000    1.000000   \n",
       "max    66.000000    2.000000    1.000000   7.000000   7.000000    9.000000   \n",
       "\n",
       "       sTackleGiv  touchPntsRec  touchPntsGiv  bonusPntsRec     ...       \\\n",
       "count   66.000000     66.000000     66.000000     66.000000     ...        \n",
       "mean     0.696970     17.848485     17.848485      5.469697     ...        \n",
       "std      1.380855      9.170593      9.170593      3.034264     ...        \n",
       "min      0.000000      1.000000      1.000000      0.000000     ...        \n",
       "25%      0.000000     11.000000     11.000000      3.000000     ...        \n",
       "50%      0.000000     15.500000     15.500000      5.000000     ...        \n",
       "75%      1.000000     25.750000     25.750000      6.750000     ...        \n",
       "max      9.000000     37.000000     37.000000     16.000000     ...        \n",
       "\n",
       "       totalPntsRec  totalPntsGiv  touchPntsDiff  bonusPntsDiff  raidPntsDiff  \\\n",
       "count     66.000000     66.000000      66.000000      66.000000     66.000000   \n",
       "mean      40.469697     40.469697       0.000000       0.000000      0.000000   \n",
       "std       19.493762     19.493762      15.176906       3.790677     17.324949   \n",
       "min        8.000000      8.000000     -33.000000      -9.000000    -42.000000   \n",
       "25%       25.000000     25.000000     -12.750000      -3.000000    -13.750000   \n",
       "50%       34.000000     34.000000       0.000000       0.000000      0.000000   \n",
       "75%       55.500000     55.500000      12.750000       3.000000     13.750000   \n",
       "max       80.000000     80.000000      33.000000       9.000000     42.000000   \n",
       "\n",
       "       tacklePntsDiff  alloutPntsDiff  extraPntsDiff  totalPntsDiff  \\\n",
       "count       66.000000       66.000000      66.000000      66.000000   \n",
       "mean         0.000000        0.000000       0.000000       0.000000   \n",
       "std         10.368592        7.860319       2.997435      35.656049   \n",
       "min        -21.000000      -14.000000      -7.000000     -72.000000   \n",
       "25%         -7.750000       -8.000000      -2.000000     -34.000000   \n",
       "50%          0.000000        0.000000       0.000000       0.000000   \n",
       "75%          7.750000        8.000000       2.000000      34.000000   \n",
       "max         21.000000       14.000000       7.000000      72.000000   \n",
       "\n",
       "       matchResult  \n",
       "count    66.000000  \n",
       "mean      0.500000  \n",
       "std       0.503831  \n",
       "min       0.000000  \n",
       "25%       0.000000  \n",
       "50%       0.500000  \n",
       "75%       1.000000  \n",
       "max       1.000000  \n",
       "\n",
       "[8 rows x 29 columns]"
      ]
     },
     "execution_count": 39,
     "metadata": {},
     "output_type": "execute_result"
    }
   ],
   "source": [
    "data.describe()"
   ]
  },
  {
   "cell_type": "markdown",
   "metadata": {},
   "source": [
    "#### 3) Корреляция между признаками"
   ]
  },
  {
   "cell_type": "code",
   "execution_count": 40,
   "metadata": {
    "collapsed": false
   },
   "outputs": [
    {
     "data": {
      "text/html": [
       "<div>\n",
       "<table border=\"1\" class=\"dataframe\">\n",
       "  <thead>\n",
       "    <tr style=\"text-align: right;\">\n",
       "      <th></th>\n",
       "      <th>gameNo</th>\n",
       "      <th>matchStage</th>\n",
       "      <th>tossResult</th>\n",
       "      <th>alloutRec</th>\n",
       "      <th>alloutGiv</th>\n",
       "      <th>sTackleRec</th>\n",
       "      <th>sTackleGiv</th>\n",
       "      <th>touchPntsRec</th>\n",
       "      <th>touchPntsGiv</th>\n",
       "      <th>bonusPntsRec</th>\n",
       "      <th>...</th>\n",
       "      <th>totalPntsRec</th>\n",
       "      <th>totalPntsGiv</th>\n",
       "      <th>touchPntsDiff</th>\n",
       "      <th>bonusPntsDiff</th>\n",
       "      <th>raidPntsDiff</th>\n",
       "      <th>tacklePntsDiff</th>\n",
       "      <th>alloutPntsDiff</th>\n",
       "      <th>extraPntsDiff</th>\n",
       "      <th>totalPntsDiff</th>\n",
       "      <th>matchResult</th>\n",
       "    </tr>\n",
       "  </thead>\n",
       "  <tbody>\n",
       "    <tr>\n",
       "      <th>gameNo</th>\n",
       "      <td>1.000000</td>\n",
       "      <td>0.474702</td>\n",
       "      <td>-0.003977</td>\n",
       "      <td>0.006364</td>\n",
       "      <td>0.019091</td>\n",
       "      <td>0.198846</td>\n",
       "      <td>0.193270</td>\n",
       "      <td>-0.062223</td>\n",
       "      <td>-0.046842</td>\n",
       "      <td>-0.163891</td>\n",
       "      <td>...</td>\n",
       "      <td>-0.014328</td>\n",
       "      <td>-0.002940</td>\n",
       "      <td>-0.009294</td>\n",
       "      <td>0.003171</td>\n",
       "      <td>-0.007448</td>\n",
       "      <td>-0.002164</td>\n",
       "      <td>-0.006933</td>\n",
       "      <td>-0.005347</td>\n",
       "      <td>-0.006226</td>\n",
       "      <td>-0.005567</td>\n",
       "    </tr>\n",
       "    <tr>\n",
       "      <th>matchStage</th>\n",
       "      <td>0.474702</td>\n",
       "      <td>1.000000</td>\n",
       "      <td>0.000000</td>\n",
       "      <td>-0.039117</td>\n",
       "      <td>-0.039117</td>\n",
       "      <td>-0.005807</td>\n",
       "      <td>-0.015572</td>\n",
       "      <td>-0.105019</td>\n",
       "      <td>-0.105019</td>\n",
       "      <td>-0.095482</td>\n",
       "      <td>...</td>\n",
       "      <td>-0.089579</td>\n",
       "      <td>-0.089579</td>\n",
       "      <td>0.000000</td>\n",
       "      <td>0.000000</td>\n",
       "      <td>0.000000</td>\n",
       "      <td>0.000000</td>\n",
       "      <td>0.000000</td>\n",
       "      <td>0.000000</td>\n",
       "      <td>0.000000</td>\n",
       "      <td>0.000000</td>\n",
       "    </tr>\n",
       "    <tr>\n",
       "      <th>tossResult</th>\n",
       "      <td>-0.003977</td>\n",
       "      <td>0.000000</td>\n",
       "      <td>1.000000</td>\n",
       "      <td>0.242462</td>\n",
       "      <td>-0.242462</td>\n",
       "      <td>-0.078336</td>\n",
       "      <td>0.066340</td>\n",
       "      <td>0.239738</td>\n",
       "      <td>-0.239738</td>\n",
       "      <td>-0.075476</td>\n",
       "      <td>...</td>\n",
       "      <td>0.210682</td>\n",
       "      <td>-0.210682</td>\n",
       "      <td>0.289721</td>\n",
       "      <td>-0.120830</td>\n",
       "      <td>0.227363</td>\n",
       "      <td>0.188478</td>\n",
       "      <td>0.264162</td>\n",
       "      <td>0.081497</td>\n",
       "      <td>0.230367</td>\n",
       "      <td>0.212121</td>\n",
       "    </tr>\n",
       "    <tr>\n",
       "      <th>alloutRec</th>\n",
       "      <td>0.006364</td>\n",
       "      <td>-0.039117</td>\n",
       "      <td>0.242462</td>\n",
       "      <td>1.000000</td>\n",
       "      <td>-0.684906</td>\n",
       "      <td>-0.054267</td>\n",
       "      <td>-0.043681</td>\n",
       "      <td>0.851986</td>\n",
       "      <td>-0.604684</td>\n",
       "      <td>0.343539</td>\n",
       "      <td>...</td>\n",
       "      <td>0.949229</td>\n",
       "      <td>-0.716214</td>\n",
       "      <td>0.880188</td>\n",
       "      <td>0.436004</td>\n",
       "      <td>0.866455</td>\n",
       "      <td>0.810859</td>\n",
       "      <td>0.917853</td>\n",
       "      <td>0.611322</td>\n",
       "      <td>0.910526</td>\n",
       "      <td>0.784435</td>\n",
       "    </tr>\n",
       "    <tr>\n",
       "      <th>alloutGiv</th>\n",
       "      <td>0.019091</td>\n",
       "      <td>-0.039117</td>\n",
       "      <td>-0.242462</td>\n",
       "      <td>-0.684906</td>\n",
       "      <td>1.000000</td>\n",
       "      <td>-0.059534</td>\n",
       "      <td>-0.142556</td>\n",
       "      <td>-0.604684</td>\n",
       "      <td>0.851986</td>\n",
       "      <td>-0.201157</td>\n",
       "      <td>...</td>\n",
       "      <td>-0.716214</td>\n",
       "      <td>0.949229</td>\n",
       "      <td>-0.880188</td>\n",
       "      <td>-0.436004</td>\n",
       "      <td>-0.866455</td>\n",
       "      <td>-0.810859</td>\n",
       "      <td>-0.917853</td>\n",
       "      <td>-0.611322</td>\n",
       "      <td>-0.910526</td>\n",
       "      <td>-0.784435</td>\n",
       "    </tr>\n",
       "    <tr>\n",
       "      <th>sTackleRec</th>\n",
       "      <td>0.198846</td>\n",
       "      <td>-0.005807</td>\n",
       "      <td>-0.078336</td>\n",
       "      <td>-0.054267</td>\n",
       "      <td>-0.059534</td>\n",
       "      <td>1.000000</td>\n",
       "      <td>0.286071</td>\n",
       "      <td>-0.188732</td>\n",
       "      <td>-0.105116</td>\n",
       "      <td>-0.253448</td>\n",
       "      <td>...</td>\n",
       "      <td>0.003357</td>\n",
       "      <td>-0.005899</td>\n",
       "      <td>-0.050525</td>\n",
       "      <td>-0.113043</td>\n",
       "      <td>-0.068994</td>\n",
       "      <td>0.123983</td>\n",
       "      <td>0.002869</td>\n",
       "      <td>0.022572</td>\n",
       "      <td>0.005060</td>\n",
       "      <td>0.033573</td>\n",
       "    </tr>\n",
       "    <tr>\n",
       "      <th>sTackleGiv</th>\n",
       "      <td>0.193270</td>\n",
       "      <td>-0.015572</td>\n",
       "      <td>0.066340</td>\n",
       "      <td>-0.043681</td>\n",
       "      <td>-0.142556</td>\n",
       "      <td>0.286071</td>\n",
       "      <td>1.000000</td>\n",
       "      <td>-0.065642</td>\n",
       "      <td>-0.249092</td>\n",
       "      <td>-0.108709</td>\n",
       "      <td>...</td>\n",
       "      <td>0.024230</td>\n",
       "      <td>-0.042640</td>\n",
       "      <td>0.110849</td>\n",
       "      <td>0.061722</td>\n",
       "      <td>0.110610</td>\n",
       "      <td>-0.108528</td>\n",
       "      <td>0.053862</td>\n",
       "      <td>0.029736</td>\n",
       "      <td>0.036559</td>\n",
       "      <td>0.022113</td>\n",
       "    </tr>\n",
       "    <tr>\n",
       "      <th>touchPntsRec</th>\n",
       "      <td>-0.062223</td>\n",
       "      <td>-0.105019</td>\n",
       "      <td>0.239738</td>\n",
       "      <td>0.851986</td>\n",
       "      <td>-0.604684</td>\n",
       "      <td>-0.188732</td>\n",
       "      <td>-0.065642</td>\n",
       "      <td>1.000000</td>\n",
       "      <td>-0.369436</td>\n",
       "      <td>0.333776</td>\n",
       "      <td>...</td>\n",
       "      <td>0.910559</td>\n",
       "      <td>-0.550714</td>\n",
       "      <td>0.827477</td>\n",
       "      <td>0.398747</td>\n",
       "      <td>0.812127</td>\n",
       "      <td>0.637155</td>\n",
       "      <td>0.793521</td>\n",
       "      <td>0.524420</td>\n",
       "      <td>0.798902</td>\n",
       "      <td>0.689246</td>\n",
       "    </tr>\n",
       "    <tr>\n",
       "      <th>touchPntsGiv</th>\n",
       "      <td>-0.046842</td>\n",
       "      <td>-0.105019</td>\n",
       "      <td>-0.239738</td>\n",
       "      <td>-0.604684</td>\n",
       "      <td>0.851986</td>\n",
       "      <td>-0.105116</td>\n",
       "      <td>-0.249092</td>\n",
       "      <td>-0.369436</td>\n",
       "      <td>1.000000</td>\n",
       "      <td>-0.164375</td>\n",
       "      <td>...</td>\n",
       "      <td>-0.550714</td>\n",
       "      <td>0.910559</td>\n",
       "      <td>-0.827477</td>\n",
       "      <td>-0.398747</td>\n",
       "      <td>-0.812127</td>\n",
       "      <td>-0.637155</td>\n",
       "      <td>-0.793521</td>\n",
       "      <td>-0.524420</td>\n",
       "      <td>-0.798902</td>\n",
       "      <td>-0.689246</td>\n",
       "    </tr>\n",
       "    <tr>\n",
       "      <th>bonusPntsRec</th>\n",
       "      <td>-0.163891</td>\n",
       "      <td>-0.095482</td>\n",
       "      <td>-0.075476</td>\n",
       "      <td>0.343539</td>\n",
       "      <td>-0.201157</td>\n",
       "      <td>-0.253448</td>\n",
       "      <td>-0.108709</td>\n",
       "      <td>0.333776</td>\n",
       "      <td>-0.164375</td>\n",
       "      <td>1.000000</td>\n",
       "      <td>...</td>\n",
       "      <td>0.418092</td>\n",
       "      <td>-0.196520</td>\n",
       "      <td>0.301006</td>\n",
       "      <td>0.624645</td>\n",
       "      <td>0.400357</td>\n",
       "      <td>0.190223</td>\n",
       "      <td>0.296723</td>\n",
       "      <td>0.246966</td>\n",
       "      <td>0.336019</td>\n",
       "      <td>0.216365</td>\n",
       "    </tr>\n",
       "    <tr>\n",
       "      <th>bonusPntsGiv</th>\n",
       "      <td>-0.167853</td>\n",
       "      <td>-0.095482</td>\n",
       "      <td>0.075476</td>\n",
       "      <td>-0.201157</td>\n",
       "      <td>0.343539</td>\n",
       "      <td>-0.112225</td>\n",
       "      <td>-0.185818</td>\n",
       "      <td>-0.164375</td>\n",
       "      <td>0.333776</td>\n",
       "      <td>0.219637</td>\n",
       "      <td>...</td>\n",
       "      <td>-0.196520</td>\n",
       "      <td>0.418092</td>\n",
       "      <td>-0.301006</td>\n",
       "      <td>-0.624645</td>\n",
       "      <td>-0.400357</td>\n",
       "      <td>-0.190223</td>\n",
       "      <td>-0.296723</td>\n",
       "      <td>-0.246966</td>\n",
       "      <td>-0.336019</td>\n",
       "      <td>-0.216365</td>\n",
       "    </tr>\n",
       "    <tr>\n",
       "      <th>raidPntsRec</th>\n",
       "      <td>-0.100961</td>\n",
       "      <td>-0.118441</td>\n",
       "      <td>0.186201</td>\n",
       "      <td>0.837218</td>\n",
       "      <td>-0.581964</td>\n",
       "      <td>-0.236335</td>\n",
       "      <td>-0.088096</td>\n",
       "      <td>0.962745</td>\n",
       "      <td>-0.367453</td>\n",
       "      <td>0.576245</td>\n",
       "      <td>...</td>\n",
       "      <td>0.909387</td>\n",
       "      <td>-0.533842</td>\n",
       "      <td>0.803767</td>\n",
       "      <td>0.524900</td>\n",
       "      <td>0.818959</td>\n",
       "      <td>0.606979</td>\n",
       "      <td>0.773099</td>\n",
       "      <td>0.525516</td>\n",
       "      <td>0.789037</td>\n",
       "      <td>0.659641</td>\n",
       "    </tr>\n",
       "    <tr>\n",
       "      <th>raidPntsGiv</th>\n",
       "      <td>-0.088763</td>\n",
       "      <td>-0.118441</td>\n",
       "      <td>-0.186201</td>\n",
       "      <td>-0.581964</td>\n",
       "      <td>0.837218</td>\n",
       "      <td>-0.123328</td>\n",
       "      <td>-0.269266</td>\n",
       "      <td>-0.367453</td>\n",
       "      <td>0.962745</td>\n",
       "      <td>-0.079507</td>\n",
       "      <td>...</td>\n",
       "      <td>-0.533842</td>\n",
       "      <td>0.909387</td>\n",
       "      <td>-0.803767</td>\n",
       "      <td>-0.524900</td>\n",
       "      <td>-0.818959</td>\n",
       "      <td>-0.606979</td>\n",
       "      <td>-0.773099</td>\n",
       "      <td>-0.525516</td>\n",
       "      <td>-0.789037</td>\n",
       "      <td>-0.659641</td>\n",
       "    </tr>\n",
       "    <tr>\n",
       "      <th>tacklePntsRec</th>\n",
       "      <td>0.098118</td>\n",
       "      <td>-0.072360</td>\n",
       "      <td>0.156581</td>\n",
       "      <td>0.714772</td>\n",
       "      <td>-0.632491</td>\n",
       "      <td>0.418574</td>\n",
       "      <td>0.222683</td>\n",
       "      <td>0.513562</td>\n",
       "      <td>-0.545088</td>\n",
       "      <td>0.066034</td>\n",
       "      <td>...</td>\n",
       "      <td>0.768450</td>\n",
       "      <td>-0.573115</td>\n",
       "      <td>0.639685</td>\n",
       "      <td>0.252992</td>\n",
       "      <td>0.615728</td>\n",
       "      <td>0.830763</td>\n",
       "      <td>0.733921</td>\n",
       "      <td>0.367648</td>\n",
       "      <td>0.733456</td>\n",
       "      <td>0.655682</td>\n",
       "    </tr>\n",
       "    <tr>\n",
       "      <th>tacklePntsGiv</th>\n",
       "      <td>0.101714</td>\n",
       "      <td>-0.072360</td>\n",
       "      <td>-0.156581</td>\n",
       "      <td>-0.632491</td>\n",
       "      <td>0.714772</td>\n",
       "      <td>0.212572</td>\n",
       "      <td>0.403004</td>\n",
       "      <td>-0.545088</td>\n",
       "      <td>0.513562</td>\n",
       "      <td>-0.250027</td>\n",
       "      <td>...</td>\n",
       "      <td>-0.573115</td>\n",
       "      <td>0.768450</td>\n",
       "      <td>-0.639685</td>\n",
       "      <td>-0.252992</td>\n",
       "      <td>-0.615728</td>\n",
       "      <td>-0.830763</td>\n",
       "      <td>-0.733921</td>\n",
       "      <td>-0.367648</td>\n",
       "      <td>-0.733456</td>\n",
       "      <td>-0.655682</td>\n",
       "    </tr>\n",
       "    <tr>\n",
       "      <th>alloutPntsRec</th>\n",
       "      <td>0.006364</td>\n",
       "      <td>-0.039117</td>\n",
       "      <td>0.242462</td>\n",
       "      <td>1.000000</td>\n",
       "      <td>-0.684906</td>\n",
       "      <td>-0.054267</td>\n",
       "      <td>-0.043681</td>\n",
       "      <td>0.851986</td>\n",
       "      <td>-0.604684</td>\n",
       "      <td>0.343539</td>\n",
       "      <td>...</td>\n",
       "      <td>0.949229</td>\n",
       "      <td>-0.716214</td>\n",
       "      <td>0.880188</td>\n",
       "      <td>0.436004</td>\n",
       "      <td>0.866455</td>\n",
       "      <td>0.810859</td>\n",
       "      <td>0.917853</td>\n",
       "      <td>0.611322</td>\n",
       "      <td>0.910526</td>\n",
       "      <td>0.784435</td>\n",
       "    </tr>\n",
       "    <tr>\n",
       "      <th>alloutPntsGiv</th>\n",
       "      <td>0.019091</td>\n",
       "      <td>-0.039117</td>\n",
       "      <td>-0.242462</td>\n",
       "      <td>-0.684906</td>\n",
       "      <td>1.000000</td>\n",
       "      <td>-0.059534</td>\n",
       "      <td>-0.142556</td>\n",
       "      <td>-0.604684</td>\n",
       "      <td>0.851986</td>\n",
       "      <td>-0.201157</td>\n",
       "      <td>...</td>\n",
       "      <td>-0.716214</td>\n",
       "      <td>0.949229</td>\n",
       "      <td>-0.880188</td>\n",
       "      <td>-0.436004</td>\n",
       "      <td>-0.866455</td>\n",
       "      <td>-0.810859</td>\n",
       "      <td>-0.917853</td>\n",
       "      <td>-0.611322</td>\n",
       "      <td>-0.910526</td>\n",
       "      <td>-0.784435</td>\n",
       "    </tr>\n",
       "    <tr>\n",
       "      <th>extraPntsRec</th>\n",
       "      <td>0.074197</td>\n",
       "      <td>0.062526</td>\n",
       "      <td>0.060795</td>\n",
       "      <td>0.450991</td>\n",
       "      <td>-0.461071</td>\n",
       "      <td>0.092357</td>\n",
       "      <td>0.100324</td>\n",
       "      <td>0.355337</td>\n",
       "      <td>-0.427072</td>\n",
       "      <td>0.085576</td>\n",
       "      <td>...</td>\n",
       "      <td>0.505133</td>\n",
       "      <td>-0.410928</td>\n",
       "      <td>0.472768</td>\n",
       "      <td>0.294936</td>\n",
       "      <td>0.478683</td>\n",
       "      <td>0.330126</td>\n",
       "      <td>0.496846</td>\n",
       "      <td>0.745976</td>\n",
       "      <td>0.500826</td>\n",
       "      <td>0.395166</td>\n",
       "    </tr>\n",
       "    <tr>\n",
       "      <th>extraPntsGiv</th>\n",
       "      <td>0.082175</td>\n",
       "      <td>0.062526</td>\n",
       "      <td>-0.060795</td>\n",
       "      <td>-0.461071</td>\n",
       "      <td>0.450991</td>\n",
       "      <td>0.058680</td>\n",
       "      <td>0.055959</td>\n",
       "      <td>-0.427072</td>\n",
       "      <td>0.355337</td>\n",
       "      <td>-0.282884</td>\n",
       "      <td>...</td>\n",
       "      <td>-0.410928</td>\n",
       "      <td>0.505133</td>\n",
       "      <td>-0.472768</td>\n",
       "      <td>-0.294936</td>\n",
       "      <td>-0.478683</td>\n",
       "      <td>-0.330126</td>\n",
       "      <td>-0.496846</td>\n",
       "      <td>-0.745976</td>\n",
       "      <td>-0.500826</td>\n",
       "      <td>-0.395166</td>\n",
       "    </tr>\n",
       "    <tr>\n",
       "      <th>totalPntsRec</th>\n",
       "      <td>-0.014328</td>\n",
       "      <td>-0.089579</td>\n",
       "      <td>0.210682</td>\n",
       "      <td>0.949229</td>\n",
       "      <td>-0.716214</td>\n",
       "      <td>0.003357</td>\n",
       "      <td>0.024230</td>\n",
       "      <td>0.910559</td>\n",
       "      <td>-0.550714</td>\n",
       "      <td>0.418092</td>\n",
       "      <td>...</td>\n",
       "      <td>1.000000</td>\n",
       "      <td>-0.672804</td>\n",
       "      <td>0.882969</td>\n",
       "      <td>0.491969</td>\n",
       "      <td>0.881136</td>\n",
       "      <td>0.807430</td>\n",
       "      <td>0.907250</td>\n",
       "      <td>0.614002</td>\n",
       "      <td>0.914550</td>\n",
       "      <td>0.780856</td>\n",
       "    </tr>\n",
       "    <tr>\n",
       "      <th>totalPntsGiv</th>\n",
       "      <td>-0.002940</td>\n",
       "      <td>-0.089579</td>\n",
       "      <td>-0.210682</td>\n",
       "      <td>-0.716214</td>\n",
       "      <td>0.949229</td>\n",
       "      <td>-0.005899</td>\n",
       "      <td>-0.042640</td>\n",
       "      <td>-0.550714</td>\n",
       "      <td>0.910559</td>\n",
       "      <td>-0.196520</td>\n",
       "      <td>...</td>\n",
       "      <td>-0.672804</td>\n",
       "      <td>1.000000</td>\n",
       "      <td>-0.882969</td>\n",
       "      <td>-0.491969</td>\n",
       "      <td>-0.881136</td>\n",
       "      <td>-0.807430</td>\n",
       "      <td>-0.907250</td>\n",
       "      <td>-0.614002</td>\n",
       "      <td>-0.914550</td>\n",
       "      <td>-0.780856</td>\n",
       "    </tr>\n",
       "    <tr>\n",
       "      <th>touchPntsDiff</th>\n",
       "      <td>-0.009294</td>\n",
       "      <td>0.000000</td>\n",
       "      <td>0.289721</td>\n",
       "      <td>0.880188</td>\n",
       "      <td>-0.880188</td>\n",
       "      <td>-0.050525</td>\n",
       "      <td>0.110849</td>\n",
       "      <td>0.827477</td>\n",
       "      <td>-0.827477</td>\n",
       "      <td>0.301006</td>\n",
       "      <td>...</td>\n",
       "      <td>0.882969</td>\n",
       "      <td>-0.882969</td>\n",
       "      <td>1.000000</td>\n",
       "      <td>0.481883</td>\n",
       "      <td>0.981450</td>\n",
       "      <td>0.769998</td>\n",
       "      <td>0.958965</td>\n",
       "      <td>0.633758</td>\n",
       "      <td>0.965468</td>\n",
       "      <td>0.832949</td>\n",
       "    </tr>\n",
       "    <tr>\n",
       "      <th>bonusPntsDiff</th>\n",
       "      <td>0.003171</td>\n",
       "      <td>0.000000</td>\n",
       "      <td>-0.120830</td>\n",
       "      <td>0.436004</td>\n",
       "      <td>-0.436004</td>\n",
       "      <td>-0.113043</td>\n",
       "      <td>0.061722</td>\n",
       "      <td>0.398747</td>\n",
       "      <td>-0.398747</td>\n",
       "      <td>0.624645</td>\n",
       "      <td>...</td>\n",
       "      <td>0.491969</td>\n",
       "      <td>-0.491969</td>\n",
       "      <td>0.481883</td>\n",
       "      <td>1.000000</td>\n",
       "      <td>0.640935</td>\n",
       "      <td>0.304530</td>\n",
       "      <td>0.475026</td>\n",
       "      <td>0.395369</td>\n",
       "      <td>0.537936</td>\n",
       "      <td>0.346380</td>\n",
       "    </tr>\n",
       "    <tr>\n",
       "      <th>raidPntsDiff</th>\n",
       "      <td>-0.007448</td>\n",
       "      <td>0.000000</td>\n",
       "      <td>0.227363</td>\n",
       "      <td>0.866455</td>\n",
       "      <td>-0.866455</td>\n",
       "      <td>-0.068994</td>\n",
       "      <td>0.110610</td>\n",
       "      <td>0.812127</td>\n",
       "      <td>-0.812127</td>\n",
       "      <td>0.400357</td>\n",
       "      <td>...</td>\n",
       "      <td>0.881136</td>\n",
       "      <td>-0.881136</td>\n",
       "      <td>0.981450</td>\n",
       "      <td>0.640935</td>\n",
       "      <td>1.000000</td>\n",
       "      <td>0.741160</td>\n",
       "      <td>0.944002</td>\n",
       "      <td>0.641687</td>\n",
       "      <td>0.963464</td>\n",
       "      <td>0.805463</td>\n",
       "    </tr>\n",
       "    <tr>\n",
       "      <th>tacklePntsDiff</th>\n",
       "      <td>-0.002164</td>\n",
       "      <td>0.000000</td>\n",
       "      <td>0.188478</td>\n",
       "      <td>0.810859</td>\n",
       "      <td>-0.810859</td>\n",
       "      <td>0.123983</td>\n",
       "      <td>-0.108528</td>\n",
       "      <td>0.637155</td>\n",
       "      <td>-0.637155</td>\n",
       "      <td>0.190223</td>\n",
       "      <td>...</td>\n",
       "      <td>0.807430</td>\n",
       "      <td>-0.807430</td>\n",
       "      <td>0.769998</td>\n",
       "      <td>0.304530</td>\n",
       "      <td>0.741160</td>\n",
       "      <td>1.000000</td>\n",
       "      <td>0.883431</td>\n",
       "      <td>0.442542</td>\n",
       "      <td>0.882871</td>\n",
       "      <td>0.789253</td>\n",
       "    </tr>\n",
       "    <tr>\n",
       "      <th>alloutPntsDiff</th>\n",
       "      <td>-0.006933</td>\n",
       "      <td>0.000000</td>\n",
       "      <td>0.264162</td>\n",
       "      <td>0.917853</td>\n",
       "      <td>-0.917853</td>\n",
       "      <td>0.002869</td>\n",
       "      <td>0.053862</td>\n",
       "      <td>0.793521</td>\n",
       "      <td>-0.793521</td>\n",
       "      <td>0.296723</td>\n",
       "      <td>...</td>\n",
       "      <td>0.907250</td>\n",
       "      <td>-0.907250</td>\n",
       "      <td>0.958965</td>\n",
       "      <td>0.475026</td>\n",
       "      <td>0.944002</td>\n",
       "      <td>0.883431</td>\n",
       "      <td>1.000000</td>\n",
       "      <td>0.666035</td>\n",
       "      <td>0.992018</td>\n",
       "      <td>0.854641</td>\n",
       "    </tr>\n",
       "    <tr>\n",
       "      <th>extraPntsDiff</th>\n",
       "      <td>-0.005347</td>\n",
       "      <td>0.000000</td>\n",
       "      <td>0.081497</td>\n",
       "      <td>0.611322</td>\n",
       "      <td>-0.611322</td>\n",
       "      <td>0.022572</td>\n",
       "      <td>0.029736</td>\n",
       "      <td>0.524420</td>\n",
       "      <td>-0.524420</td>\n",
       "      <td>0.246966</td>\n",
       "      <td>...</td>\n",
       "      <td>0.614002</td>\n",
       "      <td>-0.614002</td>\n",
       "      <td>0.633758</td>\n",
       "      <td>0.395369</td>\n",
       "      <td>0.641687</td>\n",
       "      <td>0.442542</td>\n",
       "      <td>0.666035</td>\n",
       "      <td>1.000000</td>\n",
       "      <td>0.671370</td>\n",
       "      <td>0.529730</td>\n",
       "    </tr>\n",
       "    <tr>\n",
       "      <th>totalPntsDiff</th>\n",
       "      <td>-0.006226</td>\n",
       "      <td>0.000000</td>\n",
       "      <td>0.230367</td>\n",
       "      <td>0.910526</td>\n",
       "      <td>-0.910526</td>\n",
       "      <td>0.005060</td>\n",
       "      <td>0.036559</td>\n",
       "      <td>0.798902</td>\n",
       "      <td>-0.798902</td>\n",
       "      <td>0.336019</td>\n",
       "      <td>...</td>\n",
       "      <td>0.914550</td>\n",
       "      <td>-0.914550</td>\n",
       "      <td>0.965468</td>\n",
       "      <td>0.537936</td>\n",
       "      <td>0.963464</td>\n",
       "      <td>0.882871</td>\n",
       "      <td>0.992018</td>\n",
       "      <td>0.671370</td>\n",
       "      <td>1.000000</td>\n",
       "      <td>0.853814</td>\n",
       "    </tr>\n",
       "    <tr>\n",
       "      <th>matchResult</th>\n",
       "      <td>-0.005567</td>\n",
       "      <td>0.000000</td>\n",
       "      <td>0.212121</td>\n",
       "      <td>0.784435</td>\n",
       "      <td>-0.784435</td>\n",
       "      <td>0.033573</td>\n",
       "      <td>0.022113</td>\n",
       "      <td>0.689246</td>\n",
       "      <td>-0.689246</td>\n",
       "      <td>0.216365</td>\n",
       "      <td>...</td>\n",
       "      <td>0.780856</td>\n",
       "      <td>-0.780856</td>\n",
       "      <td>0.832949</td>\n",
       "      <td>0.346380</td>\n",
       "      <td>0.805463</td>\n",
       "      <td>0.789253</td>\n",
       "      <td>0.854641</td>\n",
       "      <td>0.529730</td>\n",
       "      <td>0.853814</td>\n",
       "      <td>1.000000</td>\n",
       "    </tr>\n",
       "  </tbody>\n",
       "</table>\n",
       "<p>29 rows × 29 columns</p>\n",
       "</div>"
      ],
      "text/plain": [
       "                  gameNo  matchStage  tossResult  alloutRec  alloutGiv  \\\n",
       "gameNo          1.000000    0.474702   -0.003977   0.006364   0.019091   \n",
       "matchStage      0.474702    1.000000    0.000000  -0.039117  -0.039117   \n",
       "tossResult     -0.003977    0.000000    1.000000   0.242462  -0.242462   \n",
       "alloutRec       0.006364   -0.039117    0.242462   1.000000  -0.684906   \n",
       "alloutGiv       0.019091   -0.039117   -0.242462  -0.684906   1.000000   \n",
       "sTackleRec      0.198846   -0.005807   -0.078336  -0.054267  -0.059534   \n",
       "sTackleGiv      0.193270   -0.015572    0.066340  -0.043681  -0.142556   \n",
       "touchPntsRec   -0.062223   -0.105019    0.239738   0.851986  -0.604684   \n",
       "touchPntsGiv   -0.046842   -0.105019   -0.239738  -0.604684   0.851986   \n",
       "bonusPntsRec   -0.163891   -0.095482   -0.075476   0.343539  -0.201157   \n",
       "bonusPntsGiv   -0.167853   -0.095482    0.075476  -0.201157   0.343539   \n",
       "raidPntsRec    -0.100961   -0.118441    0.186201   0.837218  -0.581964   \n",
       "raidPntsGiv    -0.088763   -0.118441   -0.186201  -0.581964   0.837218   \n",
       "tacklePntsRec   0.098118   -0.072360    0.156581   0.714772  -0.632491   \n",
       "tacklePntsGiv   0.101714   -0.072360   -0.156581  -0.632491   0.714772   \n",
       "alloutPntsRec   0.006364   -0.039117    0.242462   1.000000  -0.684906   \n",
       "alloutPntsGiv   0.019091   -0.039117   -0.242462  -0.684906   1.000000   \n",
       "extraPntsRec    0.074197    0.062526    0.060795   0.450991  -0.461071   \n",
       "extraPntsGiv    0.082175    0.062526   -0.060795  -0.461071   0.450991   \n",
       "totalPntsRec   -0.014328   -0.089579    0.210682   0.949229  -0.716214   \n",
       "totalPntsGiv   -0.002940   -0.089579   -0.210682  -0.716214   0.949229   \n",
       "touchPntsDiff  -0.009294    0.000000    0.289721   0.880188  -0.880188   \n",
       "bonusPntsDiff   0.003171    0.000000   -0.120830   0.436004  -0.436004   \n",
       "raidPntsDiff   -0.007448    0.000000    0.227363   0.866455  -0.866455   \n",
       "tacklePntsDiff -0.002164    0.000000    0.188478   0.810859  -0.810859   \n",
       "alloutPntsDiff -0.006933    0.000000    0.264162   0.917853  -0.917853   \n",
       "extraPntsDiff  -0.005347    0.000000    0.081497   0.611322  -0.611322   \n",
       "totalPntsDiff  -0.006226    0.000000    0.230367   0.910526  -0.910526   \n",
       "matchResult    -0.005567    0.000000    0.212121   0.784435  -0.784435   \n",
       "\n",
       "                sTackleRec  sTackleGiv  touchPntsRec  touchPntsGiv  \\\n",
       "gameNo            0.198846    0.193270     -0.062223     -0.046842   \n",
       "matchStage       -0.005807   -0.015572     -0.105019     -0.105019   \n",
       "tossResult       -0.078336    0.066340      0.239738     -0.239738   \n",
       "alloutRec        -0.054267   -0.043681      0.851986     -0.604684   \n",
       "alloutGiv        -0.059534   -0.142556     -0.604684      0.851986   \n",
       "sTackleRec        1.000000    0.286071     -0.188732     -0.105116   \n",
       "sTackleGiv        0.286071    1.000000     -0.065642     -0.249092   \n",
       "touchPntsRec     -0.188732   -0.065642      1.000000     -0.369436   \n",
       "touchPntsGiv     -0.105116   -0.249092     -0.369436      1.000000   \n",
       "bonusPntsRec     -0.253448   -0.108709      0.333776     -0.164375   \n",
       "bonusPntsGiv     -0.112225   -0.185818     -0.164375      0.333776   \n",
       "raidPntsRec      -0.236335   -0.088096      0.962745     -0.367453   \n",
       "raidPntsGiv      -0.123328   -0.269266     -0.367453      0.962745   \n",
       "tacklePntsRec     0.418574    0.222683      0.513562     -0.545088   \n",
       "tacklePntsGiv     0.212572    0.403004     -0.545088      0.513562   \n",
       "alloutPntsRec    -0.054267   -0.043681      0.851986     -0.604684   \n",
       "alloutPntsGiv    -0.059534   -0.142556     -0.604684      0.851986   \n",
       "extraPntsRec      0.092357    0.100324      0.355337     -0.427072   \n",
       "extraPntsGiv      0.058680    0.055959     -0.427072      0.355337   \n",
       "totalPntsRec      0.003357    0.024230      0.910559     -0.550714   \n",
       "totalPntsGiv     -0.005899   -0.042640     -0.550714      0.910559   \n",
       "touchPntsDiff    -0.050525    0.110849      0.827477     -0.827477   \n",
       "bonusPntsDiff    -0.113043    0.061722      0.398747     -0.398747   \n",
       "raidPntsDiff     -0.068994    0.110610      0.812127     -0.812127   \n",
       "tacklePntsDiff    0.123983   -0.108528      0.637155     -0.637155   \n",
       "alloutPntsDiff    0.002869    0.053862      0.793521     -0.793521   \n",
       "extraPntsDiff     0.022572    0.029736      0.524420     -0.524420   \n",
       "totalPntsDiff     0.005060    0.036559      0.798902     -0.798902   \n",
       "matchResult       0.033573    0.022113      0.689246     -0.689246   \n",
       "\n",
       "                bonusPntsRec     ...       totalPntsRec  totalPntsGiv  \\\n",
       "gameNo             -0.163891     ...          -0.014328     -0.002940   \n",
       "matchStage         -0.095482     ...          -0.089579     -0.089579   \n",
       "tossResult         -0.075476     ...           0.210682     -0.210682   \n",
       "alloutRec           0.343539     ...           0.949229     -0.716214   \n",
       "alloutGiv          -0.201157     ...          -0.716214      0.949229   \n",
       "sTackleRec         -0.253448     ...           0.003357     -0.005899   \n",
       "sTackleGiv         -0.108709     ...           0.024230     -0.042640   \n",
       "touchPntsRec        0.333776     ...           0.910559     -0.550714   \n",
       "touchPntsGiv       -0.164375     ...          -0.550714      0.910559   \n",
       "bonusPntsRec        1.000000     ...           0.418092     -0.196520   \n",
       "bonusPntsGiv        0.219637     ...          -0.196520      0.418092   \n",
       "raidPntsRec         0.576245     ...           0.909387     -0.533842   \n",
       "raidPntsGiv        -0.079507     ...          -0.533842      0.909387   \n",
       "tacklePntsRec       0.066034     ...           0.768450     -0.573115   \n",
       "tacklePntsGiv      -0.250027     ...          -0.573115      0.768450   \n",
       "alloutPntsRec       0.343539     ...           0.949229     -0.716214   \n",
       "alloutPntsGiv      -0.201157     ...          -0.716214      0.949229   \n",
       "extraPntsRec        0.085576     ...           0.505133     -0.410928   \n",
       "extraPntsGiv       -0.282884     ...          -0.410928      0.505133   \n",
       "totalPntsRec        0.418092     ...           1.000000     -0.672804   \n",
       "totalPntsGiv       -0.196520     ...          -0.672804      1.000000   \n",
       "touchPntsDiff       0.301006     ...           0.882969     -0.882969   \n",
       "bonusPntsDiff       0.624645     ...           0.491969     -0.491969   \n",
       "raidPntsDiff        0.400357     ...           0.881136     -0.881136   \n",
       "tacklePntsDiff      0.190223     ...           0.807430     -0.807430   \n",
       "alloutPntsDiff      0.296723     ...           0.907250     -0.907250   \n",
       "extraPntsDiff       0.246966     ...           0.614002     -0.614002   \n",
       "totalPntsDiff       0.336019     ...           0.914550     -0.914550   \n",
       "matchResult         0.216365     ...           0.780856     -0.780856   \n",
       "\n",
       "                touchPntsDiff  bonusPntsDiff  raidPntsDiff  tacklePntsDiff  \\\n",
       "gameNo              -0.009294       0.003171     -0.007448       -0.002164   \n",
       "matchStage           0.000000       0.000000      0.000000        0.000000   \n",
       "tossResult           0.289721      -0.120830      0.227363        0.188478   \n",
       "alloutRec            0.880188       0.436004      0.866455        0.810859   \n",
       "alloutGiv           -0.880188      -0.436004     -0.866455       -0.810859   \n",
       "sTackleRec          -0.050525      -0.113043     -0.068994        0.123983   \n",
       "sTackleGiv           0.110849       0.061722      0.110610       -0.108528   \n",
       "touchPntsRec         0.827477       0.398747      0.812127        0.637155   \n",
       "touchPntsGiv        -0.827477      -0.398747     -0.812127       -0.637155   \n",
       "bonusPntsRec         0.301006       0.624645      0.400357        0.190223   \n",
       "bonusPntsGiv        -0.301006      -0.624645     -0.400357       -0.190223   \n",
       "raidPntsRec          0.803767       0.524900      0.818959        0.606979   \n",
       "raidPntsGiv         -0.803767      -0.524900     -0.818959       -0.606979   \n",
       "tacklePntsRec        0.639685       0.252992      0.615728        0.830763   \n",
       "tacklePntsGiv       -0.639685      -0.252992     -0.615728       -0.830763   \n",
       "alloutPntsRec        0.880188       0.436004      0.866455        0.810859   \n",
       "alloutPntsGiv       -0.880188      -0.436004     -0.866455       -0.810859   \n",
       "extraPntsRec         0.472768       0.294936      0.478683        0.330126   \n",
       "extraPntsGiv        -0.472768      -0.294936     -0.478683       -0.330126   \n",
       "totalPntsRec         0.882969       0.491969      0.881136        0.807430   \n",
       "totalPntsGiv        -0.882969      -0.491969     -0.881136       -0.807430   \n",
       "touchPntsDiff        1.000000       0.481883      0.981450        0.769998   \n",
       "bonusPntsDiff        0.481883       1.000000      0.640935        0.304530   \n",
       "raidPntsDiff         0.981450       0.640935      1.000000        0.741160   \n",
       "tacklePntsDiff       0.769998       0.304530      0.741160        1.000000   \n",
       "alloutPntsDiff       0.958965       0.475026      0.944002        0.883431   \n",
       "extraPntsDiff        0.633758       0.395369      0.641687        0.442542   \n",
       "totalPntsDiff        0.965468       0.537936      0.963464        0.882871   \n",
       "matchResult          0.832949       0.346380      0.805463        0.789253   \n",
       "\n",
       "                alloutPntsDiff  extraPntsDiff  totalPntsDiff  matchResult  \n",
       "gameNo               -0.006933      -0.005347      -0.006226    -0.005567  \n",
       "matchStage            0.000000       0.000000       0.000000     0.000000  \n",
       "tossResult            0.264162       0.081497       0.230367     0.212121  \n",
       "alloutRec             0.917853       0.611322       0.910526     0.784435  \n",
       "alloutGiv            -0.917853      -0.611322      -0.910526    -0.784435  \n",
       "sTackleRec            0.002869       0.022572       0.005060     0.033573  \n",
       "sTackleGiv            0.053862       0.029736       0.036559     0.022113  \n",
       "touchPntsRec          0.793521       0.524420       0.798902     0.689246  \n",
       "touchPntsGiv         -0.793521      -0.524420      -0.798902    -0.689246  \n",
       "bonusPntsRec          0.296723       0.246966       0.336019     0.216365  \n",
       "bonusPntsGiv         -0.296723      -0.246966      -0.336019    -0.216365  \n",
       "raidPntsRec           0.773099       0.525516       0.789037     0.659641  \n",
       "raidPntsGiv          -0.773099      -0.525516      -0.789037    -0.659641  \n",
       "tacklePntsRec         0.733921       0.367648       0.733456     0.655682  \n",
       "tacklePntsGiv        -0.733921      -0.367648      -0.733456    -0.655682  \n",
       "alloutPntsRec         0.917853       0.611322       0.910526     0.784435  \n",
       "alloutPntsGiv        -0.917853      -0.611322      -0.910526    -0.784435  \n",
       "extraPntsRec          0.496846       0.745976       0.500826     0.395166  \n",
       "extraPntsGiv         -0.496846      -0.745976      -0.500826    -0.395166  \n",
       "totalPntsRec          0.907250       0.614002       0.914550     0.780856  \n",
       "totalPntsGiv         -0.907250      -0.614002      -0.914550    -0.780856  \n",
       "touchPntsDiff         0.958965       0.633758       0.965468     0.832949  \n",
       "bonusPntsDiff         0.475026       0.395369       0.537936     0.346380  \n",
       "raidPntsDiff          0.944002       0.641687       0.963464     0.805463  \n",
       "tacklePntsDiff        0.883431       0.442542       0.882871     0.789253  \n",
       "alloutPntsDiff        1.000000       0.666035       0.992018     0.854641  \n",
       "extraPntsDiff         0.666035       1.000000       0.671370     0.529730  \n",
       "totalPntsDiff         0.992018       0.671370       1.000000     0.853814  \n",
       "matchResult           0.854641       0.529730       0.853814     1.000000  \n",
       "\n",
       "[29 rows x 29 columns]"
      ]
     },
     "execution_count": 40,
     "metadata": {},
     "output_type": "execute_result"
    }
   ],
   "source": [
    "\n",
    "data.corr()"
   ]
  },
  {
   "cell_type": "markdown",
   "metadata": {},
   "source": [
    "##### Рассмотрим зависимость набранных очков в защите на общее количество очков , набранных командой во время игры."
   ]
  },
  {
   "cell_type": "code",
   "execution_count": 41,
   "metadata": {
    "collapsed": false
   },
   "outputs": [
    {
     "data": {
      "image/png": "[encoded data removed]",
      "text/plain": [
       "<matplotlib.figure.Figure at 0x28c610da828>"
      ]
     },
     "metadata": {},
     "output_type": "display_data"
    }
   ],
   "source": [
    "plt.plot(data['tacklePntsRec'], data['totalPntsRec'], 'o', alpha = 0.5)\n",
    "plt.xlabel('Очки в защите')\n",
    "plt.ylabel('Общее количество очков  ')\n",
    "plt.title('Очки в защите & Общее количество очков')\n",
    "pass"
   ]
  },
  {
   "cell_type": "markdown",
   "metadata": {},
   "source": [
    "#### Рассмотрим зависимость набранных очков в нападении на общее количество очков , набранных командой во время игры."
   ]
  },
  {
   "cell_type": "code",
   "execution_count": 42,
   "metadata": {
    "collapsed": false
   },
   "outputs": [
    {
     "data": {
      "image/png": "[encoded data removed]",
      "text/plain": [
       "<matplotlib.figure.Figure at 0x28c610dac88>"
      ]
     },
     "metadata": {},
     "output_type": "display_data"
    }
   ],
   "source": [
    "plt.plot(data['raidPntsRec'], data['totalPntsRec'], 'o', alpha = 0.5)\n",
    "plt.xlabel('Очки в нападении ')\n",
    "plt.ylabel('Общее количество очков  ')\n",
    "plt.title('Очки в защите & Общее количество очков')\n",
    "pass"
   ]
  },
  {
   "cell_type": "markdown",
   "metadata": {},
   "source": [
    "Проследим какой вклад в общий счет вносятся на кажом этапе "
   ]
  },
  {
   "cell_type": "code",
   "execution_count": 43,
   "metadata": {
    "collapsed": false
   },
   "outputs": [
    {
     "data": {
      "image/png": "[encoded data removed]",
      "text/plain": [
       "<matplotlib.figure.Figure at 0x28c6145b7b8>"
      ]
     },
     "metadata": {},
     "output_type": "display_data"
    }
   ],
   "source": [
    "plt.plot(data['alloutPntsRec'], data['totalPntsRec'], 'o', alpha = 0.5, color = 'r')\n",
    "plt.plot(data['touchPntsRec'], data['totalPntsRec'], 'o', alpha = 0.5, color = 'b')\n",
    "plt.plot(data['bonusPntsRec'], data['totalPntsRec'], 'o', alpha = 0.5, color = 'black')\n",
    "plt.plot(data['raidPntsRec'], data['totalPntsRec'], 'o', alpha = 0.5, color = 'y')\n",
    "plt.plot(data['tacklePntsRec'], data['totalPntsRec'], 'o', alpha = 0.5, color = 'g')\n",
    "plt.xlabel('Очки в нападении ')\n",
    "plt.ylabel('Общее количество очков  ')\n",
    "plt.title('Влияние набранных очков на общий счет ')\n",
    "pass\n"
   ]
  },
  {
   "cell_type": "code",
   "execution_count": 44,
   "metadata": {
    "collapsed": false
   },
   "outputs": [
    {
     "data": {
      "image/png": "[encoded data removed]",
      "text/plain": [
       "<matplotlib.figure.Figure at 0x28c610dd320>"
      ]
     },
     "metadata": {},
     "output_type": "display_data"
    }
   ],
   "source": [
    "plt.plot(data['bonusPntsRec'], data['totalPntsRec'], 'o', alpha = 0.5, color = 'r')\n",
    "plt.xlabel('Бонусы')\n",
    "plt.ylabel('Общее количество очков')\n",
    "plt.title('Заработанные бонусы & результат игры')\n",
    "pass"
   ]
  },
  {
   "cell_type": "markdown",
   "metadata": {},
   "source": [
    "##### Обратим внимание , что там где, разница в очках от команды соперника отрицательна, значит что команда проиграла."
   ]
  },
  {
   "cell_type": "code",
   "execution_count": 45,
   "metadata": {
    "collapsed": false
   },
   "outputs": [
    {
     "ename": "KeyboardInterrupt",
     "evalue": "",
     "output_type": "error",
     "traceback": [
      "\u001b[0;31m---------------------------------------------------------------------------\u001b[0m",
      "\u001b[0;31mKeyboardInterrupt\u001b[0m                         Traceback (most recent call last)",
      "\u001b[0;32m<ipython-input-45-71cbddc3773a>\u001b[0m in \u001b[0;36m<module>\u001b[0;34m()\u001b[0m\n\u001b[1;32m      1\u001b[0m \u001b[1;32mfrom\u001b[0m \u001b[0mpandas\u001b[0m\u001b[1;33m.\u001b[0m\u001b[0mtools\u001b[0m\u001b[1;33m.\u001b[0m\u001b[0mplotting\u001b[0m \u001b[1;32mimport\u001b[0m \u001b[0mscatter_matrix\u001b[0m\u001b[1;33m\u001b[0m\u001b[0m\n\u001b[0;32m----> 2\u001b[0;31m \u001b[0mscatter_matrix\u001b[0m\u001b[1;33m(\u001b[0m\u001b[0mdata\u001b[0m\u001b[1;33m,\u001b[0m \u001b[0malpha\u001b[0m \u001b[1;33m=\u001b[0m \u001b[1;36m0.1\u001b[0m\u001b[1;33m,\u001b[0m \u001b[0mfigsize\u001b[0m \u001b[1;33m=\u001b[0m \u001b[1;33m(\u001b[0m\u001b[1;36m20\u001b[0m\u001b[1;33m,\u001b[0m \u001b[1;36m20\u001b[0m\u001b[1;33m)\u001b[0m\u001b[1;33m)\u001b[0m\u001b[1;33m\u001b[0m\u001b[0m\n\u001b[0m\u001b[1;32m      3\u001b[0m \u001b[1;32mpass\u001b[0m\u001b[1;33m\u001b[0m\u001b[0m\n",
      "\u001b[0;32mC:\\ProgramData\\Anaconda3\\lib\\site-packages\\pandas\\tools\\plotting.py\u001b[0m in \u001b[0;36mscatter_matrix\u001b[0;34m(frame, alpha, figsize, ax, grid, diagonal, marker, density_kwds, hist_kwds, range_padding, **kwds)\u001b[0m\n\u001b[1;32m    347\u001b[0m     \u001b[0mnaxes\u001b[0m \u001b[1;33m=\u001b[0m \u001b[0mn\u001b[0m \u001b[1;33m*\u001b[0m \u001b[0mn\u001b[0m\u001b[1;33m\u001b[0m\u001b[0m\n\u001b[1;32m    348\u001b[0m     fig, axes = _subplots(naxes=naxes, figsize=figsize, ax=ax,\n\u001b[0;32m--> 349\u001b[0;31m                           squeeze=False)\n\u001b[0m\u001b[1;32m    350\u001b[0m \u001b[1;33m\u001b[0m\u001b[0m\n\u001b[1;32m    351\u001b[0m     \u001b[1;31m# no gaps between subplots\u001b[0m\u001b[1;33m\u001b[0m\u001b[1;33m\u001b[0m\u001b[0m\n",
      "\u001b[0;32mC:\\ProgramData\\Anaconda3\\lib\\site-packages\\pandas\\tools\\plotting.py\u001b[0m in \u001b[0;36m_subplots\u001b[0;34m(naxes, sharex, sharey, squeeze, subplot_kw, ax, layout, layout_type, **fig_kw)\u001b[0m\n\u001b[1;32m   3430\u001b[0m             \u001b[0mkwds\u001b[0m\u001b[1;33m[\u001b[0m\u001b[1;34m'sharex'\u001b[0m\u001b[1;33m]\u001b[0m \u001b[1;33m=\u001b[0m \u001b[1;32mNone\u001b[0m\u001b[1;33m\u001b[0m\u001b[0m\n\u001b[1;32m   3431\u001b[0m             \u001b[0mkwds\u001b[0m\u001b[1;33m[\u001b[0m\u001b[1;34m'sharey'\u001b[0m\u001b[1;33m]\u001b[0m \u001b[1;33m=\u001b[0m \u001b[1;32mNone\u001b[0m\u001b[1;33m\u001b[0m\u001b[0m\n\u001b[0;32m-> 3432\u001b[0;31m         \u001b[0max\u001b[0m \u001b[1;33m=\u001b[0m \u001b[0mfig\u001b[0m\u001b[1;33m.\u001b[0m\u001b[0madd_subplot\u001b[0m\u001b[1;33m(\u001b[0m\u001b[0mnrows\u001b[0m\u001b[1;33m,\u001b[0m \u001b[0mncols\u001b[0m\u001b[1;33m,\u001b[0m \u001b[0mi\u001b[0m \u001b[1;33m+\u001b[0m \u001b[1;36m1\u001b[0m\u001b[1;33m,\u001b[0m \u001b[1;33m**\u001b[0m\u001b[0mkwds\u001b[0m\u001b[1;33m)\u001b[0m\u001b[1;33m\u001b[0m\u001b[0m\n\u001b[0m\u001b[1;32m   3433\u001b[0m         \u001b[0maxarr\u001b[0m\u001b[1;33m[\u001b[0m\u001b[0mi\u001b[0m\u001b[1;33m]\u001b[0m \u001b[1;33m=\u001b[0m \u001b[0max\u001b[0m\u001b[1;33m\u001b[0m\u001b[0m\n\u001b[1;32m   3434\u001b[0m \u001b[1;33m\u001b[0m\u001b[0m\n",
      "\u001b[0;32mC:\\ProgramData\\Anaconda3\\lib\\site-packages\\matplotlib\\figure.py\u001b[0m in \u001b[0;36madd_subplot\u001b[0;34m(self, *args, **kwargs)\u001b[0m\n\u001b[1;32m   1018\u001b[0m                     \u001b[0mself\u001b[0m\u001b[1;33m.\u001b[0m\u001b[0m_axstack\u001b[0m\u001b[1;33m.\u001b[0m\u001b[0mremove\u001b[0m\u001b[1;33m(\u001b[0m\u001b[0max\u001b[0m\u001b[1;33m)\u001b[0m\u001b[1;33m\u001b[0m\u001b[0m\n\u001b[1;32m   1019\u001b[0m \u001b[1;33m\u001b[0m\u001b[0m\n\u001b[0;32m-> 1020\u001b[0;31m             \u001b[0ma\u001b[0m \u001b[1;33m=\u001b[0m \u001b[0msubplot_class_factory\u001b[0m\u001b[1;33m(\u001b[0m\u001b[0mprojection_class\u001b[0m\u001b[1;33m)\u001b[0m\u001b[1;33m(\u001b[0m\u001b[0mself\u001b[0m\u001b[1;33m,\u001b[0m \u001b[1;33m*\u001b[0m\u001b[0margs\u001b[0m\u001b[1;33m,\u001b[0m \u001b[1;33m**\u001b[0m\u001b[0mkwargs\u001b[0m\u001b[1;33m)\u001b[0m\u001b[1;33m\u001b[0m\u001b[0m\n\u001b[0m\u001b[1;32m   1021\u001b[0m \u001b[1;33m\u001b[0m\u001b[0m\n\u001b[1;32m   1022\u001b[0m         \u001b[0mself\u001b[0m\u001b[1;33m.\u001b[0m\u001b[0m_axstack\u001b[0m\u001b[1;33m.\u001b[0m\u001b[0madd\u001b[0m\u001b[1;33m(\u001b[0m\u001b[0mkey\u001b[0m\u001b[1;33m,\u001b[0m \u001b[0ma\u001b[0m\u001b[1;33m)\u001b[0m\u001b[1;33m\u001b[0m\u001b[0m\n",
      "\u001b[0;32mC:\\ProgramData\\Anaconda3\\lib\\site-packages\\matplotlib\\axes\\_subplots.py\u001b[0m in \u001b[0;36m__init__\u001b[0;34m(self, fig, *args, **kwargs)\u001b[0m\n\u001b[1;32m     71\u001b[0m \u001b[1;33m\u001b[0m\u001b[0m\n\u001b[1;32m     72\u001b[0m         \u001b[1;31m# _axes_class is set in the subplot_class_factory\u001b[0m\u001b[1;33m\u001b[0m\u001b[1;33m\u001b[0m\u001b[0m\n\u001b[0;32m---> 73\u001b[0;31m         \u001b[0mself\u001b[0m\u001b[1;33m.\u001b[0m\u001b[0m_axes_class\u001b[0m\u001b[1;33m.\u001b[0m\u001b[0m__init__\u001b[0m\u001b[1;33m(\u001b[0m\u001b[0mself\u001b[0m\u001b[1;33m,\u001b[0m \u001b[0mfig\u001b[0m\u001b[1;33m,\u001b[0m \u001b[0mself\u001b[0m\u001b[1;33m.\u001b[0m\u001b[0mfigbox\u001b[0m\u001b[1;33m,\u001b[0m \u001b[1;33m**\u001b[0m\u001b[0mkwargs\u001b[0m\u001b[1;33m)\u001b[0m\u001b[1;33m\u001b[0m\u001b[0m\n\u001b[0m\u001b[1;32m     74\u001b[0m \u001b[1;33m\u001b[0m\u001b[0m\n\u001b[1;32m     75\u001b[0m     \u001b[1;32mdef\u001b[0m \u001b[0m__reduce__\u001b[0m\u001b[1;33m(\u001b[0m\u001b[0mself\u001b[0m\u001b[1;33m)\u001b[0m\u001b[1;33m:\u001b[0m\u001b[1;33m\u001b[0m\u001b[0m\n",
      "\u001b[0;32mC:\\ProgramData\\Anaconda3\\lib\\site-packages\\matplotlib\\axes\\_base.py\u001b[0m in \u001b[0;36m__init__\u001b[0;34m(self, fig, rect, facecolor, frameon, sharex, sharey, label, xscale, yscale, axisbg, **kwargs)\u001b[0m\n\u001b[1;32m    549\u001b[0m \u001b[1;33m\u001b[0m\u001b[0m\n\u001b[1;32m    550\u001b[0m         \u001b[0mself\u001b[0m\u001b[1;33m.\u001b[0m\u001b[0m_connected\u001b[0m \u001b[1;33m=\u001b[0m \u001b[1;33m{\u001b[0m\u001b[1;33m}\u001b[0m  \u001b[1;31m# a dict from events to (id, func)\u001b[0m\u001b[1;33m\u001b[0m\u001b[0m\n\u001b[0;32m--> 551\u001b[0;31m         \u001b[0mself\u001b[0m\u001b[1;33m.\u001b[0m\u001b[0mcla\u001b[0m\u001b[1;33m(\u001b[0m\u001b[1;33m)\u001b[0m\u001b[1;33m\u001b[0m\u001b[0m\n\u001b[0m\u001b[1;32m    552\u001b[0m         \u001b[1;31m# funcs used to format x and y - fall back on major formatters\u001b[0m\u001b[1;33m\u001b[0m\u001b[1;33m\u001b[0m\u001b[0m\n\u001b[1;32m    553\u001b[0m         \u001b[0mself\u001b[0m\u001b[1;33m.\u001b[0m\u001b[0mfmt_xdata\u001b[0m \u001b[1;33m=\u001b[0m \u001b[1;32mNone\u001b[0m\u001b[1;33m\u001b[0m\u001b[0m\n",
      "\u001b[0;32mC:\\ProgramData\\Anaconda3\\lib\\site-packages\\matplotlib\\axes\\_base.py\u001b[0m in \u001b[0;36mcla\u001b[0;34m(self)\u001b[0m\n\u001b[1;32m    973\u001b[0m         \u001b[0myaxis_visible\u001b[0m \u001b[1;33m=\u001b[0m \u001b[0mself\u001b[0m\u001b[1;33m.\u001b[0m\u001b[0myaxis\u001b[0m\u001b[1;33m.\u001b[0m\u001b[0mget_visible\u001b[0m\u001b[1;33m(\u001b[0m\u001b[1;33m)\u001b[0m\u001b[1;33m\u001b[0m\u001b[0m\n\u001b[1;32m    974\u001b[0m \u001b[1;33m\u001b[0m\u001b[0m\n\u001b[0;32m--> 975\u001b[0;31m         \u001b[0mself\u001b[0m\u001b[1;33m.\u001b[0m\u001b[0mxaxis\u001b[0m\u001b[1;33m.\u001b[0m\u001b[0mcla\u001b[0m\u001b[1;33m(\u001b[0m\u001b[1;33m)\u001b[0m\u001b[1;33m\u001b[0m\u001b[0m\n\u001b[0m\u001b[1;32m    976\u001b[0m         \u001b[0mself\u001b[0m\u001b[1;33m.\u001b[0m\u001b[0myaxis\u001b[0m\u001b[1;33m.\u001b[0m\u001b[0mcla\u001b[0m\u001b[1;33m(\u001b[0m\u001b[1;33m)\u001b[0m\u001b[1;33m\u001b[0m\u001b[0m\n\u001b[1;32m    977\u001b[0m         \u001b[1;32mfor\u001b[0m \u001b[0mname\u001b[0m\u001b[1;33m,\u001b[0m \u001b[0mspine\u001b[0m \u001b[1;32min\u001b[0m \u001b[0msix\u001b[0m\u001b[1;33m.\u001b[0m\u001b[0miteritems\u001b[0m\u001b[1;33m(\u001b[0m\u001b[0mself\u001b[0m\u001b[1;33m.\u001b[0m\u001b[0mspines\u001b[0m\u001b[1;33m)\u001b[0m\u001b[1;33m:\u001b[0m\u001b[1;33m\u001b[0m\u001b[0m\n",
      "\u001b[0;32mC:\\ProgramData\\Anaconda3\\lib\\site-packages\\matplotlib\\axis.py\u001b[0m in \u001b[0;36mcla\u001b[0;34m(self)\u001b[0m\n\u001b[1;32m    758\u001b[0m         \u001b[0mself\u001b[0m\u001b[1;33m.\u001b[0m\u001b[0m_set_artist_props\u001b[0m\u001b[1;33m(\u001b[0m\u001b[0mself\u001b[0m\u001b[1;33m.\u001b[0m\u001b[0mlabel\u001b[0m\u001b[1;33m)\u001b[0m\u001b[1;33m\u001b[0m\u001b[0m\n\u001b[1;32m    759\u001b[0m \u001b[1;33m\u001b[0m\u001b[0m\n\u001b[0;32m--> 760\u001b[0;31m         \u001b[0mself\u001b[0m\u001b[1;33m.\u001b[0m\u001b[0mreset_ticks\u001b[0m\u001b[1;33m(\u001b[0m\u001b[1;33m)\u001b[0m\u001b[1;33m\u001b[0m\u001b[0m\n\u001b[0m\u001b[1;32m    761\u001b[0m \u001b[1;33m\u001b[0m\u001b[0m\n\u001b[1;32m    762\u001b[0m         \u001b[0mself\u001b[0m\u001b[1;33m.\u001b[0m\u001b[0mconverter\u001b[0m \u001b[1;33m=\u001b[0m \u001b[1;32mNone\u001b[0m\u001b[1;33m\u001b[0m\u001b[0m\n",
      "\u001b[0;32mC:\\ProgramData\\Anaconda3\\lib\\site-packages\\matplotlib\\axis.py\u001b[0m in \u001b[0;36mreset_ticks\u001b[0;34m(self)\u001b[0m\n\u001b[1;32m    772\u001b[0m         \u001b[0mcbook\u001b[0m\u001b[1;33m.\u001b[0m\u001b[0mpopall\u001b[0m\u001b[1;33m(\u001b[0m\u001b[0mself\u001b[0m\u001b[1;33m.\u001b[0m\u001b[0mminorTicks\u001b[0m\u001b[1;33m)\u001b[0m\u001b[1;33m\u001b[0m\u001b[0m\n\u001b[1;32m    773\u001b[0m \u001b[1;33m\u001b[0m\u001b[0m\n\u001b[0;32m--> 774\u001b[0;31m         \u001b[0mself\u001b[0m\u001b[1;33m.\u001b[0m\u001b[0mmajorTicks\u001b[0m\u001b[1;33m.\u001b[0m\u001b[0mextend\u001b[0m\u001b[1;33m(\u001b[0m\u001b[1;33m[\u001b[0m\u001b[0mself\u001b[0m\u001b[1;33m.\u001b[0m\u001b[0m_get_tick\u001b[0m\u001b[1;33m(\u001b[0m\u001b[0mmajor\u001b[0m\u001b[1;33m=\u001b[0m\u001b[1;32mTrue\u001b[0m\u001b[1;33m)\u001b[0m\u001b[1;33m]\u001b[0m\u001b[1;33m)\u001b[0m\u001b[1;33m\u001b[0m\u001b[0m\n\u001b[0m\u001b[1;32m    775\u001b[0m         \u001b[0mself\u001b[0m\u001b[1;33m.\u001b[0m\u001b[0mminorTicks\u001b[0m\u001b[1;33m.\u001b[0m\u001b[0mextend\u001b[0m\u001b[1;33m(\u001b[0m\u001b[1;33m[\u001b[0m\u001b[0mself\u001b[0m\u001b[1;33m.\u001b[0m\u001b[0m_get_tick\u001b[0m\u001b[1;33m(\u001b[0m\u001b[0mmajor\u001b[0m\u001b[1;33m=\u001b[0m\u001b[1;32mFalse\u001b[0m\u001b[1;33m)\u001b[0m\u001b[1;33m]\u001b[0m\u001b[1;33m)\u001b[0m\u001b[1;33m\u001b[0m\u001b[0m\n\u001b[1;32m    776\u001b[0m         \u001b[0mself\u001b[0m\u001b[1;33m.\u001b[0m\u001b[0m_lastNumMajorTicks\u001b[0m \u001b[1;33m=\u001b[0m \u001b[1;36m1\u001b[0m\u001b[1;33m\u001b[0m\u001b[0m\n",
      "\u001b[0;32mC:\\ProgramData\\Anaconda3\\lib\\site-packages\\matplotlib\\axis.py\u001b[0m in \u001b[0;36m_get_tick\u001b[0;34m(self, major)\u001b[0m\n\u001b[1;32m   1727\u001b[0m         \u001b[1;32melse\u001b[0m\u001b[1;33m:\u001b[0m\u001b[1;33m\u001b[0m\u001b[0m\n\u001b[1;32m   1728\u001b[0m             \u001b[0mtick_kw\u001b[0m \u001b[1;33m=\u001b[0m \u001b[0mself\u001b[0m\u001b[1;33m.\u001b[0m\u001b[0m_minor_tick_kw\u001b[0m\u001b[1;33m\u001b[0m\u001b[0m\n\u001b[0;32m-> 1729\u001b[0;31m         \u001b[1;32mreturn\u001b[0m \u001b[0mXTick\u001b[0m\u001b[1;33m(\u001b[0m\u001b[0mself\u001b[0m\u001b[1;33m.\u001b[0m\u001b[0maxes\u001b[0m\u001b[1;33m,\u001b[0m \u001b[1;36m0\u001b[0m\u001b[1;33m,\u001b[0m \u001b[1;34m''\u001b[0m\u001b[1;33m,\u001b[0m \u001b[0mmajor\u001b[0m\u001b[1;33m=\u001b[0m\u001b[0mmajor\u001b[0m\u001b[1;33m,\u001b[0m \u001b[1;33m**\u001b[0m\u001b[0mtick_kw\u001b[0m\u001b[1;33m)\u001b[0m\u001b[1;33m\u001b[0m\u001b[0m\n\u001b[0m\u001b[1;32m   1730\u001b[0m \u001b[1;33m\u001b[0m\u001b[0m\n\u001b[1;32m   1731\u001b[0m     \u001b[1;32mdef\u001b[0m \u001b[0m_get_label\u001b[0m\u001b[1;33m(\u001b[0m\u001b[0mself\u001b[0m\u001b[1;33m)\u001b[0m\u001b[1;33m:\u001b[0m\u001b[1;33m\u001b[0m\u001b[0m\n",
      "\u001b[0;32mC:\\ProgramData\\Anaconda3\\lib\\site-packages\\matplotlib\\axis.py\u001b[0m in \u001b[0;36m__init__\u001b[0;34m(self, axes, loc, label, size, width, color, tickdir, pad, labelsize, labelcolor, zorder, gridOn, tick1On, tick2On, label1On, label2On, major)\u001b[0m\n\u001b[1;32m    150\u001b[0m         \u001b[0mself\u001b[0m\u001b[1;33m.\u001b[0m\u001b[0mtick1line\u001b[0m \u001b[1;33m=\u001b[0m \u001b[0mself\u001b[0m\u001b[1;33m.\u001b[0m\u001b[0m_get_tick1line\u001b[0m\u001b[1;33m(\u001b[0m\u001b[1;33m)\u001b[0m\u001b[1;33m\u001b[0m\u001b[0m\n\u001b[1;32m    151\u001b[0m         \u001b[0mself\u001b[0m\u001b[1;33m.\u001b[0m\u001b[0mtick2line\u001b[0m \u001b[1;33m=\u001b[0m \u001b[0mself\u001b[0m\u001b[1;33m.\u001b[0m\u001b[0m_get_tick2line\u001b[0m\u001b[1;33m(\u001b[0m\u001b[1;33m)\u001b[0m\u001b[1;33m\u001b[0m\u001b[0m\n\u001b[0;32m--> 152\u001b[0;31m         \u001b[0mself\u001b[0m\u001b[1;33m.\u001b[0m\u001b[0mgridline\u001b[0m \u001b[1;33m=\u001b[0m \u001b[0mself\u001b[0m\u001b[1;33m.\u001b[0m\u001b[0m_get_gridline\u001b[0m\u001b[1;33m(\u001b[0m\u001b[1;33m)\u001b[0m\u001b[1;33m\u001b[0m\u001b[0m\n\u001b[0m\u001b[1;32m    153\u001b[0m \u001b[1;33m\u001b[0m\u001b[0m\n\u001b[1;32m    154\u001b[0m         \u001b[0mself\u001b[0m\u001b[1;33m.\u001b[0m\u001b[0mlabel1\u001b[0m \u001b[1;33m=\u001b[0m \u001b[0mself\u001b[0m\u001b[1;33m.\u001b[0m\u001b[0m_get_text1\u001b[0m\u001b[1;33m(\u001b[0m\u001b[1;33m)\u001b[0m\u001b[1;33m\u001b[0m\u001b[0m\n",
      "\u001b[0;32mC:\\ProgramData\\Anaconda3\\lib\\site-packages\\matplotlib\\axis.py\u001b[0m in \u001b[0;36m_get_gridline\u001b[0;34m(self)\u001b[0m\n\u001b[1;32m    448\u001b[0m                           markersize=0)\n\u001b[1;32m    449\u001b[0m         \u001b[0ml\u001b[0m\u001b[1;33m.\u001b[0m\u001b[0mset_transform\u001b[0m\u001b[1;33m(\u001b[0m\u001b[0mself\u001b[0m\u001b[1;33m.\u001b[0m\u001b[0maxes\u001b[0m\u001b[1;33m.\u001b[0m\u001b[0mget_xaxis_transform\u001b[0m\u001b[1;33m(\u001b[0m\u001b[0mwhich\u001b[0m\u001b[1;33m=\u001b[0m\u001b[1;34m'grid'\u001b[0m\u001b[1;33m)\u001b[0m\u001b[1;33m)\u001b[0m\u001b[1;33m\u001b[0m\u001b[0m\n\u001b[0;32m--> 450\u001b[0;31m         \u001b[0ml\u001b[0m\u001b[1;33m.\u001b[0m\u001b[0mget_path\u001b[0m\u001b[1;33m(\u001b[0m\u001b[1;33m)\u001b[0m\u001b[1;33m.\u001b[0m\u001b[0m_interpolation_steps\u001b[0m \u001b[1;33m=\u001b[0m \u001b[0mGRIDLINE_INTERPOLATION_STEPS\u001b[0m\u001b[1;33m\u001b[0m\u001b[0m\n\u001b[0m\u001b[1;32m    451\u001b[0m         \u001b[0mself\u001b[0m\u001b[1;33m.\u001b[0m\u001b[0m_set_artist_props\u001b[0m\u001b[1;33m(\u001b[0m\u001b[0ml\u001b[0m\u001b[1;33m)\u001b[0m\u001b[1;33m\u001b[0m\u001b[0m\n\u001b[1;32m    452\u001b[0m \u001b[1;33m\u001b[0m\u001b[0m\n",
      "\u001b[0;32mC:\\ProgramData\\Anaconda3\\lib\\site-packages\\matplotlib\\lines.py\u001b[0m in \u001b[0;36mget_path\u001b[0;34m(self)\u001b[0m\n\u001b[1;32m    987\u001b[0m         \"\"\"\n\u001b[1;32m    988\u001b[0m         \u001b[1;32mif\u001b[0m \u001b[0mself\u001b[0m\u001b[1;33m.\u001b[0m\u001b[0m_invalidy\u001b[0m \u001b[1;32mor\u001b[0m \u001b[0mself\u001b[0m\u001b[1;33m.\u001b[0m\u001b[0m_invalidx\u001b[0m\u001b[1;33m:\u001b[0m\u001b[1;33m\u001b[0m\u001b[0m\n\u001b[0;32m--> 989\u001b[0;31m             \u001b[0mself\u001b[0m\u001b[1;33m.\u001b[0m\u001b[0mrecache\u001b[0m\u001b[1;33m(\u001b[0m\u001b[1;33m)\u001b[0m\u001b[1;33m\u001b[0m\u001b[0m\n\u001b[0m\u001b[1;32m    990\u001b[0m         \u001b[1;32mreturn\u001b[0m \u001b[0mself\u001b[0m\u001b[1;33m.\u001b[0m\u001b[0m_path\u001b[0m\u001b[1;33m\u001b[0m\u001b[0m\n\u001b[1;32m    991\u001b[0m \u001b[1;33m\u001b[0m\u001b[0m\n",
      "\u001b[0;32mC:\\ProgramData\\Anaconda3\\lib\\site-packages\\matplotlib\\lines.py\u001b[0m in \u001b[0;36mrecache\u001b[0;34m(self, always)\u001b[0m\n\u001b[1;32m    698\u001b[0m         \u001b[0mself\u001b[0m\u001b[1;33m.\u001b[0m\u001b[0m_xy\u001b[0m \u001b[1;33m=\u001b[0m \u001b[0mnp\u001b[0m\u001b[1;33m.\u001b[0m\u001b[0mempty\u001b[0m\u001b[1;33m(\u001b[0m\u001b[1;33m(\u001b[0m\u001b[0mlen\u001b[0m\u001b[1;33m(\u001b[0m\u001b[0mx\u001b[0m\u001b[1;33m)\u001b[0m\u001b[1;33m,\u001b[0m \u001b[1;36m2\u001b[0m\u001b[1;33m)\u001b[0m\u001b[1;33m,\u001b[0m \u001b[0mdtype\u001b[0m\u001b[1;33m=\u001b[0m\u001b[0mnp\u001b[0m\u001b[1;33m.\u001b[0m\u001b[0mfloat_\u001b[0m\u001b[1;33m)\u001b[0m\u001b[1;33m\u001b[0m\u001b[0m\n\u001b[1;32m    699\u001b[0m         \u001b[0mself\u001b[0m\u001b[1;33m.\u001b[0m\u001b[0m_xy\u001b[0m\u001b[1;33m[\u001b[0m\u001b[1;33m:\u001b[0m\u001b[1;33m,\u001b[0m \u001b[1;36m0\u001b[0m\u001b[1;33m]\u001b[0m \u001b[1;33m=\u001b[0m \u001b[0mx\u001b[0m\u001b[1;33m\u001b[0m\u001b[0m\n\u001b[0;32m--> 700\u001b[0;31m         \u001b[0mself\u001b[0m\u001b[1;33m.\u001b[0m\u001b[0m_xy\u001b[0m\u001b[1;33m[\u001b[0m\u001b[1;33m:\u001b[0m\u001b[1;33m,\u001b[0m \u001b[1;36m1\u001b[0m\u001b[1;33m]\u001b[0m \u001b[1;33m=\u001b[0m \u001b[0my\u001b[0m\u001b[1;33m\u001b[0m\u001b[0m\n\u001b[0m\u001b[1;32m    701\u001b[0m \u001b[1;33m\u001b[0m\u001b[0m\n\u001b[1;32m    702\u001b[0m         \u001b[0mself\u001b[0m\u001b[1;33m.\u001b[0m\u001b[0m_x\u001b[0m \u001b[1;33m=\u001b[0m \u001b[0mself\u001b[0m\u001b[1;33m.\u001b[0m\u001b[0m_xy\u001b[0m\u001b[1;33m[\u001b[0m\u001b[1;33m:\u001b[0m\u001b[1;33m,\u001b[0m \u001b[1;36m0\u001b[0m\u001b[1;33m]\u001b[0m  \u001b[1;31m# just a view\u001b[0m\u001b[1;33m\u001b[0m\u001b[0m\n",
      "\u001b[0;31mKeyboardInterrupt\u001b[0m: "
     ]
    },
    {
     "data": {
      "image/png": "[encoded data removed]",
      "text/plain": [
       "<matplotlib.figure.Figure at 0x28c610cde80>"
      ]
     },
     "metadata": {},
     "output_type": "display_data"
    }
   ],
   "source": [
    "from pandas.tools.plotting import scatter_matrix\n",
    "scatter_matrix(data, alpha = 0.1, figsize = (20, 20))\n",
    "pass"
   ]
  },
  {
   "cell_type": "markdown",
   "metadata": {},
   "source": [
    "## Подготавливаем данные \n",
    "#### Обработка пропущенных значений \n"
   ]
  },
  {
   "cell_type": "code",
   "execution_count": 46,
   "metadata": {
    "collapsed": false
   },
   "outputs": [
    {
     "name": "stdout",
     "output_type": "stream",
     "text": [
      "['team', 'oppTeam']\n",
      "['gameNo', 'matchStage', 'tossResult', 'alloutRec', 'alloutGiv', 'sTackleRec', 'sTackleGiv', 'touchPntsRec', 'touchPntsGiv', 'bonusPntsRec', 'bonusPntsGiv', 'raidPntsRec', 'raidPntsGiv', 'tacklePntsRec', 'tacklePntsGiv', 'alloutPntsRec', 'alloutPntsGiv', 'extraPntsRec', 'extraPntsGiv', 'totalPntsRec', 'totalPntsGiv', 'touchPntsDiff', 'bonusPntsDiff', 'raidPntsDiff', 'tacklePntsDiff', 'alloutPntsDiff', 'extraPntsDiff', 'totalPntsDiff', 'matchResult']\n"
     ]
    }
   ],
   "source": [
    "categorical_columns = [c for c in data.columns if data[c].dtype.name == 'object']\n",
    "numerical_columns   = [c for c in data.columns if data[c].dtype.name != 'object']\n",
    "print(categorical_columns)\n",
    "print(numerical_columns)"
   ]
  },
  {
   "cell_type": "code",
   "execution_count": 47,
   "metadata": {
    "collapsed": false
   },
   "outputs": [
    {
     "data": {
      "text/plain": [
       "gameNo            66\n",
       "matchStage        66\n",
       "tossResult        66\n",
       "alloutRec         66\n",
       "alloutGiv         66\n",
       "sTackleRec        66\n",
       "sTackleGiv        66\n",
       "touchPntsRec      66\n",
       "touchPntsGiv      66\n",
       "bonusPntsRec      66\n",
       "bonusPntsGiv      66\n",
       "raidPntsRec       66\n",
       "raidPntsGiv       66\n",
       "tacklePntsRec     66\n",
       "tacklePntsGiv     66\n",
       "alloutPntsRec     66\n",
       "alloutPntsGiv     66\n",
       "extraPntsRec      66\n",
       "extraPntsGiv      66\n",
       "totalPntsRec      66\n",
       "totalPntsGiv      66\n",
       "touchPntsDiff     66\n",
       "bonusPntsDiff     66\n",
       "raidPntsDiff      66\n",
       "tacklePntsDiff    66\n",
       "alloutPntsDiff    66\n",
       "extraPntsDiff     66\n",
       "totalPntsDiff     66\n",
       "matchResult       66\n",
       "dtype: int64"
      ]
     },
     "execution_count": 47,
     "metadata": {},
     "output_type": "execute_result"
    }
   ],
   "source": [
    "data[numerical_columns].count(axis = 0)"
   ]
  },
  {
   "cell_type": "code",
   "execution_count": 48,
   "metadata": {
    "collapsed": false
   },
   "outputs": [
    {
     "data": {
      "text/plain": [
       "team       66\n",
       "oppTeam    66\n",
       "dtype: int64"
      ]
     },
     "execution_count": 48,
     "metadata": {},
     "output_type": "execute_result"
    }
   ],
   "source": [
    "data[categorical_columns].count(axis = 0)"
   ]
  },
  {
   "cell_type": "markdown",
   "metadata": {},
   "source": [
    "##### Следует заметить, что пропущенные значения отсутствуют."
   ]
  },
  {
   "cell_type": "markdown",
   "metadata": {},
   "source": [
    "#### Векторизация"
   ]
  },
  {
   "cell_type": "code",
   "execution_count": 49,
   "metadata": {
    "collapsed": false
   },
   "outputs": [
    {
     "name": "stdout",
     "output_type": "stream",
     "text": [
      "[] ['team', 'oppTeam']\n"
     ]
    }
   ],
   "source": [
    "data_describe = data.describe(include = [object])\n",
    "binary_columns    = [c for c in categorical_columns if data_describe[c]['unique'] == 2]\n",
    "nonbinary_columns = [c for c in categorical_columns if data_describe[c]['unique'] > 2]\n",
    "print(binary_columns, nonbinary_columns)"
   ]
  },
  {
   "cell_type": "markdown",
   "metadata": {},
   "source": [
    "##### Заметили, что бинарные признаки отсутствуют."
   ]
  },
  {
   "cell_type": "code",
   "execution_count": 50,
   "metadata": {
    "collapsed": false
   },
   "outputs": [
    {
     "data": {
      "text/plain": [
       "array(['IND', 'KOR', 'USA', 'IRN', 'ENG', 'BAN', 'POL', 'KEN', 'AUS',\n",
       "       'ARG', 'JPN', 'THA'], dtype=object)"
      ]
     },
     "execution_count": 50,
     "metadata": {},
     "output_type": "execute_result"
    }
   ],
   "source": [
    "data['team'].unique()"
   ]
  },
  {
   "cell_type": "code",
   "execution_count": 51,
   "metadata": {
    "collapsed": false
   },
   "outputs": [
    {
     "data": {
      "text/plain": [
       "array(['KOR', 'IND', 'IRN', 'USA', 'BAN', 'ENG', 'KEN', 'POL', 'AUS',\n",
       "       'ARG', 'JPN', 'THA'], dtype=object)"
      ]
     },
     "execution_count": 51,
     "metadata": {},
     "output_type": "execute_result"
    }
   ],
   "source": [
    "data['oppTeam'].unique()"
   ]
  },
  {
   "cell_type": "markdown",
   "metadata": {},
   "source": [
    "##### Векторизуем"
   ]
  },
  {
   "cell_type": "code",
   "execution_count": 52,
   "metadata": {
    "collapsed": false
   },
   "outputs": [
    {
     "name": "stdout",
     "output_type": "stream",
     "text": [
      "Index(['team_ARG', 'team_AUS', 'team_BAN', 'team_ENG', 'team_IND', 'team_IRN',\n",
      "       'team_JPN', 'team_KEN', 'team_KOR', 'team_POL', 'team_THA', 'team_USA',\n",
      "       'oppTeam_ARG', 'oppTeam_AUS', 'oppTeam_BAN', 'oppTeam_ENG',\n",
      "       'oppTeam_IND', 'oppTeam_IRN', 'oppTeam_JPN', 'oppTeam_KEN',\n",
      "       'oppTeam_KOR', 'oppTeam_POL', 'oppTeam_THA', 'oppTeam_USA'],\n",
      "      dtype='object')\n"
     ]
    }
   ],
   "source": [
    "data_nonbinary = pd.get_dummies(data[nonbinary_columns])\n",
    "print(data_nonbinary.columns)"
   ]
  },
  {
   "cell_type": "markdown",
   "metadata": {},
   "source": [
    "### Нормализация количественных признаков"
   ]
  },
  {
   "cell_type": "markdown",
   "metadata": {},
   "source": [
    " Приведем каждый признак к нулевому среднему и единичному среднеквадратичному отклонению:"
   ]
  },
  {
   "cell_type": "code",
   "execution_count": 53,
   "metadata": {
    "collapsed": false
   },
   "outputs": [
    {
     "data": {
      "text/html": [
       "<div>\n",
       "<table border=\"1\" class=\"dataframe\">\n",
       "  <thead>\n",
       "    <tr style=\"text-align: right;\">\n",
       "      <th></th>\n",
       "      <th>gameNo</th>\n",
       "      <th>matchStage</th>\n",
       "      <th>tossResult</th>\n",
       "      <th>alloutRec</th>\n",
       "      <th>alloutGiv</th>\n",
       "      <th>sTackleRec</th>\n",
       "      <th>sTackleGiv</th>\n",
       "      <th>touchPntsRec</th>\n",
       "      <th>touchPntsGiv</th>\n",
       "      <th>bonusPntsRec</th>\n",
       "      <th>...</th>\n",
       "      <th>totalPntsRec</th>\n",
       "      <th>totalPntsGiv</th>\n",
       "      <th>touchPntsDiff</th>\n",
       "      <th>bonusPntsDiff</th>\n",
       "      <th>raidPntsDiff</th>\n",
       "      <th>tacklePntsDiff</th>\n",
       "      <th>alloutPntsDiff</th>\n",
       "      <th>extraPntsDiff</th>\n",
       "      <th>totalPntsDiff</th>\n",
       "      <th>matchResult</th>\n",
       "    </tr>\n",
       "  </thead>\n",
       "  <tbody>\n",
       "    <tr>\n",
       "      <th>count</th>\n",
       "      <td>66.000000</td>\n",
       "      <td>66.000000</td>\n",
       "      <td>66.000000</td>\n",
       "      <td>66.000000</td>\n",
       "      <td>66.000000</td>\n",
       "      <td>66.000000</td>\n",
       "      <td>66.000000</td>\n",
       "      <td>66.000000</td>\n",
       "      <td>66.000000</td>\n",
       "      <td>66.000000</td>\n",
       "      <td>...</td>\n",
       "      <td>66.000000</td>\n",
       "      <td>66.000000</td>\n",
       "      <td>66.000000</td>\n",
       "      <td>66.000000</td>\n",
       "      <td>66.000000</td>\n",
       "      <td>66.000000</td>\n",
       "      <td>66.000000</td>\n",
       "      <td>66.000000</td>\n",
       "      <td>66.000000</td>\n",
       "      <td>66.000000</td>\n",
       "    </tr>\n",
       "    <tr>\n",
       "      <th>mean</th>\n",
       "      <td>33.500000</td>\n",
       "      <td>0.121212</td>\n",
       "      <td>0.500000</td>\n",
       "      <td>2.030303</td>\n",
       "      <td>2.030303</td>\n",
       "      <td>0.651515</td>\n",
       "      <td>0.696970</td>\n",
       "      <td>17.848485</td>\n",
       "      <td>17.848485</td>\n",
       "      <td>5.469697</td>\n",
       "      <td>...</td>\n",
       "      <td>40.469697</td>\n",
       "      <td>40.469697</td>\n",
       "      <td>0.000000</td>\n",
       "      <td>0.000000</td>\n",
       "      <td>0.000000</td>\n",
       "      <td>0.000000</td>\n",
       "      <td>0.000000</td>\n",
       "      <td>0.000000</td>\n",
       "      <td>0.000000</td>\n",
       "      <td>0.500000</td>\n",
       "    </tr>\n",
       "    <tr>\n",
       "      <th>std</th>\n",
       "      <td>19.196354</td>\n",
       "      <td>0.411943</td>\n",
       "      <td>0.503831</td>\n",
       "      <td>2.140954</td>\n",
       "      <td>2.140954</td>\n",
       "      <td>1.364297</td>\n",
       "      <td>1.380855</td>\n",
       "      <td>9.170593</td>\n",
       "      <td>9.170593</td>\n",
       "      <td>3.034264</td>\n",
       "      <td>...</td>\n",
       "      <td>19.493762</td>\n",
       "      <td>19.493762</td>\n",
       "      <td>15.176906</td>\n",
       "      <td>3.790677</td>\n",
       "      <td>17.324949</td>\n",
       "      <td>10.368592</td>\n",
       "      <td>7.860319</td>\n",
       "      <td>2.997435</td>\n",
       "      <td>35.656049</td>\n",
       "      <td>0.503831</td>\n",
       "    </tr>\n",
       "    <tr>\n",
       "      <th>min</th>\n",
       "      <td>1.000000</td>\n",
       "      <td>0.000000</td>\n",
       "      <td>0.000000</td>\n",
       "      <td>0.000000</td>\n",
       "      <td>0.000000</td>\n",
       "      <td>0.000000</td>\n",
       "      <td>0.000000</td>\n",
       "      <td>1.000000</td>\n",
       "      <td>1.000000</td>\n",
       "      <td>0.000000</td>\n",
       "      <td>...</td>\n",
       "      <td>8.000000</td>\n",
       "      <td>8.000000</td>\n",
       "      <td>-33.000000</td>\n",
       "      <td>-9.000000</td>\n",
       "      <td>-42.000000</td>\n",
       "      <td>-21.000000</td>\n",
       "      <td>-14.000000</td>\n",
       "      <td>-7.000000</td>\n",
       "      <td>-72.000000</td>\n",
       "      <td>0.000000</td>\n",
       "    </tr>\n",
       "    <tr>\n",
       "      <th>25%</th>\n",
       "      <td>17.250000</td>\n",
       "      <td>0.000000</td>\n",
       "      <td>0.000000</td>\n",
       "      <td>0.000000</td>\n",
       "      <td>0.000000</td>\n",
       "      <td>0.000000</td>\n",
       "      <td>0.000000</td>\n",
       "      <td>11.000000</td>\n",
       "      <td>11.000000</td>\n",
       "      <td>3.000000</td>\n",
       "      <td>...</td>\n",
       "      <td>25.000000</td>\n",
       "      <td>25.000000</td>\n",
       "      <td>-12.750000</td>\n",
       "      <td>-3.000000</td>\n",
       "      <td>-13.750000</td>\n",
       "      <td>-7.750000</td>\n",
       "      <td>-8.000000</td>\n",
       "      <td>-2.000000</td>\n",
       "      <td>-34.000000</td>\n",
       "      <td>0.000000</td>\n",
       "    </tr>\n",
       "    <tr>\n",
       "      <th>50%</th>\n",
       "      <td>33.500000</td>\n",
       "      <td>0.000000</td>\n",
       "      <td>0.500000</td>\n",
       "      <td>1.000000</td>\n",
       "      <td>1.000000</td>\n",
       "      <td>0.000000</td>\n",
       "      <td>0.000000</td>\n",
       "      <td>15.500000</td>\n",
       "      <td>15.500000</td>\n",
       "      <td>5.000000</td>\n",
       "      <td>...</td>\n",
       "      <td>34.000000</td>\n",
       "      <td>34.000000</td>\n",
       "      <td>0.000000</td>\n",
       "      <td>0.000000</td>\n",
       "      <td>0.000000</td>\n",
       "      <td>0.000000</td>\n",
       "      <td>0.000000</td>\n",
       "      <td>0.000000</td>\n",
       "      <td>0.000000</td>\n",
       "      <td>0.500000</td>\n",
       "    </tr>\n",
       "    <tr>\n",
       "      <th>75%</th>\n",
       "      <td>49.750000</td>\n",
       "      <td>0.000000</td>\n",
       "      <td>1.000000</td>\n",
       "      <td>4.000000</td>\n",
       "      <td>4.000000</td>\n",
       "      <td>1.000000</td>\n",
       "      <td>1.000000</td>\n",
       "      <td>25.750000</td>\n",
       "      <td>25.750000</td>\n",
       "      <td>6.750000</td>\n",
       "      <td>...</td>\n",
       "      <td>55.500000</td>\n",
       "      <td>55.500000</td>\n",
       "      <td>12.750000</td>\n",
       "      <td>3.000000</td>\n",
       "      <td>13.750000</td>\n",
       "      <td>7.750000</td>\n",
       "      <td>8.000000</td>\n",
       "      <td>2.000000</td>\n",
       "      <td>34.000000</td>\n",
       "      <td>1.000000</td>\n",
       "    </tr>\n",
       "    <tr>\n",
       "      <th>max</th>\n",
       "      <td>66.000000</td>\n",
       "      <td>2.000000</td>\n",
       "      <td>1.000000</td>\n",
       "      <td>7.000000</td>\n",
       "      <td>7.000000</td>\n",
       "      <td>9.000000</td>\n",
       "      <td>9.000000</td>\n",
       "      <td>37.000000</td>\n",
       "      <td>37.000000</td>\n",
       "      <td>16.000000</td>\n",
       "      <td>...</td>\n",
       "      <td>80.000000</td>\n",
       "      <td>80.000000</td>\n",
       "      <td>33.000000</td>\n",
       "      <td>9.000000</td>\n",
       "      <td>42.000000</td>\n",
       "      <td>21.000000</td>\n",
       "      <td>14.000000</td>\n",
       "      <td>7.000000</td>\n",
       "      <td>72.000000</td>\n",
       "      <td>1.000000</td>\n",
       "    </tr>\n",
       "  </tbody>\n",
       "</table>\n",
       "<p>8 rows × 29 columns</p>\n",
       "</div>"
      ],
      "text/plain": [
       "          gameNo  matchStage  tossResult  alloutRec  alloutGiv  sTackleRec  \\\n",
       "count  66.000000   66.000000   66.000000  66.000000  66.000000   66.000000   \n",
       "mean   33.500000    0.121212    0.500000   2.030303   2.030303    0.651515   \n",
       "std    19.196354    0.411943    0.503831   2.140954   2.140954    1.364297   \n",
       "min     1.000000    0.000000    0.000000   0.000000   0.000000    0.000000   \n",
       "25%    17.250000    0.000000    0.000000   0.000000   0.000000    0.000000   \n",
       "50%    33.500000    0.000000    0.500000   1.000000   1.000000    0.000000   \n",
       "75%    49.750000    0.000000    1.000000   4.000000   4.000000    1.000000   \n",
       "max    66.000000    2.000000    1.000000   7.000000   7.000000    9.000000   \n",
       "\n",
       "       sTackleGiv  touchPntsRec  touchPntsGiv  bonusPntsRec     ...       \\\n",
       "count   66.000000     66.000000     66.000000     66.000000     ...        \n",
       "mean     0.696970     17.848485     17.848485      5.469697     ...        \n",
       "std      1.380855      9.170593      9.170593      3.034264     ...        \n",
       "min      0.000000      1.000000      1.000000      0.000000     ...        \n",
       "25%      0.000000     11.000000     11.000000      3.000000     ...        \n",
       "50%      0.000000     15.500000     15.500000      5.000000     ...        \n",
       "75%      1.000000     25.750000     25.750000      6.750000     ...        \n",
       "max      9.000000     37.000000     37.000000     16.000000     ...        \n",
       "\n",
       "       totalPntsRec  totalPntsGiv  touchPntsDiff  bonusPntsDiff  raidPntsDiff  \\\n",
       "count     66.000000     66.000000      66.000000      66.000000     66.000000   \n",
       "mean      40.469697     40.469697       0.000000       0.000000      0.000000   \n",
       "std       19.493762     19.493762      15.176906       3.790677     17.324949   \n",
       "min        8.000000      8.000000     -33.000000      -9.000000    -42.000000   \n",
       "25%       25.000000     25.000000     -12.750000      -3.000000    -13.750000   \n",
       "50%       34.000000     34.000000       0.000000       0.000000      0.000000   \n",
       "75%       55.500000     55.500000      12.750000       3.000000     13.750000   \n",
       "max       80.000000     80.000000      33.000000       9.000000     42.000000   \n",
       "\n",
       "       tacklePntsDiff  alloutPntsDiff  extraPntsDiff  totalPntsDiff  \\\n",
       "count       66.000000       66.000000      66.000000      66.000000   \n",
       "mean         0.000000        0.000000       0.000000       0.000000   \n",
       "std         10.368592        7.860319       2.997435      35.656049   \n",
       "min        -21.000000      -14.000000      -7.000000     -72.000000   \n",
       "25%         -7.750000       -8.000000      -2.000000     -34.000000   \n",
       "50%          0.000000        0.000000       0.000000       0.000000   \n",
       "75%          7.750000        8.000000       2.000000      34.000000   \n",
       "max         21.000000       14.000000       7.000000      72.000000   \n",
       "\n",
       "       matchResult  \n",
       "count    66.000000  \n",
       "mean      0.500000  \n",
       "std       0.503831  \n",
       "min       0.000000  \n",
       "25%       0.000000  \n",
       "50%       0.500000  \n",
       "75%       1.000000  \n",
       "max       1.000000  \n",
       "\n",
       "[8 rows x 29 columns]"
      ]
     },
     "execution_count": 53,
     "metadata": {},
     "output_type": "execute_result"
    }
   ],
   "source": [
    "data_numerical = data[numerical_columns]\n",
    "data_numerical.describe()"
   ]
  },
  {
   "cell_type": "code",
   "execution_count": 54,
   "metadata": {
    "collapsed": false
   },
   "outputs": [
    {
     "data": {
      "text/html": [
       "<div>\n",
       "<table border=\"1\" class=\"dataframe\">\n",
       "  <thead>\n",
       "    <tr style=\"text-align: right;\">\n",
       "      <th></th>\n",
       "      <th>gameNo</th>\n",
       "      <th>matchStage</th>\n",
       "      <th>tossResult</th>\n",
       "      <th>alloutRec</th>\n",
       "      <th>alloutGiv</th>\n",
       "      <th>sTackleRec</th>\n",
       "      <th>sTackleGiv</th>\n",
       "      <th>touchPntsRec</th>\n",
       "      <th>touchPntsGiv</th>\n",
       "      <th>bonusPntsRec</th>\n",
       "      <th>...</th>\n",
       "      <th>totalPntsRec</th>\n",
       "      <th>totalPntsGiv</th>\n",
       "      <th>touchPntsDiff</th>\n",
       "      <th>bonusPntsDiff</th>\n",
       "      <th>raidPntsDiff</th>\n",
       "      <th>tacklePntsDiff</th>\n",
       "      <th>alloutPntsDiff</th>\n",
       "      <th>extraPntsDiff</th>\n",
       "      <th>totalPntsDiff</th>\n",
       "      <th>matchResult</th>\n",
       "    </tr>\n",
       "  </thead>\n",
       "  <tbody>\n",
       "    <tr>\n",
       "      <th>count</th>\n",
       "      <td>6.600000e+01</td>\n",
       "      <td>66.000000</td>\n",
       "      <td>66.000000</td>\n",
       "      <td>6.600000e+01</td>\n",
       "      <td>6.600000e+01</td>\n",
       "      <td>6.600000e+01</td>\n",
       "      <td>6.600000e+01</td>\n",
       "      <td>6.600000e+01</td>\n",
       "      <td>6.600000e+01</td>\n",
       "      <td>6.600000e+01</td>\n",
       "      <td>...</td>\n",
       "      <td>6.600000e+01</td>\n",
       "      <td>6.600000e+01</td>\n",
       "      <td>66.000000</td>\n",
       "      <td>66.000000</td>\n",
       "      <td>66.000000</td>\n",
       "      <td>66.000000</td>\n",
       "      <td>66.000000</td>\n",
       "      <td>66.000000</td>\n",
       "      <td>66.000000</td>\n",
       "      <td>66.000000</td>\n",
       "    </tr>\n",
       "    <tr>\n",
       "      <th>mean</th>\n",
       "      <td>3.364312e-18</td>\n",
       "      <td>0.000000</td>\n",
       "      <td>0.000000</td>\n",
       "      <td>-3.364312e-18</td>\n",
       "      <td>4.809915e-18</td>\n",
       "      <td>1.345725e-17</td>\n",
       "      <td>-4.205390e-17</td>\n",
       "      <td>6.728624e-17</td>\n",
       "      <td>7.569702e-17</td>\n",
       "      <td>-1.892426e-17</td>\n",
       "      <td>...</td>\n",
       "      <td>4.878253e-17</td>\n",
       "      <td>4.878253e-17</td>\n",
       "      <td>0.000000</td>\n",
       "      <td>0.000000</td>\n",
       "      <td>0.000000</td>\n",
       "      <td>0.000000</td>\n",
       "      <td>0.000000</td>\n",
       "      <td>0.000000</td>\n",
       "      <td>0.000000</td>\n",
       "      <td>0.000000</td>\n",
       "    </tr>\n",
       "    <tr>\n",
       "      <th>std</th>\n",
       "      <td>1.000000e+00</td>\n",
       "      <td>1.000000</td>\n",
       "      <td>1.000000</td>\n",
       "      <td>1.000000e+00</td>\n",
       "      <td>1.000000e+00</td>\n",
       "      <td>1.000000e+00</td>\n",
       "      <td>1.000000e+00</td>\n",
       "      <td>1.000000e+00</td>\n",
       "      <td>1.000000e+00</td>\n",
       "      <td>1.000000e+00</td>\n",
       "      <td>...</td>\n",
       "      <td>1.000000e+00</td>\n",
       "      <td>1.000000e+00</td>\n",
       "      <td>1.000000</td>\n",
       "      <td>1.000000</td>\n",
       "      <td>1.000000</td>\n",
       "      <td>1.000000</td>\n",
       "      <td>1.000000</td>\n",
       "      <td>1.000000</td>\n",
       "      <td>1.000000</td>\n",
       "      <td>1.000000</td>\n",
       "    </tr>\n",
       "    <tr>\n",
       "      <th>min</th>\n",
       "      <td>-1.693030e+00</td>\n",
       "      <td>-0.294245</td>\n",
       "      <td>-0.992395</td>\n",
       "      <td>-9.483171e-01</td>\n",
       "      <td>-9.483171e-01</td>\n",
       "      <td>-4.775465e-01</td>\n",
       "      <td>-5.047379e-01</td>\n",
       "      <td>-1.837230e+00</td>\n",
       "      <td>-1.837230e+00</td>\n",
       "      <td>-1.802644e+00</td>\n",
       "      <td>...</td>\n",
       "      <td>-1.665645e+00</td>\n",
       "      <td>-1.665645e+00</td>\n",
       "      <td>-2.174356</td>\n",
       "      <td>-2.374246</td>\n",
       "      <td>-2.424250</td>\n",
       "      <td>-2.025347</td>\n",
       "      <td>-1.781098</td>\n",
       "      <td>-2.335330</td>\n",
       "      <td>-2.019293</td>\n",
       "      <td>-0.992395</td>\n",
       "    </tr>\n",
       "    <tr>\n",
       "      <th>25%</th>\n",
       "      <td>-8.465149e-01</td>\n",
       "      <td>-0.294245</td>\n",
       "      <td>-0.992395</td>\n",
       "      <td>-9.483171e-01</td>\n",
       "      <td>-9.483171e-01</td>\n",
       "      <td>-4.775465e-01</td>\n",
       "      <td>-5.047379e-01</td>\n",
       "      <td>-7.467876e-01</td>\n",
       "      <td>-7.467876e-01</td>\n",
       "      <td>-8.139360e-01</td>\n",
       "      <td>...</td>\n",
       "      <td>-7.935717e-01</td>\n",
       "      <td>-7.935717e-01</td>\n",
       "      <td>-0.840092</td>\n",
       "      <td>-0.791415</td>\n",
       "      <td>-0.793653</td>\n",
       "      <td>-0.747450</td>\n",
       "      <td>-1.017770</td>\n",
       "      <td>-0.667237</td>\n",
       "      <td>-0.953555</td>\n",
       "      <td>-0.992395</td>\n",
       "    </tr>\n",
       "    <tr>\n",
       "      <th>50%</th>\n",
       "      <td>0.000000e+00</td>\n",
       "      <td>-0.294245</td>\n",
       "      <td>0.000000</td>\n",
       "      <td>-4.812355e-01</td>\n",
       "      <td>-4.812355e-01</td>\n",
       "      <td>-4.775465e-01</td>\n",
       "      <td>-5.047379e-01</td>\n",
       "      <td>-2.560887e-01</td>\n",
       "      <td>-2.560887e-01</td>\n",
       "      <td>-1.547976e-01</td>\n",
       "      <td>...</td>\n",
       "      <td>-3.318855e-01</td>\n",
       "      <td>-3.318855e-01</td>\n",
       "      <td>0.000000</td>\n",
       "      <td>0.000000</td>\n",
       "      <td>0.000000</td>\n",
       "      <td>0.000000</td>\n",
       "      <td>0.000000</td>\n",
       "      <td>0.000000</td>\n",
       "      <td>0.000000</td>\n",
       "      <td>0.000000</td>\n",
       "    </tr>\n",
       "    <tr>\n",
       "      <th>75%</th>\n",
       "      <td>8.465149e-01</td>\n",
       "      <td>-0.294245</td>\n",
       "      <td>0.992395</td>\n",
       "      <td>9.200091e-01</td>\n",
       "      <td>9.200091e-01</td>\n",
       "      <td>2.554319e-01</td>\n",
       "      <td>2.194512e-01</td>\n",
       "      <td>8.616145e-01</td>\n",
       "      <td>8.616145e-01</td>\n",
       "      <td>4.219484e-01</td>\n",
       "      <td>...</td>\n",
       "      <td>7.710314e-01</td>\n",
       "      <td>7.710314e-01</td>\n",
       "      <td>0.840092</td>\n",
       "      <td>0.791415</td>\n",
       "      <td>0.793653</td>\n",
       "      <td>0.747450</td>\n",
       "      <td>1.017770</td>\n",
       "      <td>0.667237</td>\n",
       "      <td>0.953555</td>\n",
       "      <td>0.992395</td>\n",
       "    </tr>\n",
       "    <tr>\n",
       "      <th>max</th>\n",
       "      <td>1.693030e+00</td>\n",
       "      <td>4.560797</td>\n",
       "      <td>0.992395</td>\n",
       "      <td>2.321254e+00</td>\n",
       "      <td>2.321254e+00</td>\n",
       "      <td>6.119259e+00</td>\n",
       "      <td>6.012964e+00</td>\n",
       "      <td>2.088362e+00</td>\n",
       "      <td>2.088362e+00</td>\n",
       "      <td>3.470463e+00</td>\n",
       "      <td>...</td>\n",
       "      <td>2.027844e+00</td>\n",
       "      <td>2.027844e+00</td>\n",
       "      <td>2.174356</td>\n",
       "      <td>2.374246</td>\n",
       "      <td>2.424250</td>\n",
       "      <td>2.025347</td>\n",
       "      <td>1.781098</td>\n",
       "      <td>2.335330</td>\n",
       "      <td>2.019293</td>\n",
       "      <td>0.992395</td>\n",
       "    </tr>\n",
       "  </tbody>\n",
       "</table>\n",
       "<p>8 rows × 29 columns</p>\n",
       "</div>"
      ],
      "text/plain": [
       "             gameNo  matchStage  tossResult     alloutRec     alloutGiv  \\\n",
       "count  6.600000e+01   66.000000   66.000000  6.600000e+01  6.600000e+01   \n",
       "mean   3.364312e-18    0.000000    0.000000 -3.364312e-18  4.809915e-18   \n",
       "std    1.000000e+00    1.000000    1.000000  1.000000e+00  1.000000e+00   \n",
       "min   -1.693030e+00   -0.294245   -0.992395 -9.483171e-01 -9.483171e-01   \n",
       "25%   -8.465149e-01   -0.294245   -0.992395 -9.483171e-01 -9.483171e-01   \n",
       "50%    0.000000e+00   -0.294245    0.000000 -4.812355e-01 -4.812355e-01   \n",
       "75%    8.465149e-01   -0.294245    0.992395  9.200091e-01  9.200091e-01   \n",
       "max    1.693030e+00    4.560797    0.992395  2.321254e+00  2.321254e+00   \n",
       "\n",
       "         sTackleRec    sTackleGiv  touchPntsRec  touchPntsGiv  bonusPntsRec  \\\n",
       "count  6.600000e+01  6.600000e+01  6.600000e+01  6.600000e+01  6.600000e+01   \n",
       "mean   1.345725e-17 -4.205390e-17  6.728624e-17  7.569702e-17 -1.892426e-17   \n",
       "std    1.000000e+00  1.000000e+00  1.000000e+00  1.000000e+00  1.000000e+00   \n",
       "min   -4.775465e-01 -5.047379e-01 -1.837230e+00 -1.837230e+00 -1.802644e+00   \n",
       "25%   -4.775465e-01 -5.047379e-01 -7.467876e-01 -7.467876e-01 -8.139360e-01   \n",
       "50%   -4.775465e-01 -5.047379e-01 -2.560887e-01 -2.560887e-01 -1.547976e-01   \n",
       "75%    2.554319e-01  2.194512e-01  8.616145e-01  8.616145e-01  4.219484e-01   \n",
       "max    6.119259e+00  6.012964e+00  2.088362e+00  2.088362e+00  3.470463e+00   \n",
       "\n",
       "          ...       totalPntsRec  totalPntsGiv  touchPntsDiff  bonusPntsDiff  \\\n",
       "count     ...       6.600000e+01  6.600000e+01      66.000000      66.000000   \n",
       "mean      ...       4.878253e-17  4.878253e-17       0.000000       0.000000   \n",
       "std       ...       1.000000e+00  1.000000e+00       1.000000       1.000000   \n",
       "min       ...      -1.665645e+00 -1.665645e+00      -2.174356      -2.374246   \n",
       "25%       ...      -7.935717e-01 -7.935717e-01      -0.840092      -0.791415   \n",
       "50%       ...      -3.318855e-01 -3.318855e-01       0.000000       0.000000   \n",
       "75%       ...       7.710314e-01  7.710314e-01       0.840092       0.791415   \n",
       "max       ...       2.027844e+00  2.027844e+00       2.174356       2.374246   \n",
       "\n",
       "       raidPntsDiff  tacklePntsDiff  alloutPntsDiff  extraPntsDiff  \\\n",
       "count     66.000000       66.000000       66.000000      66.000000   \n",
       "mean       0.000000        0.000000        0.000000       0.000000   \n",
       "std        1.000000        1.000000        1.000000       1.000000   \n",
       "min       -2.424250       -2.025347       -1.781098      -2.335330   \n",
       "25%       -0.793653       -0.747450       -1.017770      -0.667237   \n",
       "50%        0.000000        0.000000        0.000000       0.000000   \n",
       "75%        0.793653        0.747450        1.017770       0.667237   \n",
       "max        2.424250        2.025347        1.781098       2.335330   \n",
       "\n",
       "       totalPntsDiff  matchResult  \n",
       "count      66.000000    66.000000  \n",
       "mean        0.000000     0.000000  \n",
       "std         1.000000     1.000000  \n",
       "min        -2.019293    -0.992395  \n",
       "25%        -0.953555    -0.992395  \n",
       "50%         0.000000     0.000000  \n",
       "75%         0.953555     0.992395  \n",
       "max         2.019293     0.992395  \n",
       "\n",
       "[8 rows x 29 columns]"
      ]
     },
     "execution_count": 54,
     "metadata": {},
     "output_type": "execute_result"
    }
   ],
   "source": [
    "data_numerical = (data_numerical - data_numerical.mean(axis = 0))/data_numerical.std(axis = 0)\n",
    "data_numerical.describe()"
   ]
  },
  {
   "cell_type": "markdown",
   "metadata": {},
   "source": [
    "### Соединяем в одну таблицу"
   ]
  },
  {
   "cell_type": "code",
   "execution_count": 55,
   "metadata": {
    "collapsed": false
   },
   "outputs": [
    {
     "name": "stdout",
     "output_type": "stream",
     "text": [
      "(66, 53)\n"
     ]
    }
   ],
   "source": [
    "data = pd.concat((data_numerical, data_nonbinary, data[binary_columns]), axis = 1)\n",
    "print(data.shape)"
   ]
  },
  {
   "cell_type": "code",
   "execution_count": 56,
   "metadata": {
    "collapsed": false
   },
   "outputs": [
    {
     "data": {
      "text/html": [
       "<div>\n",
       "<table border=\"1\" class=\"dataframe\">\n",
       "  <thead>\n",
       "    <tr style=\"text-align: right;\">\n",
       "      <th></th>\n",
       "      <th>gameNo</th>\n",
       "      <th>matchStage</th>\n",
       "      <th>tossResult</th>\n",
       "      <th>alloutRec</th>\n",
       "      <th>alloutGiv</th>\n",
       "      <th>sTackleRec</th>\n",
       "      <th>sTackleGiv</th>\n",
       "      <th>touchPntsRec</th>\n",
       "      <th>touchPntsGiv</th>\n",
       "      <th>bonusPntsRec</th>\n",
       "      <th>...</th>\n",
       "      <th>oppTeam_BAN</th>\n",
       "      <th>oppTeam_ENG</th>\n",
       "      <th>oppTeam_IND</th>\n",
       "      <th>oppTeam_IRN</th>\n",
       "      <th>oppTeam_JPN</th>\n",
       "      <th>oppTeam_KEN</th>\n",
       "      <th>oppTeam_KOR</th>\n",
       "      <th>oppTeam_POL</th>\n",
       "      <th>oppTeam_THA</th>\n",
       "      <th>oppTeam_USA</th>\n",
       "    </tr>\n",
       "  </thead>\n",
       "  <tbody>\n",
       "    <tr>\n",
       "      <th>count</th>\n",
       "      <td>6.600000e+01</td>\n",
       "      <td>66.000000</td>\n",
       "      <td>66.000000</td>\n",
       "      <td>6.600000e+01</td>\n",
       "      <td>6.600000e+01</td>\n",
       "      <td>6.600000e+01</td>\n",
       "      <td>6.600000e+01</td>\n",
       "      <td>6.600000e+01</td>\n",
       "      <td>6.600000e+01</td>\n",
       "      <td>6.600000e+01</td>\n",
       "      <td>...</td>\n",
       "      <td>66.000000</td>\n",
       "      <td>66.000000</td>\n",
       "      <td>66.000000</td>\n",
       "      <td>66.000000</td>\n",
       "      <td>66.000000</td>\n",
       "      <td>66.000000</td>\n",
       "      <td>66.000000</td>\n",
       "      <td>66.000000</td>\n",
       "      <td>66.000000</td>\n",
       "      <td>66.000000</td>\n",
       "    </tr>\n",
       "    <tr>\n",
       "      <th>mean</th>\n",
       "      <td>3.364312e-18</td>\n",
       "      <td>0.000000</td>\n",
       "      <td>0.000000</td>\n",
       "      <td>-3.364312e-18</td>\n",
       "      <td>4.809915e-18</td>\n",
       "      <td>1.345725e-17</td>\n",
       "      <td>-4.205390e-17</td>\n",
       "      <td>6.728624e-17</td>\n",
       "      <td>7.569702e-17</td>\n",
       "      <td>-1.892426e-17</td>\n",
       "      <td>...</td>\n",
       "      <td>0.075758</td>\n",
       "      <td>0.075758</td>\n",
       "      <td>0.106061</td>\n",
       "      <td>0.106061</td>\n",
       "      <td>0.075758</td>\n",
       "      <td>0.075758</td>\n",
       "      <td>0.090909</td>\n",
       "      <td>0.075758</td>\n",
       "      <td>0.090909</td>\n",
       "      <td>0.075758</td>\n",
       "    </tr>\n",
       "    <tr>\n",
       "      <th>std</th>\n",
       "      <td>1.000000e+00</td>\n",
       "      <td>1.000000</td>\n",
       "      <td>1.000000</td>\n",
       "      <td>1.000000e+00</td>\n",
       "      <td>1.000000e+00</td>\n",
       "      <td>1.000000e+00</td>\n",
       "      <td>1.000000e+00</td>\n",
       "      <td>1.000000e+00</td>\n",
       "      <td>1.000000e+00</td>\n",
       "      <td>1.000000e+00</td>\n",
       "      <td>...</td>\n",
       "      <td>0.266638</td>\n",
       "      <td>0.266638</td>\n",
       "      <td>0.310275</td>\n",
       "      <td>0.310275</td>\n",
       "      <td>0.266638</td>\n",
       "      <td>0.266638</td>\n",
       "      <td>0.289683</td>\n",
       "      <td>0.266638</td>\n",
       "      <td>0.289683</td>\n",
       "      <td>0.266638</td>\n",
       "    </tr>\n",
       "    <tr>\n",
       "      <th>min</th>\n",
       "      <td>-1.693030e+00</td>\n",
       "      <td>-0.294245</td>\n",
       "      <td>-0.992395</td>\n",
       "      <td>-9.483171e-01</td>\n",
       "      <td>-9.483171e-01</td>\n",
       "      <td>-4.775465e-01</td>\n",
       "      <td>-5.047379e-01</td>\n",
       "      <td>-1.837230e+00</td>\n",
       "      <td>-1.837230e+00</td>\n",
       "      <td>-1.802644e+00</td>\n",
       "      <td>...</td>\n",
       "      <td>0.000000</td>\n",
       "      <td>0.000000</td>\n",
       "      <td>0.000000</td>\n",
       "      <td>0.000000</td>\n",
       "      <td>0.000000</td>\n",
       "      <td>0.000000</td>\n",
       "      <td>0.000000</td>\n",
       "      <td>0.000000</td>\n",
       "      <td>0.000000</td>\n",
       "      <td>0.000000</td>\n",
       "    </tr>\n",
       "    <tr>\n",
       "      <th>25%</th>\n",
       "      <td>-8.465149e-01</td>\n",
       "      <td>-0.294245</td>\n",
       "      <td>-0.992395</td>\n",
       "      <td>-9.483171e-01</td>\n",
       "      <td>-9.483171e-01</td>\n",
       "      <td>-4.775465e-01</td>\n",
       "      <td>-5.047379e-01</td>\n",
       "      <td>-7.467876e-01</td>\n",
       "      <td>-7.467876e-01</td>\n",
       "      <td>-8.139360e-01</td>\n",
       "      <td>...</td>\n",
       "      <td>0.000000</td>\n",
       "      <td>0.000000</td>\n",
       "      <td>0.000000</td>\n",
       "      <td>0.000000</td>\n",
       "      <td>0.000000</td>\n",
       "      <td>0.000000</td>\n",
       "      <td>0.000000</td>\n",
       "      <td>0.000000</td>\n",
       "      <td>0.000000</td>\n",
       "      <td>0.000000</td>\n",
       "    </tr>\n",
       "    <tr>\n",
       "      <th>50%</th>\n",
       "      <td>0.000000e+00</td>\n",
       "      <td>-0.294245</td>\n",
       "      <td>0.000000</td>\n",
       "      <td>-4.812355e-01</td>\n",
       "      <td>-4.812355e-01</td>\n",
       "      <td>-4.775465e-01</td>\n",
       "      <td>-5.047379e-01</td>\n",
       "      <td>-2.560887e-01</td>\n",
       "      <td>-2.560887e-01</td>\n",
       "      <td>-1.547976e-01</td>\n",
       "      <td>...</td>\n",
       "      <td>0.000000</td>\n",
       "      <td>0.000000</td>\n",
       "      <td>0.000000</td>\n",
       "      <td>0.000000</td>\n",
       "      <td>0.000000</td>\n",
       "      <td>0.000000</td>\n",
       "      <td>0.000000</td>\n",
       "      <td>0.000000</td>\n",
       "      <td>0.000000</td>\n",
       "      <td>0.000000</td>\n",
       "    </tr>\n",
       "    <tr>\n",
       "      <th>75%</th>\n",
       "      <td>8.465149e-01</td>\n",
       "      <td>-0.294245</td>\n",
       "      <td>0.992395</td>\n",
       "      <td>9.200091e-01</td>\n",
       "      <td>9.200091e-01</td>\n",
       "      <td>2.554319e-01</td>\n",
       "      <td>2.194512e-01</td>\n",
       "      <td>8.616145e-01</td>\n",
       "      <td>8.616145e-01</td>\n",
       "      <td>4.219484e-01</td>\n",
       "      <td>...</td>\n",
       "      <td>0.000000</td>\n",
       "      <td>0.000000</td>\n",
       "      <td>0.000000</td>\n",
       "      <td>0.000000</td>\n",
       "      <td>0.000000</td>\n",
       "      <td>0.000000</td>\n",
       "      <td>0.000000</td>\n",
       "      <td>0.000000</td>\n",
       "      <td>0.000000</td>\n",
       "      <td>0.000000</td>\n",
       "    </tr>\n",
       "    <tr>\n",
       "      <th>max</th>\n",
       "      <td>1.693030e+00</td>\n",
       "      <td>4.560797</td>\n",
       "      <td>0.992395</td>\n",
       "      <td>2.321254e+00</td>\n",
       "      <td>2.321254e+00</td>\n",
       "      <td>6.119259e+00</td>\n",
       "      <td>6.012964e+00</td>\n",
       "      <td>2.088362e+00</td>\n",
       "      <td>2.088362e+00</td>\n",
       "      <td>3.470463e+00</td>\n",
       "      <td>...</td>\n",
       "      <td>1.000000</td>\n",
       "      <td>1.000000</td>\n",
       "      <td>1.000000</td>\n",
       "      <td>1.000000</td>\n",
       "      <td>1.000000</td>\n",
       "      <td>1.000000</td>\n",
       "      <td>1.000000</td>\n",
       "      <td>1.000000</td>\n",
       "      <td>1.000000</td>\n",
       "      <td>1.000000</td>\n",
       "    </tr>\n",
       "  </tbody>\n",
       "</table>\n",
       "<p>8 rows × 53 columns</p>\n",
       "</div>"
      ],
      "text/plain": [
       "             gameNo  matchStage  tossResult     alloutRec     alloutGiv  \\\n",
       "count  6.600000e+01   66.000000   66.000000  6.600000e+01  6.600000e+01   \n",
       "mean   3.364312e-18    0.000000    0.000000 -3.364312e-18  4.809915e-18   \n",
       "std    1.000000e+00    1.000000    1.000000  1.000000e+00  1.000000e+00   \n",
       "min   -1.693030e+00   -0.294245   -0.992395 -9.483171e-01 -9.483171e-01   \n",
       "25%   -8.465149e-01   -0.294245   -0.992395 -9.483171e-01 -9.483171e-01   \n",
       "50%    0.000000e+00   -0.294245    0.000000 -4.812355e-01 -4.812355e-01   \n",
       "75%    8.465149e-01   -0.294245    0.992395  9.200091e-01  9.200091e-01   \n",
       "max    1.693030e+00    4.560797    0.992395  2.321254e+00  2.321254e+00   \n",
       "\n",
       "         sTackleRec    sTackleGiv  touchPntsRec  touchPntsGiv  bonusPntsRec  \\\n",
       "count  6.600000e+01  6.600000e+01  6.600000e+01  6.600000e+01  6.600000e+01   \n",
       "mean   1.345725e-17 -4.205390e-17  6.728624e-17  7.569702e-17 -1.892426e-17   \n",
       "std    1.000000e+00  1.000000e+00  1.000000e+00  1.000000e+00  1.000000e+00   \n",
       "min   -4.775465e-01 -5.047379e-01 -1.837230e+00 -1.837230e+00 -1.802644e+00   \n",
       "25%   -4.775465e-01 -5.047379e-01 -7.467876e-01 -7.467876e-01 -8.139360e-01   \n",
       "50%   -4.775465e-01 -5.047379e-01 -2.560887e-01 -2.560887e-01 -1.547976e-01   \n",
       "75%    2.554319e-01  2.194512e-01  8.616145e-01  8.616145e-01  4.219484e-01   \n",
       "max    6.119259e+00  6.012964e+00  2.088362e+00  2.088362e+00  3.470463e+00   \n",
       "\n",
       "          ...       oppTeam_BAN  oppTeam_ENG  oppTeam_IND  oppTeam_IRN  \\\n",
       "count     ...         66.000000    66.000000    66.000000    66.000000   \n",
       "mean      ...          0.075758     0.075758     0.106061     0.106061   \n",
       "std       ...          0.266638     0.266638     0.310275     0.310275   \n",
       "min       ...          0.000000     0.000000     0.000000     0.000000   \n",
       "25%       ...          0.000000     0.000000     0.000000     0.000000   \n",
       "50%       ...          0.000000     0.000000     0.000000     0.000000   \n",
       "75%       ...          0.000000     0.000000     0.000000     0.000000   \n",
       "max       ...          1.000000     1.000000     1.000000     1.000000   \n",
       "\n",
       "       oppTeam_JPN  oppTeam_KEN  oppTeam_KOR  oppTeam_POL  oppTeam_THA  \\\n",
       "count    66.000000    66.000000    66.000000    66.000000    66.000000   \n",
       "mean      0.075758     0.075758     0.090909     0.075758     0.090909   \n",
       "std       0.266638     0.266638     0.289683     0.266638     0.289683   \n",
       "min       0.000000     0.000000     0.000000     0.000000     0.000000   \n",
       "25%       0.000000     0.000000     0.000000     0.000000     0.000000   \n",
       "50%       0.000000     0.000000     0.000000     0.000000     0.000000   \n",
       "75%       0.000000     0.000000     0.000000     0.000000     0.000000   \n",
       "max       1.000000     1.000000     1.000000     1.000000     1.000000   \n",
       "\n",
       "       oppTeam_USA  \n",
       "count    66.000000  \n",
       "mean      0.075758  \n",
       "std       0.266638  \n",
       "min       0.000000  \n",
       "25%       0.000000  \n",
       "50%       0.000000  \n",
       "75%       0.000000  \n",
       "max       1.000000  \n",
       "\n",
       "[8 rows x 53 columns]"
      ]
     },
     "execution_count": 56,
     "metadata": {},
     "output_type": "execute_result"
    }
   ],
   "source": [
    "data.describe()"
   ]
  },
  {
   "cell_type": "markdown",
   "metadata": {},
   "source": [
    "### X y"
   ]
  },
  {
   "cell_type": "markdown",
   "metadata": {},
   "source": [
    "Будем предсказывать результат игры "
   ]
  },
  {
   "cell_type": "code",
   "execution_count": 57,
   "metadata": {
    "collapsed": false
   },
   "outputs": [
    {
     "data": {
      "text/plain": [
       "Index(['gameNo', 'matchStage', 'tossResult', 'alloutRec', 'alloutGiv',\n",
       "       'sTackleRec', 'sTackleGiv', 'touchPntsRec', 'touchPntsGiv',\n",
       "       'bonusPntsRec', 'bonusPntsGiv', 'raidPntsRec', 'raidPntsGiv',\n",
       "       'tacklePntsRec', 'tacklePntsGiv', 'alloutPntsRec', 'alloutPntsGiv',\n",
       "       'extraPntsRec', 'extraPntsGiv', 'totalPntsRec', 'totalPntsGiv',\n",
       "       'touchPntsDiff', 'bonusPntsDiff', 'raidPntsDiff', 'tacklePntsDiff',\n",
       "       'alloutPntsDiff', 'extraPntsDiff', 'totalPntsDiff', 'matchResult',\n",
       "       'team_ARG', 'team_AUS', 'team_BAN', 'team_ENG', 'team_IND', 'team_IRN',\n",
       "       'team_JPN', 'team_KEN', 'team_KOR', 'team_POL', 'team_THA', 'team_USA',\n",
       "       'oppTeam_ARG', 'oppTeam_AUS', 'oppTeam_BAN', 'oppTeam_ENG',\n",
       "       'oppTeam_IND', 'oppTeam_IRN', 'oppTeam_JPN', 'oppTeam_KEN',\n",
       "       'oppTeam_KOR', 'oppTeam_POL', 'oppTeam_THA', 'oppTeam_USA'],\n",
       "      dtype='object')"
      ]
     },
     "execution_count": 57,
     "metadata": {},
     "output_type": "execute_result"
    }
   ],
   "source": [
    "data.columns"
   ]
  },
  {
   "cell_type": "code",
   "execution_count": 58,
   "metadata": {
    "collapsed": false
   },
   "outputs": [],
   "source": [
    "y = np.array([1 if it > 0 else 0 for it in data['matchResult']])"
   ]
  },
  {
   "cell_type": "code",
   "execution_count": 59,
   "metadata": {
    "collapsed": false
   },
   "outputs": [],
   "source": [
    "X = data\n",
    "#y = data['matchResult']\n",
    "feature_names = X.columns\n"
   ]
  },
  {
   "cell_type": "code",
   "execution_count": 60,
   "metadata": {
    "collapsed": false
   },
   "outputs": [
    {
     "data": {
      "text/plain": [
       "pandas.indexes.base.Index"
      ]
     },
     "execution_count": 60,
     "metadata": {},
     "output_type": "execute_result"
    }
   ],
   "source": [
    "\n",
    "type(feature_names)"
   ]
  },
  {
   "cell_type": "code",
   "execution_count": 61,
   "metadata": {
    "collapsed": false
   },
   "outputs": [
    {
     "data": {
      "text/plain": [
       "Index(['gameNo', 'matchStage', 'tossResult', 'alloutRec', 'alloutGiv',\n",
       "       'sTackleRec', 'sTackleGiv', 'touchPntsRec', 'touchPntsGiv',\n",
       "       'bonusPntsRec', 'bonusPntsGiv', 'raidPntsRec', 'raidPntsGiv',\n",
       "       'tacklePntsRec', 'tacklePntsGiv', 'alloutPntsRec', 'alloutPntsGiv',\n",
       "       'extraPntsRec', 'extraPntsGiv', 'totalPntsRec', 'totalPntsGiv',\n",
       "       'touchPntsDiff', 'bonusPntsDiff', 'raidPntsDiff', 'tacklePntsDiff',\n",
       "       'alloutPntsDiff', 'extraPntsDiff', 'totalPntsDiff', 'matchResult',\n",
       "       'team_ARG', 'team_AUS', 'team_BAN', 'team_ENG', 'team_IND', 'team_IRN',\n",
       "       'team_JPN', 'team_KEN', 'team_KOR', 'team_POL', 'team_THA', 'team_USA',\n",
       "       'oppTeam_ARG', 'oppTeam_AUS', 'oppTeam_BAN', 'oppTeam_ENG',\n",
       "       'oppTeam_IND', 'oppTeam_IRN', 'oppTeam_JPN', 'oppTeam_KEN',\n",
       "       'oppTeam_KOR', 'oppTeam_POL', 'oppTeam_THA', 'oppTeam_USA'],\n",
       "      dtype='object')"
      ]
     },
     "execution_count": 61,
     "metadata": {},
     "output_type": "execute_result"
    }
   ],
   "source": [
    "feature_names"
   ]
  },
  {
   "cell_type": "code",
   "execution_count": 62,
   "metadata": {
    "collapsed": false
   },
   "outputs": [
    {
     "name": "stdout",
     "output_type": "stream",
     "text": [
      "(66, 53)\n",
      "(66,)\n"
     ]
    }
   ],
   "source": [
    "print(X.shape)\n",
    "print(y.shape)\n",
    "N, d = X.shape"
   ]
  },
  {
   "cell_type": "code",
   "execution_count": 63,
   "metadata": {
    "collapsed": false
   },
   "outputs": [
    {
     "data": {
      "text/plain": [
       "pandas.core.frame.DataFrame"
      ]
     },
     "execution_count": 63,
     "metadata": {},
     "output_type": "execute_result"
    }
   ],
   "source": [
    "type(X)"
   ]
  },
  {
   "cell_type": "code",
   "execution_count": 64,
   "metadata": {
    "collapsed": false
   },
   "outputs": [
    {
     "data": {
      "text/plain": [
       "numpy.ndarray"
      ]
     },
     "execution_count": 64,
     "metadata": {},
     "output_type": "execute_result"
    }
   ],
   "source": [
    "type(y)"
   ]
  },
  {
   "cell_type": "code",
   "execution_count": 65,
   "metadata": {
    "collapsed": false
   },
   "outputs": [
    {
     "name": "stdout",
     "output_type": "stream",
     "text": [
      "46 20\n"
     ]
    }
   ],
   "source": [
    "from sklearn.model_selection import train_test_split\n",
    "X_train, X_test, y_train, y_test = train_test_split(X, y, test_size = 0.3, random_state = 42)\n",
    "\n",
    "N_train, _ = X_train.shape \n",
    "N_test,  _ = X_test.shape \n",
    "\n",
    "print(N_train, N_test)"
   ]
  },
  {
   "cell_type": "markdown",
   "metadata": {},
   "source": [
    "#  KNN"
   ]
  },
  {
   "cell_type": "code",
   "execution_count": 66,
   "metadata": {
    "collapsed": false
   },
   "outputs": [],
   "source": [
    "from sklearn.neighbors import KNeighborsClassifier"
   ]
  },
  {
   "cell_type": "code",
   "execution_count": 67,
   "metadata": {
    "collapsed": false
   },
   "outputs": [
    {
     "data": {
      "text/plain": [
       "KNeighborsClassifier(algorithm='auto', leaf_size=30, metric='minkowski',\n",
       "           metric_params=None, n_jobs=1, n_neighbors=3, p=2,\n",
       "           weights='uniform')"
      ]
     },
     "execution_count": 67,
     "metadata": {},
     "output_type": "execute_result"
    }
   ],
   "source": [
    "knn = KNeighborsClassifier(n_neighbors = 3)\n",
    "knn.fit(X_train, y_train)"
   ]
  },
  {
   "cell_type": "code",
   "execution_count": 68,
   "metadata": {
    "collapsed": false
   },
   "outputs": [
    {
     "data": {
      "text/plain": [
       "KNeighborsClassifier(algorithm='auto', leaf_size=30, metric='minkowski',\n",
       "           metric_params=None, n_jobs=1, n_neighbors=3, p=2,\n",
       "           weights='uniform')"
      ]
     },
     "execution_count": 68,
     "metadata": {},
     "output_type": "execute_result"
    }
   ],
   "source": [
    "knn"
   ]
  },
  {
   "cell_type": "markdown",
   "metadata": {},
   "source": [
    "Вычислим значение ошибки "
   ]
  },
  {
   "cell_type": "code",
   "execution_count": 69,
   "metadata": {
    "collapsed": false
   },
   "outputs": [
    {
     "name": "stdout",
     "output_type": "stream",
     "text": [
      "0.0217391304348 0.05\n"
     ]
    }
   ],
   "source": [
    "y_train_predict = knn.predict(X_train)\n",
    "y_test_predict = knn.predict(X_test)\n",
    "\n",
    "err_train = np.mean(y_train != y_train_predict)\n",
    "err_test  = np.mean(y_test  != y_test_predict)\n",
    "\n",
    "print(err_train, err_test)"
   ]
  },
  {
   "cell_type": "markdown",
   "metadata": {},
   "source": [
    "Значение получилось достатчно точное, попробуем другой способ подсчета ошибки"
   ]
  },
  {
   "cell_type": "code",
   "execution_count": 70,
   "metadata": {
    "collapsed": false
   },
   "outputs": [
    {
     "data": {
      "text/plain": [
       "0.050000000000000044"
      ]
     },
     "execution_count": 70,
     "metadata": {},
     "output_type": "execute_result"
    }
   ],
   "source": [
    "err_test = 1 - knn.score(X_test, y_test)\n",
    "err_test"
   ]
  },
  {
   "cell_type": "code",
   "execution_count": 71,
   "metadata": {
    "collapsed": false
   },
   "outputs": [
    {
     "name": "stdout",
     "output_type": "stream",
     "text": [
      "[[10  1]\n",
      " [ 0  9]]\n"
     ]
    }
   ],
   "source": [
    "from sklearn.metrics import confusion_matrix\n",
    "\n",
    "print(confusion_matrix(y_test, y_test_predict))"
   ]
  },
  {
   "cell_type": "markdown",
   "metadata": {},
   "source": [
    "#### Подбор параметров "
   ]
  },
  {
   "cell_type": "code",
   "execution_count": 72,
   "metadata": {
    "collapsed": false
   },
   "outputs": [
    {
     "name": "stdout",
     "output_type": "stream",
     "text": [
      "0.0 7\n"
     ]
    }
   ],
   "source": [
    "from sklearn.model_selection import GridSearchCV\n",
    "nnb = [1, 3, 5, 7, 10, 15, 20, 25, 30, 35]\n",
    "knn = KNeighborsClassifier()\n",
    "grid = GridSearchCV(knn, param_grid = {'n_neighbors': nnb}, cv=10)\n",
    "grid.fit(X_train, y_train)\n",
    "\n",
    "best_cv_err = 1 - grid.best_score_\n",
    "best_n_neighbors = grid.best_estimator_.n_neighbors\n",
    "print(best_cv_err, best_n_neighbors)\n"
   ]
  },
  {
   "cell_type": "code",
   "execution_count": 73,
   "metadata": {
    "collapsed": false
   },
   "outputs": [
    {
     "name": "stdout",
     "output_type": "stream",
     "text": [
      "0.0 0.0\n"
     ]
    }
   ],
   "source": [
    "\n",
    "knn = KNeighborsClassifier(n_neighbors = best_n_neighbors).fit(X_train, y_train)\n",
    "\n",
    "err_train = np.mean(y_train != knn.predict(X_train))\n",
    "err_test  = np.mean(y_test  != knn.predict(X_test))\n",
    "\n",
    "print(err_train, err_test)"
   ]
  },
  {
   "cell_type": "markdown",
   "metadata": {},
   "source": [
    "# Home Work № 2"
   ]
  },
  {
   "cell_type": "markdown",
   "metadata": {},
   "source": [
    "Создаем тестовую выборку для обучения MLP."
   ]
  },
  {
   "cell_type": "code",
   "execution_count": 74,
   "metadata": {
    "collapsed": true
   },
   "outputs": [],
   "source": [
    "from sklearn.model_selection import train_test_split\n",
    "X_train, X_test, y_train, y_test = train_test_split(X, y, test_size = 0.25, random_state = 6)\n",
    "N_test, _ = X_test.shape"
   ]
  },
  {
   "cell_type": "markdown",
   "metadata": {},
   "source": [
    "Сначала будем тестировать с одним слоев и количеством нейронов равным 7."
   ]
  },
  {
   "cell_type": "code",
   "execution_count": 75,
   "metadata": {
    "collapsed": false
   },
   "outputs": [
    {
     "data": {
      "text/plain": [
       "MLPClassifier(activation='logistic', alpha=0.0001, batch_size='auto',\n",
       "       beta_1=0.9, beta_2=0.999, early_stopping=False, epsilon=1e-08,\n",
       "       hidden_layer_sizes=7, learning_rate='constant',\n",
       "       learning_rate_init=0.001, max_iter=200, momentum=0.9,\n",
       "       nesterovs_momentum=True, power_t=0.5, random_state=5, shuffle=True,\n",
       "       solver='lbfgs', tol=0.0001, validation_fraction=0.1, verbose=False,\n",
       "       warm_start=False)"
      ]
     },
     "execution_count": 75,
     "metadata": {},
     "output_type": "execute_result"
    }
   ],
   "source": [
    "from sklearn.neural_network import MLPClassifier\n",
    "mlp_model = MLPClassifier(hidden_layer_sizes = (7), solver = 'lbfgs', activation = 'logistic', random_state = 5)\n",
    "mlp_model.fit(X_train, y_train)"
   ]
  },
  {
   "cell_type": "code",
   "execution_count": 76,
   "metadata": {
    "collapsed": true
   },
   "outputs": [],
   "source": [
    "y_train_pred = mlp_model.predict(X_train)\n",
    "y_test_pred = mlp_model.predict(X_test)"
   ]
  },
  {
   "cell_type": "markdown",
   "metadata": {},
   "source": [
    "Сравним ошибку на обучающей и на тестирующей выборке:"
   ]
  },
  {
   "cell_type": "code",
   "execution_count": 77,
   "metadata": {
    "collapsed": false
   },
   "outputs": [
    {
     "name": "stdout",
     "output_type": "stream",
     "text": [
      "0.0 0.0\n"
     ]
    }
   ],
   "source": [
    "print(np.mean(y_train != y_train_pred), np.mean(y_test != y_test_pred))"
   ]
  },
  {
   "cell_type": "markdown",
   "metadata": {},
   "source": [
    "Заметили, что переобучения не наблюдается. Проследим за изменениями при увеличении числа нейронов в однолойной сети.\n",
    "Увеличим их число до 15"
   ]
  },
  {
   "cell_type": "code",
   "execution_count": 78,
   "metadata": {
    "collapsed": false
   },
   "outputs": [
    {
     "data": {
      "text/plain": [
       "MLPClassifier(activation='logistic', alpha=0.0001, batch_size='auto',\n",
       "       beta_1=0.9, beta_2=0.999, early_stopping=False, epsilon=1e-08,\n",
       "       hidden_layer_sizes=15, learning_rate='constant',\n",
       "       learning_rate_init=0.001, max_iter=200, momentum=0.9,\n",
       "       nesterovs_momentum=True, power_t=0.5, random_state=42, shuffle=True,\n",
       "       solver='lbfgs', tol=0.0001, validation_fraction=0.1, verbose=False,\n",
       "       warm_start=False)"
      ]
     },
     "execution_count": 78,
     "metadata": {},
     "output_type": "execute_result"
    }
   ],
   "source": [
    "mlp_model = MLPClassifier(hidden_layer_sizes = (15), solver = 'lbfgs', activation = 'logistic', random_state = 42)\n",
    "mlp_model.fit(X_train, y_train)"
   ]
  },
  {
   "cell_type": "code",
   "execution_count": 79,
   "metadata": {
    "collapsed": true
   },
   "outputs": [],
   "source": [
    "y_train_pred = mlp_model.predict(X_train)\n",
    "y_test_pred = mlp_model.predict(X_test)"
   ]
  },
  {
   "cell_type": "code",
   "execution_count": 80,
   "metadata": {
    "collapsed": false
   },
   "outputs": [
    {
     "name": "stdout",
     "output_type": "stream",
     "text": [
      "0.0 0.0\n"
     ]
    }
   ],
   "source": [
    "print(np.mean(y_train != y_train_pred), np.mean(y_test != y_test_pred))"
   ]
  },
  {
   "cell_type": "markdown",
   "metadata": {},
   "source": [
    "После серии экспериментов заметили, что при увеличении количества нейронов в однослойной сети качество обучения не изменяется. Проследим за этим  сети, имеющей 2 скрытых слоя :"
   ]
  },
  {
   "cell_type": "code",
   "execution_count": 81,
   "metadata": {
    "collapsed": false
   },
   "outputs": [
    {
     "data": {
      "text/plain": [
       "MLPClassifier(activation='logistic', alpha=0.0001, batch_size='auto',\n",
       "       beta_1=0.9, beta_2=0.999, early_stopping=False, epsilon=1e-08,\n",
       "       hidden_layer_sizes=(5000, 2), learning_rate='constant',\n",
       "       learning_rate_init=0.001, max_iter=200, momentum=0.9,\n",
       "       nesterovs_momentum=True, power_t=0.5, random_state=42, shuffle=True,\n",
       "       solver='lbfgs', tol=0.0001, validation_fraction=0.1, verbose=False,\n",
       "       warm_start=False)"
      ]
     },
     "execution_count": 81,
     "metadata": {},
     "output_type": "execute_result"
    }
   ],
   "source": [
    "mlp_model = MLPClassifier(hidden_layer_sizes = (5000,2), solver = 'lbfgs', activation = 'logistic', random_state = 42)\n",
    "mlp_model.fit(X_train, y_train)"
   ]
  },
  {
   "cell_type": "code",
   "execution_count": 82,
   "metadata": {
    "collapsed": false
   },
   "outputs": [
    {
     "name": "stdout",
     "output_type": "stream",
     "text": [
      "Ошибка на обучающей выборке:  0.469387755102\n",
      "Ошибка на тестовой выборке:  0.588235294118\n"
     ]
    }
   ],
   "source": [
    "y_train_pred = mlp_model.predict(X_train)\n",
    "y_test_pred = mlp_model.predict(X_test)\n",
    "print(\"Ошибка на обучающей выборке: \", np.mean(y_train != y_train_pred))\n",
    "print(\"Ошибка на тестовой выборке: \", np.mean(y_test != y_test_pred))"
   ]
  },
  {
   "cell_type": "markdown",
   "metadata": {},
   "source": [
    "Заметили, что при добавлении еще одного слоя, значение ошибки на тестовой выборке стало больше , чем на обучающей, значит появилось переобучение. \n",
    "Попробуем избавиться от него с помощью изменения количества нейронов в слоях:\n"
   ]
  },
  {
   "cell_type": "code",
   "execution_count": 83,
   "metadata": {
    "collapsed": false
   },
   "outputs": [
    {
     "data": {
      "text/plain": [
       "MLPClassifier(activation='logistic', alpha=0.0001, batch_size='auto',\n",
       "       beta_1=0.9, beta_2=0.999, early_stopping=False, epsilon=1e-08,\n",
       "       hidden_layer_sizes=(50, 2), learning_rate='constant',\n",
       "       learning_rate_init=0.001, max_iter=200, momentum=0.9,\n",
       "       nesterovs_momentum=True, power_t=0.5, random_state=42, shuffle=True,\n",
       "       solver='lbfgs', tol=0.0001, validation_fraction=0.1, verbose=False,\n",
       "       warm_start=False)"
      ]
     },
     "execution_count": 83,
     "metadata": {},
     "output_type": "execute_result"
    }
   ],
   "source": [
    "mlp_model = MLPClassifier(hidden_layer_sizes = (50,2), solver = 'lbfgs', activation = 'logistic', random_state = 42)\n",
    "mlp_model.fit(X_train, y_train)"
   ]
  },
  {
   "cell_type": "code",
   "execution_count": 84,
   "metadata": {
    "collapsed": false
   },
   "outputs": [
    {
     "name": "stdout",
     "output_type": "stream",
     "text": [
      "Ошибка на обучающей выборке:  0.0\n",
      "Ошибка на тестовой выборке:  0.0\n"
     ]
    }
   ],
   "source": [
    "y_train_pred = mlp_model.predict(X_train)\n",
    "y_test_pred = mlp_model.predict(X_test)\n",
    "print(\"Ошибка на обучающей выборке: \", np.mean(y_train != y_train_pred))\n",
    "print(\"Ошибка на тестовой выборке: \", np.mean(y_test != y_test_pred))"
   ]
  },
  {
   "cell_type": "markdown",
   "metadata": {},
   "source": [
    "Нашли один из способ избежания переробучения на данном наборе данных."
   ]
  },
  {
   "cell_type": "markdown",
   "metadata": {},
   "source": [
    "## Подбор гиперпараметров "
   ]
  },
  {
   "cell_type": "markdown",
   "metadata": {},
   "source": [
    "Необходимо подобрать оптимальное значение для alpha "
   ]
  },
  {
   "cell_type": "code",
   "execution_count": 85,
   "metadata": {
    "collapsed": true
   },
   "outputs": [],
   "source": [
    "alpha_arr = np.logspace(-5, 5, 20)\n",
    "test_err = []\n",
    "train_err = []\n",
    "for alpha in alpha_arr:\n",
    "    mlp_model = MLPClassifier(alpha = alpha, hidden_layer_sizes = (2), \n",
    "                              solver = 'lbfgs', activation = 'logistic', random_state = 5)\n",
    "    mlp_model.fit(X_train, y_train)\n",
    "\n",
    "    y_train_pred = mlp_model.predict(X_train)\n",
    "    y_test_pred = mlp_model.predict(X_test)\n",
    "    train_err.append(np.mean(y_train != y_train_pred))\n",
    "    test_err.append(np.mean(y_test != y_test_pred))"
   ]
  },
  {
   "cell_type": "markdown",
   "metadata": {},
   "source": [
    "Для наглядности построим график зависимости ошибки от  alpha"
   ]
  },
  {
   "cell_type": "code",
   "execution_count": 134,
   "metadata": {
    "collapsed": false
   },
   "outputs": [
    {
     "data": {
      "image/png": "[encoded data removed]",
      "text/plain": [
       "<matplotlib.figure.Figure at 0x208cf535a90>"
      ]
     },
     "metadata": {},
     "output_type": "display_data"
    }
   ],
   "source": [
    "plt.semilogx(alpha_arr, test_err, 'b-o', label = 'test')\n",
    "plt.semilogx(alpha_arr, train_err, 'r-o', label = 'train')\n",
    "plt.xlim([np.max(alpha_arr), np.min(alpha_arr)])\n",
    "plt.title('Error vs. alpha')\n",
    "plt.xlabel('alpha')\n",
    "plt.ylabel('error')\n",
    "plt.legend()\n",
    "pass"
   ]
  },
  {
   "cell_type": "markdown",
   "metadata": {},
   "source": [
    "Минимальные значения ошибки"
   ]
  },
  {
   "cell_type": "code",
   "execution_count": 135,
   "metadata": {
    "collapsed": false
   },
   "outputs": [
    {
     "name": "stdout",
     "output_type": "stream",
     "text": [
      "0.0 0.0\n"
     ]
    }
   ],
   "source": [
    "min_train_err = np.min(train_err)\n",
    "min_test_err = np.min(test_err)\n",
    "print(min_train_err, min_test_err)"
   ]
  },
  {
   "cell_type": "markdown",
   "metadata": {},
   "source": [
    "Оптимальное значение  alpha "
   ]
  },
  {
   "cell_type": "code",
   "execution_count": 136,
   "metadata": {
    "collapsed": false
   },
   "outputs": [
    {
     "name": "stdout",
     "output_type": "stream",
     "text": [
      "1e-05\n"
     ]
    }
   ],
   "source": [
    "alpha_opt = alpha_arr[test_err == min_test_err]\n",
    "alpha_opt = alpha_opt[0]\n",
    "print(alpha_opt)"
   ]
  },
  {
   "cell_type": "markdown",
   "metadata": {},
   "source": [
    "### Рассмотрим результат обучения при оптимальном alpha"
   ]
  },
  {
   "cell_type": "code",
   "execution_count": 137,
   "metadata": {
    "collapsed": false
   },
   "outputs": [
    {
     "name": "stdout",
     "output_type": "stream",
     "text": [
      "0.0\n",
      "0.0\n"
     ]
    }
   ],
   "source": [
    "mlp_model = MLPClassifier(alpha = alpha_opt, hidden_layer_sizes = (2),\n",
    "                          solver = 'lbfgs', activation = 'logistic', random_state = 5)\n",
    "mlp_model.fit(X_train, y_train)\n",
    "\n",
    "y_train_pred = mlp_model.predict(X_train)\n",
    "y_test_pred = mlp_model.predict(X_test)\n",
    "print(np.mean(y_train != y_train_pred))\n",
    "print(np.mean(y_test != y_test_pred))"
   ]
  },
  {
   "cell_type": "code",
   "execution_count": 138,
   "metadata": {
    "collapsed": false
   },
   "outputs": [
    {
     "name": "stdout",
     "output_type": "stream",
     "text": [
      "[[ 7  0]\n",
      " [ 0 10]]\n"
     ]
    }
   ],
   "source": [
    "from sklearn.metrics import confusion_matrix\n",
    "print(confusion_matrix(y_test_pred, y_test))"
   ]
  },
  {
   "cell_type": "markdown",
   "metadata": {},
   "source": [
    "Данная матрица показывает , сколько элементов из одного класса по прогнозам оказались в другом."
   ]
  },
  {
   "cell_type": "markdown",
   "metadata": {},
   "source": [
    "### Подберем оптимальное значение количества нейронов"
   ]
  },
  {
   "cell_type": "code",
   "execution_count": 139,
   "metadata": {
    "collapsed": true
   },
   "outputs": [],
   "source": [
    "neurons_arr = (1, 2, 3, 4, 5, 6, 7, 8, 9, 10, 20, 30, 40, 50, 60, 70, 80, 90, 100)\n",
    "test_err = []\n",
    "train_err = []\n",
    "for neuron in neurons_arr:\n",
    "    mlp_model = MLPClassifier(alpha = alpha_opt, hidden_layer_sizes = (neuron), \n",
    "                              solver = 'lbfgs', activation = 'logistic', random_state = 5)\n",
    "    mlp_model.fit(X_train, y_train)\n",
    "\n",
    "    y_train_pred = mlp_model.predict(X_train)\n",
    "    y_test_pred = mlp_model.predict(X_test)\n",
    "    train_err.append(np.mean(y_train != y_train_pred))\n",
    "    test_err.append(np.mean(y_test != y_test_pred))"
   ]
  },
  {
   "cell_type": "code",
   "execution_count": 140,
   "metadata": {
    "collapsed": false
   },
   "outputs": [
    {
     "data": {
      "image/png": "[encoded data removed]",
      "text/plain": [
       "<matplotlib.figure.Figure at 0x208c221c208>"
      ]
     },
     "metadata": {},
     "output_type": "display_data"
    }
   ],
   "source": [
    "plt.semilogx(neurons_arr, test_err, 'b-o', label = 'test')\n",
    "plt.semilogx(neurons_arr, train_err, 'r-o', label = 'train')\n",
    "plt.xlim([np.min(neurons_arr), np.max(neurons_arr)])\n",
    "plt.title('Error vs neuron count')\n",
    "plt.xlabel('neuron ')\n",
    "plt.ylabel('error')\n",
    "plt.legend()\n",
    "pass"
   ]
  },
  {
   "cell_type": "markdown",
   "metadata": {},
   "source": [
    "Для двух скрытых слоев :"
   ]
  },
  {
   "cell_type": "code",
   "execution_count": 141,
   "metadata": {
    "collapsed": true
   },
   "outputs": [],
   "source": [
    "neurons_arr = (1, 2, 3, 4, 5, 6, 7, 8, 9, 10, 20, 30, 40, 50, 60, 70, 80, 90, 100)\n",
    "test_err = []\n",
    "train_err = []\n",
    "for neuron in neurons_arr:\n",
    "    mlp_model = MLPClassifier(alpha = alpha_opt, hidden_layer_sizes = (neuron, 7), \n",
    "                              solver = 'lbfgs', activation = 'logistic', random_state = 5)\n",
    "    mlp_model.fit(X_train, y_train)\n",
    "\n",
    "    y_train_pred = mlp_model.predict(X_train)\n",
    "    y_test_pred = mlp_model.predict(X_test)\n",
    "    train_err.append(np.mean(y_train != y_train_pred))\n",
    "    test_err.append(np.mean(y_test != y_test_pred))"
   ]
  },
  {
   "cell_type": "code",
   "execution_count": 142,
   "metadata": {
    "collapsed": false
   },
   "outputs": [
    {
     "data": {
      "image/png": "[encoded data removed]",
      "text/plain": [
       "<matplotlib.figure.Figure at 0x208becc3da0>"
      ]
     },
     "metadata": {},
     "output_type": "display_data"
    }
   ],
   "source": [
    "plt.semilogx(neurons_arr, test_err, 'b-o', label = 'test')\n",
    "plt.semilogx(neurons_arr, train_err, 'r-o', label = 'train')\n",
    "plt.xlim([np.min(neurons_arr), np.max(neurons_arr)])\n",
    "plt.title('Error vs neuron count')\n",
    "plt.xlabel('neuron ')\n",
    "plt.ylabel('error')\n",
    "plt.legend()\n",
    "pass"
   ]
  },
  {
   "cell_type": "markdown",
   "metadata": {
    "collapsed": true
   },
   "source": [
    "# Home work 3"
   ]
  },
  {
   "cell_type": "markdown",
   "metadata": {},
   "source": [
    "#### 1) Random forest"
   ]
  },
  {
   "cell_type": "code",
   "execution_count": 131,
   "metadata": {
    "collapsed": false
   },
   "outputs": [],
   "source": [
    "from sklearn.model_selection import train_test_split\n",
    "X_train, X_test, y_train, y_test = train_test_split(X, y, test_size = 0.33, random_state = 0)"
   ]
  },
  {
   "cell_type": "code",
   "execution_count": 132,
   "metadata": {
    "collapsed": false
   },
   "outputs": [
    {
     "data": {
      "text/plain": [
       "RandomForestClassifier(bootstrap=True, class_weight=None, criterion='gini',\n",
       "            max_depth=None, max_features='auto', max_leaf_nodes=None,\n",
       "            min_impurity_split=1e-07, min_samples_leaf=1,\n",
       "            min_samples_split=2, min_weight_fraction_leaf=0.0,\n",
       "            n_estimators=4, n_jobs=1, oob_score=False, random_state=None,\n",
       "            verbose=0, warm_start=False)"
      ]
     },
     "execution_count": 132,
     "metadata": {},
     "output_type": "execute_result"
    }
   ],
   "source": [
    "from sklearn import ensemble\n",
    "rf_model = ensemble.RandomForestClassifier(n_estimators = 4)\n",
    "rf_model.fit(X_train, y_train)"
   ]
  },
  {
   "cell_type": "code",
   "execution_count": 133,
   "metadata": {
    "collapsed": false
   },
   "outputs": [
    {
     "name": "stdout",
     "output_type": "stream",
     "text": [
      "0.0 0.0909090909091\n"
     ]
    }
   ],
   "source": [
    "err_train = np.mean(y_train != rf_model.predict(X_train))\n",
    "err_test  = np.mean(y_test  != rf_model.predict(X_test))\n",
    "\n",
    "print(err_train, err_test)"
   ]
  },
  {
   "cell_type": "markdown",
   "metadata": {},
   "source": [
    "Наблюдаем переобучение, так как ошибка на тестовой выборке больше, чем на обучающей."
   ]
  },
  {
   "cell_type": "markdown",
   "metadata": {},
   "source": [
    "##### Рассмотрит зависимость ошибки от количества деревьев"
   ]
  },
  {
   "cell_type": "code",
   "execution_count": 134,
   "metadata": {
    "collapsed": false
   },
   "outputs": [
    {
     "name": "stderr",
     "output_type": "stream",
     "text": [
      "C:\\ProgramData\\Anaconda3\\lib\\site-packages\\sklearn\\ensemble\\forest.py:439: UserWarning: Some inputs do not have OOB scores. This probably means too few trees were used to compute any reliable oob estimates.\n",
      "  warn(\"Some inputs do not have OOB scores. \"\n",
      "C:\\ProgramData\\Anaconda3\\lib\\site-packages\\sklearn\\ensemble\\forest.py:444: RuntimeWarning: invalid value encountered in true_divide\n",
      "  predictions[k].sum(axis=1)[:, np.newaxis])\n"
     ]
    }
   ],
   "source": [
    "trees_arr = np.arange(10, 100, 5)\n",
    "test_err = []\n",
    "train_err = []\n",
    "oob_err = []\n",
    "for trees in trees_arr:\n",
    "    rf_model = ensemble.RandomForestClassifier(n_estimators = trees, oob_score=True)\n",
    "    rf_model.fit(X_train, y_train)\n",
    "    train_err.append(np.mean(y_train != rf_model.predict(X_train)))\n",
    "    test_err.append(np.mean(y_test  != rf_model.predict(X_test)))\n",
    "    oob_err.append(1 - rf_model.oob_score_)"
   ]
  },
  {
   "cell_type": "code",
   "execution_count": 135,
   "metadata": {
    "collapsed": false
   },
   "outputs": [
    {
     "data": {
      "image/png": "[encoded data removed]",
      "text/plain": [
       "<matplotlib.figure.Figure at 0x28c6478b438>"
      ]
     },
     "metadata": {},
     "output_type": "display_data"
    }
   ],
   "source": [
    "plt.plot(trees_arr, train_err, 'b-o', label = 'train')\n",
    "plt.plot(trees_arr, test_err, 'r-o', label = 'test')\n",
    "plt.plot(trees_arr, oob_err, 'g-o', label = 'oob')\n",
    "plt.xlim([np.max(trees_arr), np.min(trees_arr)])\n",
    "plt.title('Зависимость ошибки от количества деревьев')\n",
    "plt.xlabel('trees')\n",
    "plt.ylabel('error')\n",
    "plt.legend()\n",
    "pass"
   ]
  },
  {
   "cell_type": "markdown",
   "metadata": {},
   "source": [
    "Видим, что присутсвует переобучение при количестве деревьев равное 25-40(среднее значение после серии экспериментов). Минимум  oob ошибки наблюдается от 35 деревьев."
   ]
  },
  {
   "cell_type": "code",
   "execution_count": 238,
   "metadata": {
    "collapsed": false
   },
   "outputs": [
    {
     "name": "stdout",
     "output_type": "stream",
     "text": [
      "[10 15 20 25 30 35 40 45 50 55 60 65 70 75 80 85 90 95]\n"
     ]
    }
   ],
   "source": [
    "print(trees_arr)"
   ]
  },
  {
   "cell_type": "markdown",
   "metadata": {},
   "source": [
    "Минимальное значение ошибки"
   ]
  },
  {
   "cell_type": "code",
   "execution_count": 136,
   "metadata": {
    "collapsed": false
   },
   "outputs": [
    {
     "name": "stdout",
     "output_type": "stream",
     "text": [
      "0.0 0.0\n"
     ]
    }
   ],
   "source": [
    "min_train_err = np.min(train_err)\n",
    "min_test_err = np.min(test_err)\n",
    "print(min_train_err, min_test_err)"
   ]
  },
  {
   "cell_type": "markdown",
   "metadata": {},
   "source": [
    "Оптимальное количество деревьев"
   ]
  },
  {
   "cell_type": "code",
   "execution_count": 137,
   "metadata": {
    "collapsed": false
   },
   "outputs": [
    {
     "name": "stdout",
     "output_type": "stream",
     "text": [
      "10\n"
     ]
    }
   ],
   "source": [
    "trees_opt = trees_arr[test_err == min_test_err]\n",
    "trees_opt = trees_opt[0]\n",
    "print(trees_opt)"
   ]
  },
  {
   "cell_type": "markdown",
   "metadata": {},
   "source": [
    "#### 2)Extremely Randomized Trees"
   ]
  },
  {
   "cell_type": "code",
   "execution_count": 138,
   "metadata": {
    "collapsed": false
   },
   "outputs": [
    {
     "data": {
      "text/plain": [
       "ExtraTreesClassifier(bootstrap=False, class_weight=None, criterion='gini',\n",
       "           max_depth=None, max_features='auto', max_leaf_nodes=None,\n",
       "           min_impurity_split=1e-07, min_samples_leaf=1,\n",
       "           min_samples_split=2, min_weight_fraction_leaf=0.0,\n",
       "           n_estimators=1, n_jobs=1, oob_score=False, random_state=None,\n",
       "           verbose=0, warm_start=False)"
      ]
     },
     "execution_count": 138,
     "metadata": {},
     "output_type": "execute_result"
    }
   ],
   "source": [
    "ert_model = ensemble.ExtraTreesClassifier(n_estimators = 1)\n",
    "ert_model.fit(X_train, y_train)"
   ]
  },
  {
   "cell_type": "code",
   "execution_count": 139,
   "metadata": {
    "collapsed": false
   },
   "outputs": [
    {
     "name": "stdout",
     "output_type": "stream",
     "text": [
      "0.0 0.0909090909091\n"
     ]
    }
   ],
   "source": [
    "err_train1 = np.mean(y_train != ert_model.predict(X_train))\n",
    "err_test1  = np.mean(y_test  != ert_model.predict(X_test))\n",
    "\n",
    "print(err_train, err_test)"
   ]
  },
  {
   "cell_type": "markdown",
   "metadata": {},
   "source": [
    "Наблюдается переобучение. Проанализируем записимость ошибки от количества деревьев."
   ]
  },
  {
   "cell_type": "code",
   "execution_count": 140,
   "metadata": {
    "collapsed": false
   },
   "outputs": [
    {
     "name": "stderr",
     "output_type": "stream",
     "text": [
      "C:\\ProgramData\\Anaconda3\\lib\\site-packages\\sklearn\\ensemble\\forest.py:439: UserWarning: Some inputs do not have OOB scores. This probably means too few trees were used to compute any reliable oob estimates.\n",
      "  warn(\"Some inputs do not have OOB scores. \"\n",
      "C:\\ProgramData\\Anaconda3\\lib\\site-packages\\sklearn\\ensemble\\forest.py:444: RuntimeWarning: invalid value encountered in true_divide\n",
      "  predictions[k].sum(axis=1)[:, np.newaxis])\n",
      "C:\\ProgramData\\Anaconda3\\lib\\site-packages\\sklearn\\ensemble\\forest.py:439: UserWarning: Some inputs do not have OOB scores. This probably means too few trees were used to compute any reliable oob estimates.\n",
      "  warn(\"Some inputs do not have OOB scores. \"\n",
      "C:\\ProgramData\\Anaconda3\\lib\\site-packages\\sklearn\\ensemble\\forest.py:444: RuntimeWarning: invalid value encountered in true_divide\n",
      "  predictions[k].sum(axis=1)[:, np.newaxis])\n"
     ]
    }
   ],
   "source": [
    "trees_arr1 = np.arange(1, 100, 5)\n",
    "test_err1 = []\n",
    "train_err1 = []\n",
    "oob_err1 = []\n",
    "for trees in trees_arr1:\n",
    "    ert = ensemble.ExtraTreesClassifier(n_estimators = trees, oob_score=True, bootstrap=True)\n",
    "    ert.fit(X_train, y_train)\n",
    "    train_err1.append(np.mean(y_train != ert.predict(X_train)))\n",
    "    test_err1.append(np.mean(y_test  != ert.predict(X_test)))\n",
    "    oob_err1.append(1 - ert.oob_score_)"
   ]
  },
  {
   "cell_type": "code",
   "execution_count": 141,
   "metadata": {
    "collapsed": false
   },
   "outputs": [
    {
     "data": {
      "image/png": "[encoded data removed]",
      "text/plain": [
       "<matplotlib.figure.Figure at 0x28c6347bc88>"
      ]
     },
     "metadata": {},
     "output_type": "display_data"
    }
   ],
   "source": [
    "plt.plot(trees_arr1, train_err1, 'b-o', label = 'train')\n",
    "plt.plot(trees_arr1, test_err1, 'r-o', label = 'test')\n",
    "plt.plot(trees_arr1, oob_err1, 'g-o', label = 'oob')\n",
    "plt.xlim([np.max(trees_arr1), np.min(trees_arr1)])\n",
    "plt.title('Error vs. number of trees')\n",
    "plt.xlabel('trees')\n",
    "plt.ylabel('error')\n",
    "plt.legend()\n",
    "pass"
   ]
  },
  {
   "cell_type": "markdown",
   "metadata": {},
   "source": [
    "Наблюдаем переобучение при количестве деревьев 55-65. Минимум ошибки  obb наблюдается при 30 деревьев."
   ]
  },
  {
   "cell_type": "markdown",
   "metadata": {},
   "source": [
    "Минимальное значение ошибки"
   ]
  },
  {
   "cell_type": "code",
   "execution_count": 142,
   "metadata": {
    "collapsed": false
   },
   "outputs": [
    {
     "name": "stdout",
     "output_type": "stream",
     "text": [
      "0.0 0.0\n"
     ]
    }
   ],
   "source": [
    "min_train_err = np.min(train_err)\n",
    "min_test_err = np.min(test_err)\n",
    "print(min_train_err, min_test_err)"
   ]
  },
  {
   "cell_type": "markdown",
   "metadata": {},
   "source": [
    "Оптимальное количество дереьвев "
   ]
  },
  {
   "cell_type": "code",
   "execution_count": 143,
   "metadata": {
    "collapsed": false
   },
   "outputs": [
    {
     "name": "stdout",
     "output_type": "stream",
     "text": [
      "10\n"
     ]
    }
   ],
   "source": [
    "trees_opt = trees_arr[test_err == min_test_err]\n",
    "trees_opt = trees_opt[0]\n",
    "print(trees_opt)"
   ]
  },
  {
   "cell_type": "markdown",
   "metadata": {},
   "source": [
    "Сравним ошибки на тестовых выборках вышеизложенных моделей."
   ]
  },
  {
   "cell_type": "code",
   "execution_count": 145,
   "metadata": {
    "collapsed": false
   },
   "outputs": [
    {
     "data": {
      "image/png": "[encoded data removed]",
      "text/plain": [
       "<matplotlib.figure.Figure at 0x28c63282898>"
      ]
     },
     "metadata": {},
     "output_type": "display_data"
    }
   ],
   "source": [
    "plt.plot(trees_arr, test_err, 'b-o', label = 'train')\n",
    "plt.plot(trees_arr1, test_err1, 'r-o', label = 'train')\n",
    "#plt.plot(trees_arr, test_err, 'r-o', label = 'test')\n",
    "#plt.plot(trees_arr, oob_err, 'g-o', label = 'oob')\n",
    "plt.xlim([np.max(trees_arr), np.min(trees_arr)])\n",
    "plt.title('Error vs. number of trees')\n",
    "plt.xlabel('trees')\n",
    "plt.ylabel('error')\n",
    "plt.legend()\n",
    "pass"
   ]
  },
  {
   "cell_type": "markdown",
   "metadata": {},
   "source": [
    "#### 3) Adaboost"
   ]
  },
  {
   "cell_type": "code",
   "execution_count": 167,
   "metadata": {
    "collapsed": true
   },
   "outputs": [],
   "source": [
    "X_train, X_test, y_train, y_test = train_test_split(X, y, test_size = 0.1, random_state = 0)"
   ]
  },
  {
   "cell_type": "code",
   "execution_count": 168,
   "metadata": {
    "collapsed": false
   },
   "outputs": [
    {
     "data": {
      "text/plain": [
       "AdaBoostClassifier(algorithm='SAMME.R', base_estimator=None,\n",
       "          learning_rate=1.0, n_estimators=50, random_state=None)"
      ]
     },
     "execution_count": 168,
     "metadata": {},
     "output_type": "execute_result"
    }
   ],
   "source": [
    "ab_model = ensemble.AdaBoostClassifier(n_estimators = 50)\n",
    "ab_model.fit(X_train, y_train)"
   ]
  },
  {
   "cell_type": "code",
   "execution_count": 169,
   "metadata": {
    "collapsed": true
   },
   "outputs": [],
   "source": [
    "err_ab_train1 = []\n",
    "for y_train_pred in ab_model.predict(X_train):\n",
    "    err_ab_train1.append(np.mean(y_train_pred != y_train))\n",
    "    \n",
    "err_ab_test1 = []\n",
    "for y_test_pred in ab_model.predict(X_test):\n",
    "    err_ab_test1.append(np.mean(y_test_pred != y_test))"
   ]
  },
  {
   "cell_type": "code",
   "execution_count": 170,
   "metadata": {
    "collapsed": false
   },
   "outputs": [
    {
     "name": "stdout",
     "output_type": "stream",
     "text": [
      "0.0 0.0\n"
     ]
    }
   ],
   "source": [
    "err_train = np.mean(y_train != ab_model.predict(X_train))\n",
    "err_test  = np.mean(y_test  != ab_model.predict(X_test))\n",
    "print(err_train, err_test)"
   ]
  },
  {
   "cell_type": "code",
   "execution_count": 171,
   "metadata": {
    "collapsed": false
   },
   "outputs": [],
   "source": [
    "tree_arr = np.arange(1, 50, 5)\n",
    "test_err = []\n",
    "train_err = []\n",
    "for tree in tree_arr:\n",
    "    gbt = ensemble.GradientBoostingClassifier(n_estimators = tree)\n",
    "    gbt.fit(X_train, y_train)\n",
    "    \n",
    "    y_train_pred = gbt.predict(X_train)\n",
    "    y_test_pred = gbt.predict(X_test)\n",
    "    train_err.append(np.mean(y_train != y_train_pred))\n",
    "    test_err.append(np.mean(y_test != y_test_pred))"
   ]
  },
  {
   "cell_type": "code",
   "execution_count": 172,
   "metadata": {
    "collapsed": false
   },
   "outputs": [
    {
     "data": {
      "image/png": "[encoded data removed]",
      "text/plain": [
       "<matplotlib.figure.Figure at 0x28c65ef1ac8>"
      ]
     },
     "metadata": {},
     "output_type": "display_data"
    }
   ],
   "source": [
    "plt.plot(tree_arr, train_err, 'b-o', label = 'train')\n",
    "plt.plot(tree_arr, test_err, 'r-o', label = 'test')\n",
    "plt.xlim([np.min(tree_arr), np.max(tree_arr)])\n",
    "plt.title('Зависимость ошибки от количества деревьев')\n",
    "plt.xlabel('количество дереьвев')\n",
    "plt.ylabel('ошибка')\n",
    "plt.legend()\n",
    "pass"
   ]
  },
  {
   "cell_type": "markdown",
   "metadata": {},
   "source": [
    "При переборе различных параметров разбиения, а так же параметров модели, получили постоянную ошибку равную нулю  при разном количестве деревьев."
   ]
  },
  {
   "cell_type": "markdown",
   "metadata": {},
   "source": [
    "Минимальное значение ошибки"
   ]
  },
  {
   "cell_type": "code",
   "execution_count": 258,
   "metadata": {
    "collapsed": false
   },
   "outputs": [
    {
     "name": "stdout",
     "output_type": "stream",
     "text": [
      "0.0 0.0\n"
     ]
    }
   ],
   "source": [
    "min_train_err = np.min(train_err)\n",
    "min_test_err = np.min(test_err)\n",
    "print(min_train_err, min_test_err)"
   ]
  },
  {
   "cell_type": "markdown",
   "metadata": {},
   "source": [
    "#### 4) GBT"
   ]
  },
  {
   "cell_type": "code",
   "execution_count": 181,
   "metadata": {
    "collapsed": true
   },
   "outputs": [],
   "source": [
    "X_train, X_test, y_train, y_test = train_test_split(X, y, test_size = 0.1, random_state = 0)\n",
    "n_estimators = 100"
   ]
  },
  {
   "cell_type": "code",
   "execution_count": 182,
   "metadata": {
    "collapsed": false
   },
   "outputs": [
    {
     "data": {
      "text/plain": [
       "GradientBoostingClassifier(criterion='friedman_mse', init=None,\n",
       "              learning_rate=0.4, loss='exponential', max_depth=2,\n",
       "              max_features=None, max_leaf_nodes=None,\n",
       "              min_impurity_split=1e-07, min_samples_leaf=1,\n",
       "              min_samples_split=2, min_weight_fraction_leaf=0.0,\n",
       "              n_estimators=100, presort='auto', random_state=None,\n",
       "              subsample=1.0, verbose=0, warm_start=False)"
      ]
     },
     "execution_count": 182,
     "metadata": {},
     "output_type": "execute_result"
    }
   ],
   "source": [
    "gbt_model = ensemble.GradientBoostingClassifier(n_estimators = n_estimators, max_depth = 2, loss = 'exponential', learning_rate= 0.4)\n",
    "gbt_model.fit(X_train, y_train)"
   ]
  },
  {
   "cell_type": "code",
   "execution_count": 183,
   "metadata": {
    "collapsed": false
   },
   "outputs": [],
   "source": [
    "err_gbt_train1 = []\n",
    "for y_train_pred in gbt_model.predict(X_train):\n",
    "    err_gbt_train1.append(np.mean(y_train_pred != y_train))\n",
    "    \n",
    "err_gbt_test1 = []\n",
    "for y_test_pred in gbt_model.predict(X_test):\n",
    "    err_gbt_test1.append(np.mean(y_test_pred != y_test))\n"
   ]
  },
  {
   "cell_type": "code",
   "execution_count": 184,
   "metadata": {
    "collapsed": false
   },
   "outputs": [],
   "source": [
    "tree_arr = np.arange(1, 50, 5)\n",
    "test_err = []\n",
    "train_err = []\n",
    "for tree in tree_arr:\n",
    "    gbt = ensemble.GradientBoostingClassifier(n_estimators = tree)\n",
    "    gbt.fit(X_train, y_train)\n",
    "    \n",
    "    y_train_pred = gbt.predict(X_train)\n",
    "    y_test_pred = gbt.predict(X_test)\n",
    "    train_err.append(np.mean(y_train != y_train_pred))\n",
    "    test_err.append(np.mean(y_test != y_test_pred))"
   ]
  },
  {
   "cell_type": "code",
   "execution_count": 185,
   "metadata": {
    "collapsed": false
   },
   "outputs": [
    {
     "data": {
      "image/png": "[encoded data removed]",
      "text/plain": [
       "<matplotlib.figure.Figure at 0x28c65f92438>"
      ]
     },
     "metadata": {},
     "output_type": "display_data"
    }
   ],
   "source": [
    "plt.plot(tree_arr, train_err, 'b-o', label = 'train')\n",
    "plt.plot(tree_arr, test_err, 'r-o', label = 'test')\n",
    "plt.xlim([np.min(tree_arr), np.max(tree_arr)])\n",
    "plt.title('Зависимость ошибки от количества деревьев')\n",
    "plt.xlabel('количество дереьвев')\n",
    "plt.ylabel('ошибка')\n",
    "plt.legend()\n",
    "pass"
   ]
  },
  {
   "cell_type": "markdown",
   "metadata": {},
   "source": [
    "При переборе различных параметров разбиения, а так же параметров модели, получили постоянную ошибку равную нулю  при разном количестве деревьев."
   ]
  },
  {
   "cell_type": "code",
   "execution_count": 186,
   "metadata": {
    "collapsed": false
   },
   "outputs": [
    {
     "name": "stdout",
     "output_type": "stream",
     "text": [
      "[10 15 20 25 30 35 40 45 50 55 60 65 70 75 80 85 90 95]\n"
     ]
    }
   ],
   "source": [
    "print(trees_arr)"
   ]
  },
  {
   "cell_type": "markdown",
   "metadata": {},
   "source": [
    "Минимальное значение ошибки"
   ]
  },
  {
   "cell_type": "code",
   "execution_count": 187,
   "metadata": {
    "collapsed": false
   },
   "outputs": [
    {
     "name": "stdout",
     "output_type": "stream",
     "text": [
      "0.0 0.0\n"
     ]
    }
   ],
   "source": [
    "min_train_err = np.min(train_err)\n",
    "min_test_err = np.min(test_err)\n",
    "print(min_train_err, min_test_err)"
   ]
  },
  {
   "cell_type": "markdown",
   "metadata": {},
   "source": [
    "Оптимальное количество деревьев"
   ]
  },
  {
   "cell_type": "code",
   "execution_count": 188,
   "metadata": {
    "collapsed": false
   },
   "outputs": [
    {
     "name": "stdout",
     "output_type": "stream",
     "text": [
      "10\n"
     ]
    },
    {
     "name": "stderr",
     "output_type": "stream",
     "text": [
      "C:\\ProgramData\\Anaconda3\\lib\\site-packages\\ipykernel\\__main__.py:1: VisibleDeprecationWarning: boolean index did not match indexed array along dimension 0; dimension is 18 but corresponding boolean dimension is 10\n",
      "  if __name__ == '__main__':\n"
     ]
    }
   ],
   "source": [
    "trees_opt = trees_arr[test_err == min_test_err]\n",
    "trees_opt = trees_opt[0]\n",
    "print(trees_opt)"
   ]
  },
  {
   "cell_type": "code",
   "execution_count": null,
   "metadata": {
    "collapsed": true
   },
   "outputs": [],
   "source": []
  }
 ],
 "metadata": {
  "kernelspec": {
   "display_name": "Python 3",
   "language": "python",
   "name": "python3"
  },
  "language_info": {
   "codemirror_mode": {
    "name": "ipython",
    "version": 3
   },
   "file_extension": ".py",
   "mimetype": "text/x-python",
   "name": "python",
   "nbconvert_exporter": "python",
   "pygments_lexer": "ipython3",
   "version": "3.6.0"
  }
 },
 "nbformat": 4,
 "nbformat_minor": 2
}
